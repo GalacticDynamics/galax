{
 "cells": [
  {
   "cell_type": "code",
   "execution_count": 31,
   "id": "ce20e732-c3cf-4890-8b5e-11fabbb32e25",
   "metadata": {},
   "outputs": [],
   "source": [
    "from functools import partial\n",
    "\n",
    "from astropy.constants import G\n",
    "import astropy.coordinates as coord\n",
    "import astropy.units as u\n",
    "import matplotlib as mpl\n",
    "import matplotlib.pyplot as plt\n",
    "%matplotlib inline\n",
    "import numpy as np\n",
    "\n",
    "# gala\n",
    "import gala.coordinates as gc\n",
    "import gala.dynamics as gd\n",
    "import gala.potential as gp\n",
    "from gala.units import dimensionless, galactic, UnitSystem\n",
    "import time\n",
    "\n",
    "import jax\n",
    "import jax.numpy as jnp\n",
    "\n",
    "from jax.config import config\n",
    "config.update(\"jax_enable_x64\", True)\n",
    "\n",
    "import scienceplots\n",
    "import cmasher as cmr\n",
    "plt.style.use('science')\n",
    "import jax.random as random \n",
    "from matplotlib.patches import Ellipse\n",
    "import jax.scipy.stats as statsjax\n",
    "\n",
    "usys = UnitSystem(u.kpc, u.Myr, u.Msun, u.radian)\n",
    "\n",
    "import JaxStreams_diffrax as JaxStreams"
   ]
  },
  {
   "cell_type": "code",
   "execution_count": 32,
   "id": "86db6a76-819c-4da9-958b-c8b80e457b77",
   "metadata": {},
   "outputs": [],
   "source": [
    "bar_pattern = ((-60.0*u.km/u.s)/u.kpc).to(1.0/u.Myr).value #in rad / Myr\n",
    "\n",
    "params_global_potential = {'m_disk':5.0e10, 'a_disk': 3.0, 'b_disk': 0.25, 'm_NFW': 1.0e12,\n",
    "                          'r_s_NFW': 15.0, 'bar_m':1.0e10, 'bar_a':1.0, 'bar_b':1.0, 'bar_c':0.5, 'bar_Omega': bar_pattern}\n",
    "\n",
    "pot_disk = JaxStreams.MiyamotoNagaiDisk(m=params_global_potential['m_disk'], a=params_global_potential['a_disk'],\n",
    "                                       b=params_global_potential['b_disk'],units=usys)\n",
    "pot_NFW = JaxStreams.NFWPotential(m=params_global_potential['m_NFW'], r_s=params_global_potential['r_s_NFW'],units=usys)\n",
    "\n",
    "pot_Bar = JaxStreams.BarPotential(m=params_global_potential['bar_m'], a=params_global_potential['bar_a'],\n",
    "                                 b=params_global_potential['bar_b'], c=params_global_potential['bar_c'],Omega=params_global_potential['bar_Omega'],units=usys)\n",
    "\n",
    "## Combine potentials\n",
    "potential_list = [pot_disk,pot_NFW,pot_Bar]\n",
    "pot = JaxStreams.Potential_Combine(potential_list=potential_list,units=usys)\n"
   ]
  },
  {
   "cell_type": "code",
   "execution_count": 33,
   "id": "5846c218-d148-4d67-9850-b15d87a84884",
   "metadata": {},
   "outputs": [],
   "source": [
    "pal5_c = coord.SkyCoord(ra=229.018*u.degree, dec=-0.124*u.degree,\n",
    "                         distance=22.9*u.kpc,\n",
    "                         pm_ra_cosdec=-2.296*u.mas/u.yr,\n",
    "                         pm_dec=-2.257*u.mas/u.yr,\n",
    "                         radial_velocity=-58.7*u.km/u.s)\n",
    "rep = pal5_c.transform_to(coord.Galactocentric).data\n",
    "pal5_w0 = gd.PhaseSpacePosition(rep)\n",
    "\n",
    "wf = jnp.hstack([pal5_w0.pos.xyz.T.value,pal5_w0.vel.d_xyz.to(u.kpc/u.Myr).value])"
   ]
  },
  {
   "cell_type": "code",
   "execution_count": 34,
   "id": "81e2b9fd-afc2-4905-aedf-03dee87e8655",
   "metadata": {},
   "outputs": [],
   "source": [
    "t0 = 0.\n",
    "dt = .5\n",
    "n_steps = 4_000 #this is really how many particles you will have in one arm of the stream\n",
    "ts = jnp.linspace(0,4000.,n_steps)###jnp.arange(t0, t0 + dt * n_steps + dt/10., dt)\n",
    "t_back = -ts\n",
    "w_back = pot.orbit_integrator_run(wf,t0=0.0,t1=t_back.min(),ts=None)[0]\n",
    "ts_forward = jnp.linspace(t_back.min(),0,len(ts))\n",
    "w_forward = pot.orbit_integrator_run(w_back,t0=t_back.min(),t1=0.0,ts=None)[0]"
   ]
  },
  {
   "cell_type": "code",
   "execution_count": 35,
   "id": "37180156-3a42-4d30-b1c4-8e3bca760dc4",
   "metadata": {},
   "outputs": [
    {
     "data": {
      "text/plain": [
       "Array([-4.00000000e+03, -3.99899975e+03, -3.99799950e+03, ...,\n",
       "       -2.00050013e+00, -1.00025006e+00,  0.00000000e+00], dtype=float64)"
      ]
     },
     "execution_count": 35,
     "metadata": {},
     "output_type": "execute_result"
    }
   ],
   "source": [
    "ts_forward"
   ]
  },
  {
   "cell_type": "code",
   "execution_count": 36,
   "id": "1c881f25-4b64-4622-a14f-91b320d91839",
   "metadata": {},
   "outputs": [
    {
     "name": "stdout",
     "output_type": "stream",
     "text": [
      "PERCENT error in position: [ 0.00812824  0.64895071  0.00157637 -0.05170073 -0.00079924 -0.30019444]\n"
     ]
    }
   ],
   "source": [
    "print('PERCENT error in position:',100*(w_forward-wf)/wf)"
   ]
  },
  {
   "cell_type": "code",
   "execution_count": 37,
   "id": "345c2df3-e286-491b-ae3d-571f3620551d",
   "metadata": {},
   "outputs": [
    {
     "name": "stdout",
     "output_type": "stream",
     "text": [
      "13.093166828155518\n"
     ]
    }
   ],
   "source": [
    "## Now generate a mock stream along the above orbit\n",
    "M_sat = 2.5e4 #progenitor mass\n",
    "start = time.time()\n",
    "lead_arm, trail_arm = pot.gen_stream_final(ts_forward, w_back, M_sat,)\n",
    "end = time.time()\n",
    "print(end-start)"
   ]
  },
  {
   "cell_type": "code",
   "execution_count": 38,
   "id": "abbd15b3-46f0-4009-a60a-29718f8f9b00",
   "metadata": {},
   "outputs": [
    {
     "data": {
      "image/png": "[encoded data removed]",
      "text/plain": [
       "<Figure size 252x189 with 1 Axes>"
      ]
     },
     "metadata": {
      "needs_background": "light"
     },
     "output_type": "display_data"
    }
   ],
   "source": [
    "plt.scatter(lead_arm[:,0],lead_arm[:,1],s=0.1,rasterized=True)\n",
    "plt.scatter(trail_arm[:,0],trail_arm[:,1],s=0.1,rasterized=True)\n",
    "stream = jnp.vstack([lead_arm,trail_arm])"
   ]
  },
  {
   "cell_type": "code",
   "execution_count": 39,
   "id": "90fa0652-757f-4250-94a0-1ae6ed048283",
   "metadata": {},
   "outputs": [
    {
     "data": {
      "text/plain": [
       "<matplotlib.collections.PathCollection at 0x7faff33a40d0>"
      ]
     },
     "execution_count": 39,
     "metadata": {},
     "output_type": "execute_result"
    },
    {
     "data": {
      "image/png": "[encoded data removed]",
      "text/plain": [
       "<Figure size 252x189 with 1 Axes>"
      ]
     },
     "metadata": {
      "needs_background": "light"
     },
     "output_type": "display_data"
    }
   ],
   "source": [
    "kde = statsjax.gaussian_kde(stream[:,:3].T,bw_method=jnp.sqrt(.001**2 + .1**2))\n",
    "key = jax.random.PRNGKey(3)\n",
    "samps = kde.resample(key,[len(stream)]).T\n",
    "plt.scatter(samps[:,0],samps[:,1],s=.4)"
   ]
  },
  {
   "cell_type": "code",
   "execution_count": 40,
   "id": "339decf3-003b-4002-bf8f-2028d4384697",
   "metadata": {},
   "outputs": [],
   "source": [
    "@jax.jit\n",
    "def gen_observed_stream(params,ts,w0,M_sat):\n",
    "    pot_disk = JaxStreams.MiyamotoNagaiDisk(m=params['m_disk'], a=params['a_disk'],\n",
    "                                               b=params['b_disk'],units=usys)\n",
    "    pot_NFW = JaxStreams.NFWPotential(m=params['m_NFW'], r_s=params['r_s_NFW'],units=usys)\n",
    "    \n",
    "    pot_Bar = JaxStreams.BarPotential(m=params['bar_m'], a=params['bar_a'],\n",
    "                                 b=params['bar_b'], c=params['bar_c'],Omega=params['bar_Omega'],units=usys)\n",
    "\n",
    "    ## Combine potentials\n",
    "    potential_list = [pot_disk,pot_NFW,pot_Bar]\n",
    "    pot = JaxStreams.Potential_Combine(potential_list=potential_list,units=usys)\n",
    "    \n",
    "    ## Generate a stream. This will be the \"observed\" stream, i.e., the DATA\n",
    "    lead_arm, trail_arm = pot.gen_stream_final(ts, w0, M_sat,) \n",
    "    \n",
    "    return lead_arm, trail_arm #jnp.sum(lead_arm_obs**2 + trail_arm_obs**2)\n",
    "@jax.jit\n",
    "def compare_streams(params,ts,w0,M_sat):\n",
    "    ## first generate data stream (no grad tracking)\n",
    "    lead_arm, trail_arm = gen_observed_stream(params,ts,w0,M_sat)\n",
    "    lead_arm_obs, trail_arm_obs = jax.lax.stop_gradient(lead_arm), jax.lax.stop_gradient(trail_arm)\n",
    "    \n",
    "    stream_obs = jnp.vstack([lead_arm_obs,trail_arm_obs])\n",
    "    stream = jnp.vstack([lead_arm,trail_arm])\n",
    "    \n",
    "    #kde = statsjax.gaussian_kde(stream_obs[:,:3].T,bw_method=jnp.sqrt(.001**2 + .1**2))\n",
    "    #log_like = jnp.sum(kde.logpdf(stream[:,:3].T)) \n",
    "    return -jnp.sum(jnp.square(stream-stream_obs))#log_like#-jnp.sum( (lead_arm-lead_arm_obs)**2 + (trail_arm-trail_arm_obs)**2 )\n",
    "    \n",
    "    \n",
    "@jax.jit\n",
    "def first_deriv_func(params,ts,w0,M_sat):\n",
    "    return jax.jacfwd(compare_streams,argnums=0)(params,ts,w0,M_sat)\n",
    "\n",
    "    \n",
    "@jax.jit\n",
    "def second_deriv_func(params,ts,w0,M_sat):\n",
    "    return jax.jacfwd(first_deriv_func)(params,ts,w0,M_sat)"
   ]
  },
  {
   "cell_type": "code",
   "execution_count": 41,
   "id": "a86b96e0-38c2-407a-a4d0-0e876ddc0556",
   "metadata": {},
   "outputs": [
    {
     "data": {
      "text/plain": [
       "Array(-0., dtype=float64)"
      ]
     },
     "execution_count": 41,
     "metadata": {},
     "output_type": "execute_result"
    }
   ],
   "source": [
    "compare_streams(params_global_potential,ts_forward,w_back,M_sat)"
   ]
  },
  {
   "cell_type": "code",
   "execution_count": 42,
   "id": "7abab1a0-2312-49b1-88a0-2095ca696c6c",
   "metadata": {},
   "outputs": [],
   "source": [
    "first_deriv = first_deriv_func(params_global_potential,ts_forward,w_back,M_sat)"
   ]
  },
  {
   "cell_type": "code",
   "execution_count": 43,
   "id": "b4bc74bb-1d91-4079-ada7-929008d2e112",
   "metadata": {},
   "outputs": [
    {
     "data": {
      "text/plain": [
       "{'a_disk': Array(-0., dtype=float64),\n",
       " 'b_disk': Array(-0., dtype=float64),\n",
       " 'bar_Omega': Array(-0., dtype=float64),\n",
       " 'bar_a': Array(-0., dtype=float64),\n",
       " 'bar_b': Array(-0., dtype=float64),\n",
       " 'bar_c': Array(-0., dtype=float64),\n",
       " 'bar_m': Array(-0., dtype=float64),\n",
       " 'm_NFW': Array(-0., dtype=float64),\n",
       " 'm_disk': Array(-0., dtype=float64),\n",
       " 'r_s_NFW': Array(-0., dtype=float64)}"
      ]
     },
     "execution_count": 43,
     "metadata": {},
     "output_type": "execute_result"
    }
   ],
   "source": [
    "first_deriv"
   ]
  },
  {
   "cell_type": "code",
   "execution_count": 27,
   "id": "24e45ea2-587b-48c0-80de-ea67b459d96c",
   "metadata": {},
   "outputs": [],
   "source": [
    "###params_global_potential['a_disk'] = 14.0\n",
    "###params_global_potential"
   ]
  },
  {
   "cell_type": "code",
   "execution_count": null,
   "id": "ab6e6320-ad06-403e-8e72-30f66275d19e",
   "metadata": {},
   "outputs": [],
   "source": [
    "s = time.time()\n",
    "second_deriv = second_deriv_func(params_global_potential,ts_forward,w_back,M_sat)\n",
    "e = time.time()\n",
    "print(e-s)"
   ]
  },
  {
   "cell_type": "code",
   "execution_count": 30,
   "id": "be73ed3e-c701-46aa-a882-a24f523a936d",
   "metadata": {},
   "outputs": [
    {
     "data": {
      "text/plain": [
       "{'a_disk': {'a_disk': Array(-3029.94913587, dtype=float64),\n",
       "  'b_disk': Array(-298.45281684, dtype=float64),\n",
       "  'bar_Omega': Array(703263.92155581, dtype=float64),\n",
       "  'bar_a': Array(-659.85490716, dtype=float64),\n",
       "  'bar_b': Array(-4736.47612287, dtype=float64),\n",
       "  'bar_c': Array(-724.55080498, dtype=float64),\n",
       "  'bar_m': Array(3.14989768e-06, dtype=float64),\n",
       "  'm_NFW': Array(4.84871163e-07, dtype=float64),\n",
       "  'm_disk': Array(7.28304136e-07, dtype=float64),\n",
       "  'r_s_NFW': Array(-42780.35516641, dtype=float64)},\n",
       " 'b_disk': {'a_disk': Array(-298.45281684, dtype=float64),\n",
       "  'b_disk': Array(-29.62533055, dtype=float64),\n",
       "  'bar_Omega': Array(68927.81470011, dtype=float64),\n",
       "  'bar_a': Array(-64.84152151, dtype=float64),\n",
       "  'bar_b': Array(-467.36814539, dtype=float64),\n",
       "  'bar_c': Array(-71.90133027, dtype=float64),\n",
       "  'bar_m': Array(3.10570425e-07, dtype=float64),\n",
       "  'm_NFW': Array(4.76791881e-08, dtype=float64),\n",
       "  'm_disk': Array(7.17690729e-08, dtype=float64),\n",
       "  'r_s_NFW': Array(-4208.49060255, dtype=float64)},\n",
       " 'bar_Omega': {'a_disk': Array(703263.92155581, dtype=float64),\n",
       "  'b_disk': Array(68927.81470011, dtype=float64),\n",
       "  'bar_Omega': Array(-1.8495671e+08, dtype=float64),\n",
       "  'bar_a': Array(153978.86939486, dtype=float64),\n",
       "  'bar_b': Array(1098492.47850197, dtype=float64),\n",
       "  'bar_c': Array(167931.05841435, dtype=float64),\n",
       "  'bar_m': Array(-0.00073086, dtype=float64),\n",
       "  'm_NFW': Array(-0.00011254, dtype=float64),\n",
       "  'm_disk': Array(-0.00016899, dtype=float64),\n",
       "  'r_s_NFW': Array(9929504.34309076, dtype=float64)},\n",
       " 'bar_a': {'a_disk': Array(-659.85490716, dtype=float64),\n",
       "  'b_disk': Array(-64.84152151, dtype=float64),\n",
       "  'bar_Omega': Array(153978.86939486, dtype=float64),\n",
       "  'bar_a': Array(-144.65639243, dtype=float64),\n",
       "  'bar_b': Array(-1033.2025, dtype=float64),\n",
       "  'bar_c': Array(-157.95427227, dtype=float64),\n",
       "  'bar_m': Array(6.86364661e-07, dtype=float64),\n",
       "  'm_NFW': Array(1.05629166e-07, dtype=float64),\n",
       "  'm_disk': Array(1.58480952e-07, dtype=float64),\n",
       "  'r_s_NFW': Array(-9320.41602173, dtype=float64)},\n",
       " 'bar_b': {'a_disk': Array(-4736.47612287, dtype=float64),\n",
       "  'b_disk': Array(-467.36814539, dtype=float64),\n",
       "  'bar_Omega': Array(1098492.47850197, dtype=float64),\n",
       "  'bar_a': Array(-1033.2025, dtype=float64),\n",
       "  'bar_b': Array(-7439.60066195, dtype=float64),\n",
       "  'bar_c': Array(-1141.33249117, dtype=float64),\n",
       "  'bar_m': Array(4.93307825e-06, dtype=float64),\n",
       "  'm_NFW': Array(7.57681456e-07, dtype=float64),\n",
       "  'm_disk': Array(1.13710648e-06, dtype=float64),\n",
       "  'r_s_NFW': Array(-66877.22363868, dtype=float64)},\n",
       " 'bar_c': {'a_disk': Array(-724.55080498, dtype=float64),\n",
       "  'b_disk': Array(-71.90133027, dtype=float64),\n",
       "  'bar_Omega': Array(167931.05841435, dtype=float64),\n",
       "  'bar_a': Array(-157.95427227, dtype=float64),\n",
       "  'bar_b': Array(-1141.33249117, dtype=float64),\n",
       "  'bar_c': Array(-176.02465374, dtype=float64),\n",
       "  'bar_m': Array(7.55644699e-07, dtype=float64),\n",
       "  'm_NFW': Array(1.15736712e-07, dtype=float64),\n",
       "  'm_disk': Array(1.73936162e-07, dtype=float64),\n",
       "  'r_s_NFW': Array(-10220.19625323, dtype=float64)},\n",
       " 'bar_m': {'a_disk': Array(3.14989768e-06, dtype=float64),\n",
       "  'b_disk': Array(3.10570425e-07, dtype=float64),\n",
       "  'bar_Omega': Array(-0.00073086, dtype=float64),\n",
       "  'bar_a': Array(6.86364661e-07, dtype=float64),\n",
       "  'bar_b': Array(4.93307825e-06, dtype=float64),\n",
       "  'bar_c': Array(7.55644699e-07, dtype=float64),\n",
       "  'bar_m': Array(-3.27698096e-15, dtype=float64),\n",
       "  'm_NFW': Array(-5.0395413e-16, dtype=float64),\n",
       "  'm_disk': Array(-7.56813513e-16, dtype=float64),\n",
       "  'r_s_NFW': Array(4.4471526e-05, dtype=float64)},\n",
       " 'm_NFW': {'a_disk': Array(4.84871163e-07, dtype=float64),\n",
       "  'b_disk': Array(4.76791881e-08, dtype=float64),\n",
       "  'bar_Omega': Array(-0.00011254, dtype=float64),\n",
       "  'bar_a': Array(1.05629166e-07, dtype=float64),\n",
       "  'bar_b': Array(7.57681456e-07, dtype=float64),\n",
       "  'bar_c': Array(1.15736712e-07, dtype=float64),\n",
       "  'bar_m': Array(-5.0395413e-16, dtype=float64),\n",
       "  'm_NFW': Array(-7.76265952e-17, dtype=float64),\n",
       "  'm_disk': Array(-1.16532191e-16, dtype=float64),\n",
       "  'r_s_NFW': Array(6.84832074e-06, dtype=float64)},\n",
       " 'm_disk': {'a_disk': Array(7.28304136e-07, dtype=float64),\n",
       "  'b_disk': Array(7.17690729e-08, dtype=float64),\n",
       "  'bar_Omega': Array(-0.00016899, dtype=float64),\n",
       "  'bar_a': Array(1.58480952e-07, dtype=float64),\n",
       "  'bar_b': Array(1.13710648e-06, dtype=float64),\n",
       "  'bar_c': Array(1.73936162e-07, dtype=float64),\n",
       "  'bar_m': Array(-7.56813513e-16, dtype=float64),\n",
       "  'm_NFW': Array(-1.16532191e-16, dtype=float64),\n",
       "  'm_disk': Array(-1.75141662e-16, dtype=float64),\n",
       "  'r_s_NFW': Array(1.0281026e-05, dtype=float64)},\n",
       " 'r_s_NFW': {'a_disk': Array(-42780.35516641, dtype=float64),\n",
       "  'b_disk': Array(-4208.49060255, dtype=float64),\n",
       "  'bar_Omega': Array(9929504.34309076, dtype=float64),\n",
       "  'bar_a': Array(-9320.41602173, dtype=float64),\n",
       "  'bar_b': Array(-66877.22363868, dtype=float64),\n",
       "  'bar_c': Array(-10220.19625323, dtype=float64),\n",
       "  'bar_m': Array(4.4471526e-05, dtype=float64),\n",
       "  'm_NFW': Array(6.84832074e-06, dtype=float64),\n",
       "  'm_disk': Array(1.0281026e-05, dtype=float64),\n",
       "  'r_s_NFW': Array(-604195.54944939, dtype=float64)}}"
      ]
     },
     "execution_count": 30,
     "metadata": {},
     "output_type": "execute_result"
    }
   ],
   "source": [
    "second_deriv"
   ]
  },
  {
   "cell_type": "code",
   "execution_count": 26,
   "id": "5eb01423-695a-4105-b46e-437087335af9",
   "metadata": {},
   "outputs": [
    {
     "data": {
      "text/plain": [
       "{'a_disk': {'a_disk': Array(-17724.24106433, dtype=float64),\n",
       "  'b_disk': Array(-2477.25436233, dtype=float64),\n",
       "  'bar_Omega': Array(2483334.5678001, dtype=float64),\n",
       "  'bar_a': Array(1442.86764641, dtype=float64),\n",
       "  'bar_b': Array(-7304.4447894, dtype=float64),\n",
       "  'bar_c': Array(-1655.24154756, dtype=float64),\n",
       "  'bar_m': Array(3.65679369e-06, dtype=float64),\n",
       "  'm_NFW': Array(3.63601213e-07, dtype=float64),\n",
       "  'm_disk': Array(2.08379471e-06, dtype=float64),\n",
       "  'r_s_NFW': Array(-35030.7216627, dtype=float64)},\n",
       " 'b_disk': {'a_disk': Array(-2477.25436233, dtype=float64),\n",
       "  'b_disk': Array(-377.38437309, dtype=float64),\n",
       "  'bar_Omega': Array(342189.94552824, dtype=float64),\n",
       "  'bar_a': Array(185.96090977, dtype=float64),\n",
       "  'bar_b': Array(-1022.61723488, dtype=float64),\n",
       "  'bar_c': Array(-243.16347456, dtype=float64),\n",
       "  'bar_m': Array(5.04098662e-07, dtype=float64),\n",
       "  'm_NFW': Array(4.64655382e-08, dtype=float64),\n",
       "  'm_disk': Array(2.84201031e-07, dtype=float64),\n",
       "  'r_s_NFW': Array(-4544.50088627, dtype=float64)},\n",
       " 'bar_Omega': {'a_disk': Array(2483334.5678001, dtype=float64),\n",
       "  'b_disk': Array(342189.94552824, dtype=float64),\n",
       "  'bar_Omega': Array(-5.8750683e+08, dtype=float64),\n",
       "  'bar_a': Array(-174325.46294391, dtype=float64),\n",
       "  'bar_b': Array(1012097.75108284, dtype=float64),\n",
       "  'bar_c': Array(226293.48687455, dtype=float64),\n",
       "  'bar_m': Array(-0.00051431, dtype=float64),\n",
       "  'm_NFW': Array(-5.21427842e-05, dtype=float64),\n",
       "  'm_disk': Array(-0.00029577, dtype=float64),\n",
       "  'r_s_NFW': Array(5006050.79923726, dtype=float64)},\n",
       " 'bar_a': {'a_disk': Array(1442.86764641, dtype=float64),\n",
       "  'b_disk': Array(185.96090977, dtype=float64),\n",
       "  'bar_Omega': Array(-174325.46294391, dtype=float64),\n",
       "  'bar_a': Array(-137.41322351, dtype=float64),\n",
       "  'bar_b': Array(592.43623564, dtype=float64),\n",
       "  'bar_c': Array(129.53659413, dtype=float64),\n",
       "  'bar_m': Array(-3.03683876e-07, dtype=float64),\n",
       "  'm_NFW': Array(-3.22217972e-08, dtype=float64),\n",
       "  'm_disk': Array(-1.75583274e-07, dtype=float64),\n",
       "  'r_s_NFW': Array(3064.69891993, dtype=float64)},\n",
       " 'bar_b': {'a_disk': Array(-7304.4447894, dtype=float64),\n",
       "  'b_disk': Array(-1022.61723488, dtype=float64),\n",
       "  'bar_Omega': Array(1012097.75108284, dtype=float64),\n",
       "  'bar_a': Array(592.43623564, dtype=float64),\n",
       "  'bar_b': Array(-3037.56474289, dtype=float64),\n",
       "  'bar_c': Array(-685.86666074, dtype=float64),\n",
       "  'bar_m': Array(1.49469655e-06, dtype=float64),\n",
       "  'm_NFW': Array(1.46895311e-07, dtype=float64),\n",
       "  'm_disk': Array(8.43291501e-07, dtype=float64),\n",
       "  'r_s_NFW': Array(-14191.63579566, dtype=float64)},\n",
       " 'bar_c': {'a_disk': Array(-1655.24154756, dtype=float64),\n",
       "  'b_disk': Array(-243.16347456, dtype=float64),\n",
       "  'bar_Omega': Array(226293.48687455, dtype=float64),\n",
       "  'bar_a': Array(129.53659413, dtype=float64),\n",
       "  'bar_b': Array(-685.86666074, dtype=float64),\n",
       "  'bar_c': Array(-159.47771772, dtype=float64),\n",
       "  'bar_m': Array(3.37639778e-07, dtype=float64),\n",
       "  'm_NFW': Array(3.20202299e-08, dtype=float64),\n",
       "  'm_disk': Array(1.90350662e-07, dtype=float64),\n",
       "  'r_s_NFW': Array(-3114.41099967, dtype=float64)},\n",
       " 'bar_m': {'a_disk': Array(3.65679369e-06, dtype=float64),\n",
       "  'b_disk': Array(5.04098662e-07, dtype=float64),\n",
       "  'bar_Omega': Array(-0.00051431, dtype=float64),\n",
       "  'bar_a': Array(-3.03683876e-07, dtype=float64),\n",
       "  'bar_b': Array(1.49469655e-06, dtype=float64),\n",
       "  'bar_c': Array(3.37639778e-07, dtype=float64),\n",
       "  'bar_m': Array(-7.61576198e-16, dtype=float64),\n",
       "  'm_NFW': Array(-7.72341372e-17, dtype=float64),\n",
       "  'm_disk': Array(-4.38397188e-16, dtype=float64),\n",
       "  'r_s_NFW': Array(7.40959947e-06, dtype=float64)},\n",
       " 'm_NFW': {'a_disk': Array(3.63601213e-07, dtype=float64),\n",
       "  'b_disk': Array(4.64655382e-08, dtype=float64),\n",
       "  'bar_Omega': Array(-5.21427842e-05, dtype=float64),\n",
       "  'bar_a': Array(-3.22217972e-08, dtype=float64),\n",
       "  'bar_b': Array(1.46895311e-07, dtype=float64),\n",
       "  'bar_c': Array(3.20202299e-08, dtype=float64),\n",
       "  'bar_m': Array(-7.72341372e-17, dtype=float64),\n",
       "  'm_NFW': Array(-8.34575608e-18, dtype=float64),\n",
       "  'm_disk': Array(-4.52795299e-17, dtype=float64),\n",
       "  'r_s_NFW': Array(7.90944734e-07, dtype=float64)},\n",
       " 'm_disk': {'a_disk': Array(2.08379471e-06, dtype=float64),\n",
       "  'b_disk': Array(2.84201031e-07, dtype=float64),\n",
       "  'bar_Omega': Array(-0.00029577, dtype=float64),\n",
       "  'bar_a': Array(-1.75583274e-07, dtype=float64),\n",
       "  'bar_b': Array(8.43291501e-07, dtype=float64),\n",
       "  'bar_c': Array(1.90350662e-07, dtype=float64),\n",
       "  'bar_m': Array(-4.38397188e-16, dtype=float64),\n",
       "  'm_NFW': Array(-4.52795299e-17, dtype=float64),\n",
       "  'm_disk': Array(-2.55187345e-16, dtype=float64),\n",
       "  'r_s_NFW': Array(4.32684108e-06, dtype=float64)},\n",
       " 'r_s_NFW': {'a_disk': Array(-35030.7216627, dtype=float64),\n",
       "  'b_disk': Array(-4544.50088627, dtype=float64),\n",
       "  'bar_Omega': Array(5006050.79923724, dtype=float64),\n",
       "  'bar_a': Array(3064.69891993, dtype=float64),\n",
       "  'bar_b': Array(-14191.63579566, dtype=float64),\n",
       "  'bar_c': Array(-3114.41099967, dtype=float64),\n",
       "  'bar_m': Array(7.40959947e-06, dtype=float64),\n",
       "  'm_NFW': Array(7.90944734e-07, dtype=float64),\n",
       "  'm_disk': Array(4.32684108e-06, dtype=float64),\n",
       "  'r_s_NFW': Array(-75134.11704657, dtype=float64)}}"
      ]
     },
     "execution_count": 26,
     "metadata": {},
     "output_type": "execute_result"
    }
   ],
   "source": [
    "second_deriv"
   ]
  },
  {
   "cell_type": "code",
   "execution_count": null,
   "id": "f822bc80-0909-4e3b-afcf-802458e88aaa",
   "metadata": {},
   "outputs": [],
   "source": []
  },
  {
   "cell_type": "code",
   "execution_count": 27,
   "id": "e8ff7084-8e12-4c3c-8c76-979a2cb3b262",
   "metadata": {},
   "outputs": [],
   "source": [
    "start = time.time()\n",
    "second_deriv = jax.jacfwd(first_deriv_func)(params_global_potential,ts_forward,w_back,M_sat)\n",
    "end = time.time()\n",
    "print(end-start)"
   ]
  },
  {
   "cell_type": "code",
   "execution_count": 29,
   "id": "a3c986bd-1c20-4e3f-90f5-fd26f027b97a",
   "metadata": {},
   "outputs": [],
   "source": [
    "#second_deriv"
   ]
  },
  {
   "cell_type": "code",
   "execution_count": 30,
   "id": "f3494321-f2e9-4858-adbe-1acb409ac51e",
   "metadata": {},
   "outputs": [
    {
     "ename": "RuntimeError",
     "evalue": "Cannot reverse-mode autodifferentiate when using `diffeqsolve(..., max_steps=None, adjoint=RecursiveCheckpointAdjoint(checkpoints=None))`. This is because JAX needs to know how much memory to allocate for saving the forward pass. You should either put a bound on the maximum number of steps, or explicitly specify how many checkpoints to use.",
     "output_type": "error",
     "traceback": [
      "\u001b[0;31m---------------------------------------------------------------------------\u001b[0m",
      "\u001b[0;31mJaxStackTraceBeforeTransformation\u001b[0m         Traceback (most recent call last)",
      "\u001b[0;32m~/opt/anaconda3/envs/MachineLearnGravPotential/lib/python3.8/runpy.py\u001b[0m in \u001b[0;36m_run_module_as_main\u001b[0;34m()\u001b[0m\n\u001b[1;32m    193\u001b[0m         \u001b[0msys\u001b[0m\u001b[0;34m.\u001b[0m\u001b[0margv\u001b[0m\u001b[0;34m[\u001b[0m\u001b[0;36m0\u001b[0m\u001b[0;34m]\u001b[0m \u001b[0;34m=\u001b[0m \u001b[0mmod_spec\u001b[0m\u001b[0;34m.\u001b[0m\u001b[0morigin\u001b[0m\u001b[0;34m\u001b[0m\u001b[0;34m\u001b[0m\u001b[0m\n\u001b[0;32m--> 194\u001b[0;31m     return _run_code(code, main_globals, None,\n\u001b[0m\u001b[1;32m    195\u001b[0m                      \"__main__\", mod_spec)\n",
      "\u001b[0;32m~/opt/anaconda3/envs/MachineLearnGravPotential/lib/python3.8/runpy.py\u001b[0m in \u001b[0;36m_run_code\u001b[0;34m()\u001b[0m\n\u001b[1;32m     86\u001b[0m                        __spec__ = mod_spec)\n\u001b[0;32m---> 87\u001b[0;31m     \u001b[0mexec\u001b[0m\u001b[0;34m(\u001b[0m\u001b[0mcode\u001b[0m\u001b[0;34m,\u001b[0m \u001b[0mrun_globals\u001b[0m\u001b[0;34m)\u001b[0m\u001b[0;34m\u001b[0m\u001b[0;34m\u001b[0m\u001b[0m\n\u001b[0m\u001b[1;32m     88\u001b[0m     \u001b[0;32mreturn\u001b[0m \u001b[0mrun_globals\u001b[0m\u001b[0;34m\u001b[0m\u001b[0;34m\u001b[0m\u001b[0m\n",
      "\u001b[0;32m~/opt/anaconda3/envs/MachineLearnGravPotential/lib/python3.8/site-packages/ipykernel_launcher.py\u001b[0m in \u001b[0;36m<module>\u001b[0;34m\u001b[0m\n\u001b[1;32m     15\u001b[0m     \u001b[0;32mfrom\u001b[0m \u001b[0mipykernel\u001b[0m \u001b[0;32mimport\u001b[0m \u001b[0mkernelapp\u001b[0m \u001b[0;32mas\u001b[0m \u001b[0mapp\u001b[0m\u001b[0;34m\u001b[0m\u001b[0;34m\u001b[0m\u001b[0m\n\u001b[0;32m---> 16\u001b[0;31m     \u001b[0mapp\u001b[0m\u001b[0;34m.\u001b[0m\u001b[0mlaunch_new_instance\u001b[0m\u001b[0;34m(\u001b[0m\u001b[0;34m)\u001b[0m\u001b[0;34m\u001b[0m\u001b[0;34m\u001b[0m\u001b[0m\n\u001b[0m",
      "\u001b[0;32m~/opt/anaconda3/envs/MachineLearnGravPotential/lib/python3.8/site-packages/traitlets/config/application.py\u001b[0m in \u001b[0;36mlaunch_instance\u001b[0;34m()\u001b[0m\n\u001b[1;32m    845\u001b[0m         \u001b[0mapp\u001b[0m\u001b[0;34m.\u001b[0m\u001b[0minitialize\u001b[0m\u001b[0;34m(\u001b[0m\u001b[0margv\u001b[0m\u001b[0;34m)\u001b[0m\u001b[0;34m\u001b[0m\u001b[0;34m\u001b[0m\u001b[0m\n\u001b[0;32m--> 846\u001b[0;31m         \u001b[0mapp\u001b[0m\u001b[0;34m.\u001b[0m\u001b[0mstart\u001b[0m\u001b[0;34m(\u001b[0m\u001b[0;34m)\u001b[0m\u001b[0;34m\u001b[0m\u001b[0;34m\u001b[0m\u001b[0m\n\u001b[0m\u001b[1;32m    847\u001b[0m \u001b[0;34m\u001b[0m\u001b[0m\n",
      "\u001b[0;32m~/opt/anaconda3/envs/MachineLearnGravPotential/lib/python3.8/site-packages/ipykernel/kernelapp.py\u001b[0m in \u001b[0;36mstart\u001b[0;34m()\u001b[0m\n\u001b[1;32m    676\u001b[0m             \u001b[0;32mtry\u001b[0m\u001b[0;34m:\u001b[0m\u001b[0;34m\u001b[0m\u001b[0;34m\u001b[0m\u001b[0m\n\u001b[0;32m--> 677\u001b[0;31m                 \u001b[0mself\u001b[0m\u001b[0;34m.\u001b[0m\u001b[0mio_loop\u001b[0m\u001b[0;34m.\u001b[0m\u001b[0mstart\u001b[0m\u001b[0;34m(\u001b[0m\u001b[0;34m)\u001b[0m\u001b[0;34m\u001b[0m\u001b[0;34m\u001b[0m\u001b[0m\n\u001b[0m\u001b[1;32m    678\u001b[0m             \u001b[0;32mexcept\u001b[0m \u001b[0mKeyboardInterrupt\u001b[0m\u001b[0;34m:\u001b[0m\u001b[0;34m\u001b[0m\u001b[0;34m\u001b[0m\u001b[0m\n",
      "\u001b[0;32m~/opt/anaconda3/envs/MachineLearnGravPotential/lib/python3.8/site-packages/tornado/platform/asyncio.py\u001b[0m in \u001b[0;36mstart\u001b[0;34m()\u001b[0m\n\u001b[1;32m    198\u001b[0m             \u001b[0masyncio\u001b[0m\u001b[0;34m.\u001b[0m\u001b[0mset_event_loop\u001b[0m\u001b[0;34m(\u001b[0m\u001b[0mself\u001b[0m\u001b[0;34m.\u001b[0m\u001b[0masyncio_loop\u001b[0m\u001b[0;34m)\u001b[0m\u001b[0;34m\u001b[0m\u001b[0;34m\u001b[0m\u001b[0m\n\u001b[0;32m--> 199\u001b[0;31m             \u001b[0mself\u001b[0m\u001b[0;34m.\u001b[0m\u001b[0masyncio_loop\u001b[0m\u001b[0;34m.\u001b[0m\u001b[0mrun_forever\u001b[0m\u001b[0;34m(\u001b[0m\u001b[0;34m)\u001b[0m\u001b[0;34m\u001b[0m\u001b[0;34m\u001b[0m\u001b[0m\n\u001b[0m\u001b[1;32m    200\u001b[0m         \u001b[0;32mfinally\u001b[0m\u001b[0;34m:\u001b[0m\u001b[0;34m\u001b[0m\u001b[0;34m\u001b[0m\u001b[0m\n",
      "\u001b[0;32m~/opt/anaconda3/envs/MachineLearnGravPotential/lib/python3.8/asyncio/base_events.py\u001b[0m in \u001b[0;36mrun_forever\u001b[0;34m()\u001b[0m\n\u001b[1;32m    569\u001b[0m             \u001b[0;32mwhile\u001b[0m \u001b[0;32mTrue\u001b[0m\u001b[0;34m:\u001b[0m\u001b[0;34m\u001b[0m\u001b[0;34m\u001b[0m\u001b[0m\n\u001b[0;32m--> 570\u001b[0;31m                 \u001b[0mself\u001b[0m\u001b[0;34m.\u001b[0m\u001b[0m_run_once\u001b[0m\u001b[0;34m(\u001b[0m\u001b[0;34m)\u001b[0m\u001b[0;34m\u001b[0m\u001b[0;34m\u001b[0m\u001b[0m\n\u001b[0m\u001b[1;32m    571\u001b[0m                 \u001b[0;32mif\u001b[0m \u001b[0mself\u001b[0m\u001b[0;34m.\u001b[0m\u001b[0m_stopping\u001b[0m\u001b[0;34m:\u001b[0m\u001b[0;34m\u001b[0m\u001b[0;34m\u001b[0m\u001b[0m\n",
      "\u001b[0;32m~/opt/anaconda3/envs/MachineLearnGravPotential/lib/python3.8/asyncio/base_events.py\u001b[0m in \u001b[0;36m_run_once\u001b[0;34m()\u001b[0m\n\u001b[1;32m   1858\u001b[0m             \u001b[0;32melse\u001b[0m\u001b[0;34m:\u001b[0m\u001b[0;34m\u001b[0m\u001b[0;34m\u001b[0m\u001b[0m\n\u001b[0;32m-> 1859\u001b[0;31m                 \u001b[0mhandle\u001b[0m\u001b[0;34m.\u001b[0m\u001b[0m_run\u001b[0m\u001b[0;34m(\u001b[0m\u001b[0;34m)\u001b[0m\u001b[0;34m\u001b[0m\u001b[0;34m\u001b[0m\u001b[0m\n\u001b[0m\u001b[1;32m   1860\u001b[0m         \u001b[0mhandle\u001b[0m \u001b[0;34m=\u001b[0m \u001b[0;32mNone\u001b[0m  \u001b[0;31m# Needed to break cycles when an exception occurs.\u001b[0m\u001b[0;34m\u001b[0m\u001b[0;34m\u001b[0m\u001b[0m\n",
      "\u001b[0;32m~/opt/anaconda3/envs/MachineLearnGravPotential/lib/python3.8/asyncio/events.py\u001b[0m in \u001b[0;36m_run\u001b[0;34m()\u001b[0m\n\u001b[1;32m     80\u001b[0m         \u001b[0;32mtry\u001b[0m\u001b[0;34m:\u001b[0m\u001b[0;34m\u001b[0m\u001b[0;34m\u001b[0m\u001b[0m\n\u001b[0;32m---> 81\u001b[0;31m             \u001b[0mself\u001b[0m\u001b[0;34m.\u001b[0m\u001b[0m_context\u001b[0m\u001b[0;34m.\u001b[0m\u001b[0mrun\u001b[0m\u001b[0;34m(\u001b[0m\u001b[0mself\u001b[0m\u001b[0;34m.\u001b[0m\u001b[0m_callback\u001b[0m\u001b[0;34m,\u001b[0m \u001b[0;34m*\u001b[0m\u001b[0mself\u001b[0m\u001b[0;34m.\u001b[0m\u001b[0m_args\u001b[0m\u001b[0;34m)\u001b[0m\u001b[0;34m\u001b[0m\u001b[0;34m\u001b[0m\u001b[0m\n\u001b[0m\u001b[1;32m     82\u001b[0m         \u001b[0;32mexcept\u001b[0m \u001b[0;34m(\u001b[0m\u001b[0mSystemExit\u001b[0m\u001b[0;34m,\u001b[0m \u001b[0mKeyboardInterrupt\u001b[0m\u001b[0;34m)\u001b[0m\u001b[0;34m:\u001b[0m\u001b[0;34m\u001b[0m\u001b[0;34m\u001b[0m\u001b[0m\n",
      "\u001b[0;32m~/opt/anaconda3/envs/MachineLearnGravPotential/lib/python3.8/site-packages/ipykernel/kernelbase.py\u001b[0m in \u001b[0;36mdispatch_queue\u001b[0;34m()\u001b[0m\n\u001b[1;32m    456\u001b[0m             \u001b[0;32mtry\u001b[0m\u001b[0;34m:\u001b[0m\u001b[0;34m\u001b[0m\u001b[0;34m\u001b[0m\u001b[0m\n\u001b[0;32m--> 457\u001b[0;31m                 \u001b[0;32mawait\u001b[0m \u001b[0mself\u001b[0m\u001b[0;34m.\u001b[0m\u001b[0mprocess_one\u001b[0m\u001b[0;34m(\u001b[0m\u001b[0;34m)\u001b[0m\u001b[0;34m\u001b[0m\u001b[0;34m\u001b[0m\u001b[0m\n\u001b[0m\u001b[1;32m    458\u001b[0m             \u001b[0;32mexcept\u001b[0m \u001b[0mException\u001b[0m\u001b[0;34m:\u001b[0m\u001b[0;34m\u001b[0m\u001b[0;34m\u001b[0m\u001b[0m\n",
      "\u001b[0;32m~/opt/anaconda3/envs/MachineLearnGravPotential/lib/python3.8/site-packages/ipykernel/kernelbase.py\u001b[0m in \u001b[0;36mprocess_one\u001b[0;34m()\u001b[0m\n\u001b[1;32m    445\u001b[0m                 \u001b[0;32mreturn\u001b[0m \u001b[0;32mNone\u001b[0m\u001b[0;34m\u001b[0m\u001b[0;34m\u001b[0m\u001b[0m\n\u001b[0;32m--> 446\u001b[0;31m         \u001b[0;32mawait\u001b[0m \u001b[0mdispatch\u001b[0m\u001b[0;34m(\u001b[0m\u001b[0;34m*\u001b[0m\u001b[0margs\u001b[0m\u001b[0;34m)\u001b[0m\u001b[0;34m\u001b[0m\u001b[0;34m\u001b[0m\u001b[0m\n\u001b[0m\u001b[1;32m    447\u001b[0m \u001b[0;34m\u001b[0m\u001b[0m\n",
      "\u001b[0;32m~/opt/anaconda3/envs/MachineLearnGravPotential/lib/python3.8/site-packages/ipykernel/kernelbase.py\u001b[0m in \u001b[0;36mdispatch_shell\u001b[0;34m()\u001b[0m\n\u001b[1;32m    352\u001b[0m                 \u001b[0;32mif\u001b[0m \u001b[0minspect\u001b[0m\u001b[0;34m.\u001b[0m\u001b[0misawaitable\u001b[0m\u001b[0;34m(\u001b[0m\u001b[0mresult\u001b[0m\u001b[0;34m)\u001b[0m\u001b[0;34m:\u001b[0m\u001b[0;34m\u001b[0m\u001b[0;34m\u001b[0m\u001b[0m\n\u001b[0;32m--> 353\u001b[0;31m                     \u001b[0;32mawait\u001b[0m \u001b[0mresult\u001b[0m\u001b[0;34m\u001b[0m\u001b[0;34m\u001b[0m\u001b[0m\n\u001b[0m\u001b[1;32m    354\u001b[0m             \u001b[0;32mexcept\u001b[0m \u001b[0mException\u001b[0m\u001b[0;34m:\u001b[0m\u001b[0;34m\u001b[0m\u001b[0;34m\u001b[0m\u001b[0m\n",
      "\u001b[0;32m~/opt/anaconda3/envs/MachineLearnGravPotential/lib/python3.8/site-packages/ipykernel/kernelbase.py\u001b[0m in \u001b[0;36mexecute_request\u001b[0;34m()\u001b[0m\n\u001b[1;32m    647\u001b[0m         \u001b[0;32mif\u001b[0m \u001b[0minspect\u001b[0m\u001b[0;34m.\u001b[0m\u001b[0misawaitable\u001b[0m\u001b[0;34m(\u001b[0m\u001b[0mreply_content\u001b[0m\u001b[0;34m)\u001b[0m\u001b[0;34m:\u001b[0m\u001b[0;34m\u001b[0m\u001b[0;34m\u001b[0m\u001b[0m\n\u001b[0;32m--> 648\u001b[0;31m             \u001b[0mreply_content\u001b[0m \u001b[0;34m=\u001b[0m \u001b[0;32mawait\u001b[0m \u001b[0mreply_content\u001b[0m\u001b[0;34m\u001b[0m\u001b[0;34m\u001b[0m\u001b[0m\n\u001b[0m\u001b[1;32m    649\u001b[0m \u001b[0;34m\u001b[0m\u001b[0m\n",
      "\u001b[0;32m~/opt/anaconda3/envs/MachineLearnGravPotential/lib/python3.8/site-packages/ipykernel/ipkernel.py\u001b[0m in \u001b[0;36mdo_execute\u001b[0;34m()\u001b[0m\n\u001b[1;32m    352\u001b[0m                 \u001b[0;31m# letting shell dispatch to loop runners\u001b[0m\u001b[0;34m\u001b[0m\u001b[0;34m\u001b[0m\u001b[0;34m\u001b[0m\u001b[0m\n\u001b[0;32m--> 353\u001b[0;31m                 \u001b[0mres\u001b[0m \u001b[0;34m=\u001b[0m \u001b[0mshell\u001b[0m\u001b[0;34m.\u001b[0m\u001b[0mrun_cell\u001b[0m\u001b[0;34m(\u001b[0m\u001b[0mcode\u001b[0m\u001b[0;34m,\u001b[0m \u001b[0mstore_history\u001b[0m\u001b[0;34m=\u001b[0m\u001b[0mstore_history\u001b[0m\u001b[0;34m,\u001b[0m \u001b[0msilent\u001b[0m\u001b[0;34m=\u001b[0m\u001b[0msilent\u001b[0m\u001b[0;34m)\u001b[0m\u001b[0;34m\u001b[0m\u001b[0;34m\u001b[0m\u001b[0m\n\u001b[0m\u001b[1;32m    354\u001b[0m         \u001b[0;32mfinally\u001b[0m\u001b[0;34m:\u001b[0m\u001b[0;34m\u001b[0m\u001b[0;34m\u001b[0m\u001b[0m\n",
      "\u001b[0;32m~/opt/anaconda3/envs/MachineLearnGravPotential/lib/python3.8/site-packages/ipykernel/zmqshell.py\u001b[0m in \u001b[0;36mrun_cell\u001b[0;34m()\u001b[0m\n\u001b[1;32m    532\u001b[0m         \u001b[0mself\u001b[0m\u001b[0;34m.\u001b[0m\u001b[0m_last_traceback\u001b[0m \u001b[0;34m=\u001b[0m \u001b[0;32mNone\u001b[0m\u001b[0;34m\u001b[0m\u001b[0;34m\u001b[0m\u001b[0m\n\u001b[0;32m--> 533\u001b[0;31m         \u001b[0;32mreturn\u001b[0m \u001b[0msuper\u001b[0m\u001b[0;34m(\u001b[0m\u001b[0mZMQInteractiveShell\u001b[0m\u001b[0;34m,\u001b[0m \u001b[0mself\u001b[0m\u001b[0;34m)\u001b[0m\u001b[0;34m.\u001b[0m\u001b[0mrun_cell\u001b[0m\u001b[0;34m(\u001b[0m\u001b[0;34m*\u001b[0m\u001b[0margs\u001b[0m\u001b[0;34m,\u001b[0m \u001b[0;34m**\u001b[0m\u001b[0mkwargs\u001b[0m\u001b[0;34m)\u001b[0m\u001b[0;34m\u001b[0m\u001b[0;34m\u001b[0m\u001b[0m\n\u001b[0m\u001b[1;32m    534\u001b[0m \u001b[0;34m\u001b[0m\u001b[0m\n",
      "\u001b[0;32m~/opt/anaconda3/envs/MachineLearnGravPotential/lib/python3.8/site-packages/IPython/core/interactiveshell.py\u001b[0m in \u001b[0;36mrun_cell\u001b[0;34m()\u001b[0m\n\u001b[1;32m   2897\u001b[0m         \u001b[0;32mtry\u001b[0m\u001b[0;34m:\u001b[0m\u001b[0;34m\u001b[0m\u001b[0;34m\u001b[0m\u001b[0m\n\u001b[0;32m-> 2898\u001b[0;31m             result = self._run_cell(\n\u001b[0m\u001b[1;32m   2899\u001b[0m                 raw_cell, store_history, silent, shell_futures)\n",
      "\u001b[0;32m~/opt/anaconda3/envs/MachineLearnGravPotential/lib/python3.8/site-packages/IPython/core/interactiveshell.py\u001b[0m in \u001b[0;36m_run_cell\u001b[0;34m()\u001b[0m\n\u001b[1;32m   2943\u001b[0m         \u001b[0;32mtry\u001b[0m\u001b[0;34m:\u001b[0m\u001b[0;34m\u001b[0m\u001b[0;34m\u001b[0m\u001b[0m\n\u001b[0;32m-> 2944\u001b[0;31m             \u001b[0;32mreturn\u001b[0m \u001b[0mrunner\u001b[0m\u001b[0;34m(\u001b[0m\u001b[0mcoro\u001b[0m\u001b[0;34m)\u001b[0m\u001b[0;34m\u001b[0m\u001b[0;34m\u001b[0m\u001b[0m\n\u001b[0m\u001b[1;32m   2945\u001b[0m         \u001b[0;32mexcept\u001b[0m \u001b[0mBaseException\u001b[0m \u001b[0;32mas\u001b[0m \u001b[0me\u001b[0m\u001b[0;34m:\u001b[0m\u001b[0;34m\u001b[0m\u001b[0;34m\u001b[0m\u001b[0m\n",
      "\u001b[0;32m~/opt/anaconda3/envs/MachineLearnGravPotential/lib/python3.8/site-packages/IPython/core/async_helpers.py\u001b[0m in \u001b[0;36m_pseudo_sync_runner\u001b[0;34m()\u001b[0m\n\u001b[1;32m     67\u001b[0m     \u001b[0;32mtry\u001b[0m\u001b[0;34m:\u001b[0m\u001b[0;34m\u001b[0m\u001b[0;34m\u001b[0m\u001b[0m\n\u001b[0;32m---> 68\u001b[0;31m         \u001b[0mcoro\u001b[0m\u001b[0;34m.\u001b[0m\u001b[0msend\u001b[0m\u001b[0;34m(\u001b[0m\u001b[0;32mNone\u001b[0m\u001b[0;34m)\u001b[0m\u001b[0;34m\u001b[0m\u001b[0;34m\u001b[0m\u001b[0m\n\u001b[0m\u001b[1;32m     69\u001b[0m     \u001b[0;32mexcept\u001b[0m \u001b[0mStopIteration\u001b[0m \u001b[0;32mas\u001b[0m \u001b[0mexc\u001b[0m\u001b[0;34m:\u001b[0m\u001b[0;34m\u001b[0m\u001b[0;34m\u001b[0m\u001b[0m\n",
      "\u001b[0;32m~/opt/anaconda3/envs/MachineLearnGravPotential/lib/python3.8/site-packages/IPython/core/interactiveshell.py\u001b[0m in \u001b[0;36mrun_cell_async\u001b[0;34m()\u001b[0m\n\u001b[1;32m   3168\u001b[0m \u001b[0;34m\u001b[0m\u001b[0m\n\u001b[0;32m-> 3169\u001b[0;31m                 has_raised = await self.run_ast_nodes(code_ast.body, cell_name,\n\u001b[0m\u001b[1;32m   3170\u001b[0m                        interactivity=interactivity, compiler=compiler, result=result)\n",
      "\u001b[0;32m~/opt/anaconda3/envs/MachineLearnGravPotential/lib/python3.8/site-packages/IPython/core/interactiveshell.py\u001b[0m in \u001b[0;36mrun_ast_nodes\u001b[0;34m()\u001b[0m\n\u001b[1;32m   3360\u001b[0m                         \u001b[0masy\u001b[0m \u001b[0;34m=\u001b[0m \u001b[0mcompare\u001b[0m\u001b[0;34m(\u001b[0m\u001b[0mcode\u001b[0m\u001b[0;34m)\u001b[0m\u001b[0;34m\u001b[0m\u001b[0;34m\u001b[0m\u001b[0m\n\u001b[0;32m-> 3361\u001b[0;31m                     \u001b[0;32mif\u001b[0m \u001b[0;34m(\u001b[0m\u001b[0;32mawait\u001b[0m \u001b[0mself\u001b[0m\u001b[0;34m.\u001b[0m\u001b[0mrun_code\u001b[0m\u001b[0;34m(\u001b[0m\u001b[0mcode\u001b[0m\u001b[0;34m,\u001b[0m \u001b[0mresult\u001b[0m\u001b[0;34m,\u001b[0m  \u001b[0masync_\u001b[0m\u001b[0;34m=\u001b[0m\u001b[0masy\u001b[0m\u001b[0;34m)\u001b[0m\u001b[0;34m)\u001b[0m\u001b[0;34m:\u001b[0m\u001b[0;34m\u001b[0m\u001b[0;34m\u001b[0m\u001b[0m\n\u001b[0m\u001b[1;32m   3362\u001b[0m                         \u001b[0;32mreturn\u001b[0m \u001b[0;32mTrue\u001b[0m\u001b[0;34m\u001b[0m\u001b[0;34m\u001b[0m\u001b[0m\n",
      "\u001b[0;32m~/opt/anaconda3/envs/MachineLearnGravPotential/lib/python3.8/site-packages/IPython/core/interactiveshell.py\u001b[0m in \u001b[0;36mrun_code\u001b[0;34m()\u001b[0m\n\u001b[1;32m   3440\u001b[0m                 \u001b[0;32melse\u001b[0m\u001b[0;34m:\u001b[0m\u001b[0;34m\u001b[0m\u001b[0;34m\u001b[0m\u001b[0m\n\u001b[0;32m-> 3441\u001b[0;31m                     \u001b[0mexec\u001b[0m\u001b[0;34m(\u001b[0m\u001b[0mcode_obj\u001b[0m\u001b[0;34m,\u001b[0m \u001b[0mself\u001b[0m\u001b[0;34m.\u001b[0m\u001b[0muser_global_ns\u001b[0m\u001b[0;34m,\u001b[0m \u001b[0mself\u001b[0m\u001b[0;34m.\u001b[0m\u001b[0muser_ns\u001b[0m\u001b[0;34m)\u001b[0m\u001b[0;34m\u001b[0m\u001b[0;34m\u001b[0m\u001b[0m\n\u001b[0m\u001b[1;32m   3442\u001b[0m             \u001b[0;32mfinally\u001b[0m\u001b[0;34m:\u001b[0m\u001b[0;34m\u001b[0m\u001b[0;34m\u001b[0m\u001b[0m\n",
      "\u001b[0;32m/var/folders/rq/9c89gb15479bjnxrpnmdf_p40000gn/T/ipykernel_73122/1417532103.py\u001b[0m in \u001b[0;36m<module>\u001b[0;34m\u001b[0m\n\u001b[0;32m----> 1\u001b[0;31m \u001b[0mcompare_streams\u001b[0m\u001b[0;34m(\u001b[0m\u001b[0mparams_global_potential\u001b[0m\u001b[0;34m,\u001b[0m\u001b[0mts_forward\u001b[0m\u001b[0;34m,\u001b[0m\u001b[0mw_back\u001b[0m\u001b[0;34m,\u001b[0m\u001b[0mM_sat\u001b[0m\u001b[0;34m)\u001b[0m\u001b[0;34m\u001b[0m\u001b[0;34m\u001b[0m\u001b[0m\n\u001b[0m",
      "\u001b[0;32m/var/folders/rq/9c89gb15479bjnxrpnmdf_p40000gn/T/ipykernel_73122/1337006448.py\u001b[0m in \u001b[0;36mcompare_streams\u001b[0;34m()\u001b[0m\n\u001b[1;32m     20\u001b[0m     \u001b[0;31m## first generate data stream (no grad tracking)\u001b[0m\u001b[0;34m\u001b[0m\u001b[0;34m\u001b[0m\u001b[0;34m\u001b[0m\u001b[0m\n\u001b[0;32m---> 21\u001b[0;31m     \u001b[0mlead_arm\u001b[0m\u001b[0;34m,\u001b[0m \u001b[0mtrail_arm\u001b[0m \u001b[0;34m=\u001b[0m \u001b[0mgen_observed_stream\u001b[0m\u001b[0;34m(\u001b[0m\u001b[0mparams\u001b[0m\u001b[0;34m,\u001b[0m\u001b[0mts\u001b[0m\u001b[0;34m,\u001b[0m\u001b[0mw0\u001b[0m\u001b[0;34m,\u001b[0m\u001b[0mM_sat\u001b[0m\u001b[0;34m)\u001b[0m\u001b[0;34m\u001b[0m\u001b[0;34m\u001b[0m\u001b[0m\n\u001b[0m\u001b[1;32m     22\u001b[0m     \u001b[0mlead_arm_obs\u001b[0m\u001b[0;34m,\u001b[0m \u001b[0mtrail_arm_obs\u001b[0m \u001b[0;34m=\u001b[0m \u001b[0mjax\u001b[0m\u001b[0;34m.\u001b[0m\u001b[0mlax\u001b[0m\u001b[0;34m.\u001b[0m\u001b[0mstop_gradient\u001b[0m\u001b[0;34m(\u001b[0m\u001b[0mlead_arm\u001b[0m\u001b[0;34m)\u001b[0m\u001b[0;34m,\u001b[0m \u001b[0mjax\u001b[0m\u001b[0;34m.\u001b[0m\u001b[0mlax\u001b[0m\u001b[0;34m.\u001b[0m\u001b[0mstop_gradient\u001b[0m\u001b[0;34m(\u001b[0m\u001b[0mtrail_arm\u001b[0m\u001b[0;34m)\u001b[0m\u001b[0;34m\u001b[0m\u001b[0;34m\u001b[0m\u001b[0m\n",
      "\u001b[0;32m/var/folders/rq/9c89gb15479bjnxrpnmdf_p40000gn/T/ipykernel_73122/1337006448.py\u001b[0m in \u001b[0;36mgen_observed_stream\u001b[0;34m()\u001b[0m\n\u001b[1;32m     14\u001b[0m     \u001b[0;31m## Generate a stream. This will be the \"observed\" stream, i.e., the DATA\u001b[0m\u001b[0;34m\u001b[0m\u001b[0;34m\u001b[0m\u001b[0;34m\u001b[0m\u001b[0m\n\u001b[0;32m---> 15\u001b[0;31m     \u001b[0mlead_arm\u001b[0m\u001b[0;34m,\u001b[0m \u001b[0mtrail_arm\u001b[0m \u001b[0;34m=\u001b[0m \u001b[0mpot\u001b[0m\u001b[0;34m.\u001b[0m\u001b[0mgen_stream_final\u001b[0m\u001b[0;34m(\u001b[0m\u001b[0mts\u001b[0m\u001b[0;34m,\u001b[0m \u001b[0mw0\u001b[0m\u001b[0;34m,\u001b[0m \u001b[0mM_sat\u001b[0m\u001b[0;34m,\u001b[0m\u001b[0;34m)\u001b[0m\u001b[0;34m\u001b[0m\u001b[0;34m\u001b[0m\u001b[0m\n\u001b[0m\u001b[1;32m     16\u001b[0m \u001b[0;34m\u001b[0m\u001b[0m\n",
      "\u001b[0;32m~/Desktop/Projects/JaxStreams/JaxStreams_diffrax.py\u001b[0m in \u001b[0;36mgen_stream_final\u001b[0;34m()\u001b[0m\n\u001b[1;32m    306\u001b[0m         \u001b[0;31m#print(len(particle_ids))\u001b[0m\u001b[0;34m\u001b[0m\u001b[0;34m\u001b[0m\u001b[0;34m\u001b[0m\u001b[0m\n\u001b[0;32m--> 307\u001b[0;31m         \u001b[0mfinal_state\u001b[0m\u001b[0;34m,\u001b[0m \u001b[0mall_states\u001b[0m \u001b[0;34m=\u001b[0m \u001b[0mjax\u001b[0m\u001b[0;34m.\u001b[0m\u001b[0mlax\u001b[0m\u001b[0;34m.\u001b[0m\u001b[0mscan\u001b[0m\u001b[0;34m(\u001b[0m\u001b[0mscan_fun\u001b[0m\u001b[0;34m,\u001b[0m \u001b[0minit_carry\u001b[0m\u001b[0;34m,\u001b[0m \u001b[0mparticle_ids\u001b[0m\u001b[0;34m)\u001b[0m\u001b[0;34m\u001b[0m\u001b[0;34m\u001b[0m\u001b[0m\n\u001b[0m\u001b[1;32m    308\u001b[0m         \u001b[0;31m#print(final_state)\u001b[0m\u001b[0;34m\u001b[0m\u001b[0;34m\u001b[0m\u001b[0;34m\u001b[0m\u001b[0m\n",
      "\u001b[0;32m~/Desktop/Projects/JaxStreams/JaxStreams_diffrax.py\u001b[0m in \u001b[0;36mscan_fun\u001b[0;34m()\u001b[0m\n\u001b[1;32m    287\u001b[0m             \u001b[0mintegrate_different_ics\u001b[0m \u001b[0;34m=\u001b[0m \u001b[0;32mlambda\u001b[0m \u001b[0mics\u001b[0m\u001b[0;34m:\u001b[0m  \u001b[0mself\u001b[0m\u001b[0;34m.\u001b[0m\u001b[0morbit_integrator_run\u001b[0m\u001b[0;34m(\u001b[0m\u001b[0mics\u001b[0m\u001b[0;34m,\u001b[0m\u001b[0mminval\u001b[0m\u001b[0;34m,\u001b[0m\u001b[0mmaxval\u001b[0m\u001b[0;34m,\u001b[0m\u001b[0;32mNone\u001b[0m\u001b[0;34m)\u001b[0m\u001b[0;34m[\u001b[0m\u001b[0;36m0\u001b[0m\u001b[0;34m]\u001b[0m\u001b[0;34m\u001b[0m\u001b[0;34m\u001b[0m\u001b[0m\n\u001b[0;32m--> 288\u001b[0;31m             \u001b[0mw_particle_close\u001b[0m\u001b[0;34m,\u001b[0m \u001b[0mw_particle_far\u001b[0m \u001b[0;34m=\u001b[0m \u001b[0mjax\u001b[0m\u001b[0;34m.\u001b[0m\u001b[0mvmap\u001b[0m\u001b[0;34m(\u001b[0m\u001b[0mintegrate_different_ics\u001b[0m\u001b[0;34m,\u001b[0m\u001b[0min_axes\u001b[0m\u001b[0;34m=\u001b[0m\u001b[0;34m(\u001b[0m\u001b[0;36m0\u001b[0m\u001b[0;34m,\u001b[0m\u001b[0;34m)\u001b[0m\u001b[0;34m)\u001b[0m\u001b[0;34m(\u001b[0m\u001b[0mw0_lead_trail\u001b[0m\u001b[0;34m)\u001b[0m \u001b[0;31m#vmap over leading and trailing arm\u001b[0m\u001b[0;34m\u001b[0m\u001b[0;34m\u001b[0m\u001b[0m\n\u001b[0m\u001b[1;32m    289\u001b[0m             \u001b[0;31m#####w_particle_close = self.orbit_integrator_run(curr_particle_w0_close,minval,maxval,None)[0]\u001b[0m\u001b[0;34m\u001b[0m\u001b[0;34m\u001b[0m\u001b[0;34m\u001b[0m\u001b[0m\n",
      "\u001b[0;32m~/Desktop/Projects/JaxStreams/JaxStreams_diffrax.py\u001b[0m in \u001b[0;36m<lambda>\u001b[0;34m()\u001b[0m\n\u001b[1;32m    286\u001b[0m \u001b[0;34m\u001b[0m\u001b[0m\n\u001b[0;32m--> 287\u001b[0;31m             \u001b[0mintegrate_different_ics\u001b[0m \u001b[0;34m=\u001b[0m \u001b[0;32mlambda\u001b[0m \u001b[0mics\u001b[0m\u001b[0;34m:\u001b[0m  \u001b[0mself\u001b[0m\u001b[0;34m.\u001b[0m\u001b[0morbit_integrator_run\u001b[0m\u001b[0;34m(\u001b[0m\u001b[0mics\u001b[0m\u001b[0;34m,\u001b[0m\u001b[0mminval\u001b[0m\u001b[0;34m,\u001b[0m\u001b[0mmaxval\u001b[0m\u001b[0;34m,\u001b[0m\u001b[0;32mNone\u001b[0m\u001b[0;34m)\u001b[0m\u001b[0;34m[\u001b[0m\u001b[0;36m0\u001b[0m\u001b[0;34m]\u001b[0m\u001b[0;34m\u001b[0m\u001b[0;34m\u001b[0m\u001b[0m\n\u001b[0m\u001b[1;32m    288\u001b[0m             \u001b[0mw_particle_close\u001b[0m\u001b[0;34m,\u001b[0m \u001b[0mw_particle_far\u001b[0m \u001b[0;34m=\u001b[0m \u001b[0mjax\u001b[0m\u001b[0;34m.\u001b[0m\u001b[0mvmap\u001b[0m\u001b[0;34m(\u001b[0m\u001b[0mintegrate_different_ics\u001b[0m\u001b[0;34m,\u001b[0m\u001b[0min_axes\u001b[0m\u001b[0;34m=\u001b[0m\u001b[0;34m(\u001b[0m\u001b[0;36m0\u001b[0m\u001b[0;34m,\u001b[0m\u001b[0;34m)\u001b[0m\u001b[0;34m)\u001b[0m\u001b[0;34m(\u001b[0m\u001b[0mw0_lead_trail\u001b[0m\u001b[0;34m)\u001b[0m \u001b[0;31m#vmap over leading and trailing arm\u001b[0m\u001b[0;34m\u001b[0m\u001b[0;34m\u001b[0m\u001b[0m\n",
      "\u001b[0;32m~/Desktop/Projects/JaxStreams/JaxStreams_diffrax.py\u001b[0m in \u001b[0;36morbit_integrator_run\u001b[0;34m()\u001b[0m\n\u001b[1;32m    139\u001b[0m \u001b[0;34m\u001b[0m\u001b[0m\n\u001b[0;32m--> 140\u001b[0;31m         solution = diffeqsolve(\n\u001b[0m\u001b[1;32m    141\u001b[0m             \u001b[0mterms\u001b[0m\u001b[0;34m=\u001b[0m\u001b[0mterm\u001b[0m\u001b[0;34m,\u001b[0m\u001b[0;34m\u001b[0m\u001b[0;34m\u001b[0m\u001b[0m\n",
      "\u001b[0;32m~/opt/anaconda3/envs/MachineLearnGravPotential/lib/python3.8/site-packages/equinox/_jit.py\u001b[0m in \u001b[0;36m__call__\u001b[0;34m()\u001b[0m\n\u001b[1;32m     74\u001b[0m         \u001b[0;32melse\u001b[0m\u001b[0;34m:\u001b[0m\u001b[0;34m\u001b[0m\u001b[0;34m\u001b[0m\u001b[0m\n\u001b[0;32m---> 75\u001b[0;31m             \u001b[0;32mreturn\u001b[0m \u001b[0mself\u001b[0m\u001b[0;34m.\u001b[0m\u001b[0m_fun_wrapper\u001b[0m\u001b[0;34m(\u001b[0m\u001b[0;32mFalse\u001b[0m\u001b[0;34m,\u001b[0m \u001b[0margs\u001b[0m\u001b[0;34m,\u001b[0m \u001b[0mkwargs\u001b[0m\u001b[0;34m)\u001b[0m\u001b[0;34m\u001b[0m\u001b[0;34m\u001b[0m\u001b[0m\n\u001b[0m\u001b[1;32m     76\u001b[0m \u001b[0;34m\u001b[0m\u001b[0m\n",
      "\u001b[0;32m~/opt/anaconda3/envs/MachineLearnGravPotential/lib/python3.8/site-packages/equinox/_jit.py\u001b[0m in \u001b[0;36m_fun_wrapper\u001b[0;34m()\u001b[0m\n\u001b[1;32m     63\u001b[0m         \u001b[0;32melse\u001b[0m\u001b[0;34m:\u001b[0m\u001b[0;34m\u001b[0m\u001b[0;34m\u001b[0m\u001b[0m\n\u001b[0;32m---> 64\u001b[0;31m             \u001b[0mdynamic_out\u001b[0m\u001b[0;34m,\u001b[0m \u001b[0mstatic_out\u001b[0m \u001b[0;34m=\u001b[0m \u001b[0mself\u001b[0m\u001b[0;34m.\u001b[0m\u001b[0m_cached\u001b[0m\u001b[0;34m(\u001b[0m\u001b[0mdynamic\u001b[0m\u001b[0;34m,\u001b[0m \u001b[0mstatic\u001b[0m\u001b[0;34m)\u001b[0m\u001b[0;34m\u001b[0m\u001b[0;34m\u001b[0m\u001b[0m\n\u001b[0m\u001b[1;32m     65\u001b[0m             \u001b[0;32mreturn\u001b[0m \u001b[0mcombine\u001b[0m\u001b[0;34m(\u001b[0m\u001b[0mdynamic_out\u001b[0m\u001b[0;34m,\u001b[0m \u001b[0mstatic_out\u001b[0m\u001b[0;34m.\u001b[0m\u001b[0mvalue\u001b[0m\u001b[0;34m)\u001b[0m\u001b[0;34m\u001b[0m\u001b[0;34m\u001b[0m\u001b[0m\n",
      "\u001b[0;32m~/opt/anaconda3/envs/MachineLearnGravPotential/lib/python3.8/site-packages/equinox/_jit.py\u001b[0m in \u001b[0;36mfun_wrapped\u001b[0;34m()\u001b[0m\n\u001b[1;32m     34\u001b[0m         \u001b[0margs\u001b[0m\u001b[0;34m,\u001b[0m \u001b[0mkwargs\u001b[0m \u001b[0;34m=\u001b[0m \u001b[0mhashable_combine\u001b[0m\u001b[0;34m(\u001b[0m\u001b[0mdynamic_spec\u001b[0m\u001b[0;34m,\u001b[0m \u001b[0mstatic_spec\u001b[0m\u001b[0;34m)\u001b[0m\u001b[0;34m\u001b[0m\u001b[0;34m\u001b[0m\u001b[0m\n\u001b[0;32m---> 35\u001b[0;31m         \u001b[0mout\u001b[0m \u001b[0;34m=\u001b[0m \u001b[0mfun\u001b[0m\u001b[0;34m(\u001b[0m\u001b[0;34m*\u001b[0m\u001b[0margs\u001b[0m\u001b[0;34m,\u001b[0m \u001b[0;34m**\u001b[0m\u001b[0mkwargs\u001b[0m\u001b[0;34m)\u001b[0m\u001b[0;34m\u001b[0m\u001b[0;34m\u001b[0m\u001b[0m\n\u001b[0m\u001b[1;32m     36\u001b[0m         \u001b[0mdynamic_out\u001b[0m\u001b[0;34m,\u001b[0m \u001b[0mstatic_out\u001b[0m \u001b[0;34m=\u001b[0m \u001b[0mpartition\u001b[0m\u001b[0;34m(\u001b[0m\u001b[0mout\u001b[0m\u001b[0;34m,\u001b[0m \u001b[0mis_array\u001b[0m\u001b[0;34m)\u001b[0m\u001b[0;34m\u001b[0m\u001b[0;34m\u001b[0m\u001b[0m\n",
      "\u001b[0;32m~/opt/anaconda3/envs/MachineLearnGravPotential/lib/python3.8/site-packages/diffrax/integrate.py\u001b[0m in \u001b[0;36mdiffeqsolve\u001b[0;34m()\u001b[0m\n\u001b[1;32m    751\u001b[0m \u001b[0;34m\u001b[0m\u001b[0m\n\u001b[0;32m--> 752\u001b[0;31m     final_state, aux_stats = adjoint.loop(\n\u001b[0m\u001b[1;32m    753\u001b[0m         \u001b[0margs\u001b[0m\u001b[0;34m=\u001b[0m\u001b[0margs\u001b[0m\u001b[0;34m,\u001b[0m\u001b[0;34m\u001b[0m\u001b[0;34m\u001b[0m\u001b[0m\n",
      "\u001b[0;32m~/opt/anaconda3/envs/MachineLearnGravPotential/lib/python3.8/site-packages/diffrax/adjoint.py\u001b[0m in \u001b[0;36mloop\u001b[0;34m()\u001b[0m\n\u001b[1;32m    295\u001b[0m         \u001b[0;32mif\u001b[0m \u001b[0mmsg\u001b[0m \u001b[0;32mis\u001b[0m \u001b[0;32mnot\u001b[0m \u001b[0;32mNone\u001b[0m\u001b[0;34m:\u001b[0m\u001b[0;34m\u001b[0m\u001b[0;34m\u001b[0m\u001b[0m\n\u001b[0;32m--> 296\u001b[0;31m             final_state = eqxi.nondifferentiable_backward(\n\u001b[0m\u001b[1;32m    297\u001b[0m                 \u001b[0mfinal_state\u001b[0m\u001b[0;34m,\u001b[0m \u001b[0mmsg\u001b[0m\u001b[0;34m=\u001b[0m\u001b[0mmsg\u001b[0m\u001b[0;34m,\u001b[0m \u001b[0msymbolic\u001b[0m\u001b[0;34m=\u001b[0m\u001b[0;32mTrue\u001b[0m\u001b[0;34m\u001b[0m\u001b[0;34m\u001b[0m\u001b[0m\n",
      "\u001b[0;32m~/opt/anaconda3/envs/MachineLearnGravPotential/lib/python3.8/site-packages/equinox/internal/_nontraceable.py\u001b[0m in \u001b[0;36mnondifferentiable_backward\u001b[0;34m()\u001b[0m\n\u001b[1;32m    121\u001b[0m     \u001b[0mflat\u001b[0m \u001b[0;34m=\u001b[0m \u001b[0mmap\u001b[0m\u001b[0;34m(\u001b[0m\u001b[0mbind\u001b[0m\u001b[0;34m,\u001b[0m \u001b[0mflat\u001b[0m\u001b[0;34m)\u001b[0m\u001b[0;34m\u001b[0m\u001b[0;34m\u001b[0m\u001b[0m\n\u001b[0;32m--> 122\u001b[0;31m     \u001b[0;32mreturn\u001b[0m \u001b[0mcombine\u001b[0m\u001b[0;34m(\u001b[0m\u001b[0mjtu\u001b[0m\u001b[0;34m.\u001b[0m\u001b[0mtree_unflatten\u001b[0m\u001b[0;34m(\u001b[0m\u001b[0mtreedef\u001b[0m\u001b[0;34m,\u001b[0m \u001b[0mflat\u001b[0m\u001b[0;34m)\u001b[0m\u001b[0;34m,\u001b[0m \u001b[0mstatic\u001b[0m\u001b[0;34m)\u001b[0m\u001b[0;34m\u001b[0m\u001b[0;34m\u001b[0m\u001b[0m\n\u001b[0m\u001b[1;32m    123\u001b[0m \u001b[0;34m\u001b[0m\u001b[0m\n",
      "\u001b[0;31mJaxStackTraceBeforeTransformation\u001b[0m: RuntimeError: Cannot reverse-mode autodifferentiate when using `diffeqsolve(..., max_steps=None, adjoint=RecursiveCheckpointAdjoint(checkpoints=None))`. This is because JAX needs to know how much memory to allocate for saving the forward pass. You should either put a bound on the maximum number of steps, or explicitly specify how many checkpoints to use.\n\nThe preceding stack trace is the source of the JAX operation that, once transformed by JAX, triggered the following exception.\n\n--------------------",
      "\nThe above exception was the direct cause of the following exception:\n",
      "\u001b[0;31mRuntimeError\u001b[0m                              Traceback (most recent call last)",
      "\u001b[0;32m/var/folders/rq/9c89gb15479bjnxrpnmdf_p40000gn/T/ipykernel_73122/2009254448.py\u001b[0m in \u001b[0;36m<module>\u001b[0;34m\u001b[0m\n\u001b[1;32m      1\u001b[0m \u001b[0mstart\u001b[0m \u001b[0;34m=\u001b[0m \u001b[0mtime\u001b[0m\u001b[0;34m.\u001b[0m\u001b[0mtime\u001b[0m\u001b[0;34m(\u001b[0m\u001b[0;34m)\u001b[0m\u001b[0;34m\u001b[0m\u001b[0;34m\u001b[0m\u001b[0m\n\u001b[0;32m----> 2\u001b[0;31m \u001b[0msecond_deriv\u001b[0m \u001b[0;34m=\u001b[0m \u001b[0mjax\u001b[0m\u001b[0;34m.\u001b[0m\u001b[0mjacrev\u001b[0m\u001b[0;34m(\u001b[0m\u001b[0mfirst_deriv_func\u001b[0m\u001b[0;34m)\u001b[0m\u001b[0;34m(\u001b[0m\u001b[0mparams_global_potential\u001b[0m\u001b[0;34m,\u001b[0m\u001b[0mts_forward\u001b[0m\u001b[0;34m,\u001b[0m\u001b[0mw_back\u001b[0m\u001b[0;34m,\u001b[0m\u001b[0mM_sat\u001b[0m\u001b[0;34m)\u001b[0m\u001b[0;34m\u001b[0m\u001b[0;34m\u001b[0m\u001b[0m\n\u001b[0m\u001b[1;32m      3\u001b[0m \u001b[0mend\u001b[0m \u001b[0;34m=\u001b[0m \u001b[0mtime\u001b[0m\u001b[0;34m.\u001b[0m\u001b[0mtime\u001b[0m\u001b[0;34m(\u001b[0m\u001b[0;34m)\u001b[0m\u001b[0;34m\u001b[0m\u001b[0;34m\u001b[0m\u001b[0m\n\u001b[1;32m      4\u001b[0m \u001b[0mprint\u001b[0m\u001b[0;34m(\u001b[0m\u001b[0mend\u001b[0m\u001b[0;34m-\u001b[0m\u001b[0mstart\u001b[0m\u001b[0;34m)\u001b[0m\u001b[0;34m\u001b[0m\u001b[0;34m\u001b[0m\u001b[0m\n",
      "\u001b[0;32m~/opt/anaconda3/envs/MachineLearnGravPotential/lib/python3.8/site-packages/jax/_src/api.py\u001b[0m in \u001b[0;36mjacfun\u001b[0;34m(*args, **kwargs)\u001b[0m\n\u001b[1;32m    931\u001b[0m       \u001b[0my\u001b[0m\u001b[0;34m,\u001b[0m \u001b[0mpullback\u001b[0m\u001b[0;34m,\u001b[0m \u001b[0maux\u001b[0m \u001b[0;34m=\u001b[0m \u001b[0m_vjp\u001b[0m\u001b[0;34m(\u001b[0m\u001b[0mf_partial\u001b[0m\u001b[0;34m,\u001b[0m \u001b[0;34m*\u001b[0m\u001b[0mdyn_args\u001b[0m\u001b[0;34m,\u001b[0m \u001b[0mhas_aux\u001b[0m\u001b[0;34m=\u001b[0m\u001b[0;32mTrue\u001b[0m\u001b[0;34m)\u001b[0m\u001b[0;34m\u001b[0m\u001b[0;34m\u001b[0m\u001b[0m\n\u001b[1;32m    932\u001b[0m     \u001b[0mtree_map\u001b[0m\u001b[0;34m(\u001b[0m\u001b[0mpartial\u001b[0m\u001b[0;34m(\u001b[0m\u001b[0m_check_output_dtype_jacrev\u001b[0m\u001b[0;34m,\u001b[0m \u001b[0mholomorphic\u001b[0m\u001b[0;34m)\u001b[0m\u001b[0;34m,\u001b[0m \u001b[0my\u001b[0m\u001b[0;34m)\u001b[0m\u001b[0;34m\u001b[0m\u001b[0;34m\u001b[0m\u001b[0m\n\u001b[0;32m--> 933\u001b[0;31m     \u001b[0mjac\u001b[0m \u001b[0;34m=\u001b[0m \u001b[0mvmap\u001b[0m\u001b[0;34m(\u001b[0m\u001b[0mpullback\u001b[0m\u001b[0;34m)\u001b[0m\u001b[0;34m(\u001b[0m\u001b[0m_std_basis\u001b[0m\u001b[0;34m(\u001b[0m\u001b[0my\u001b[0m\u001b[0;34m)\u001b[0m\u001b[0;34m)\u001b[0m\u001b[0;34m\u001b[0m\u001b[0;34m\u001b[0m\u001b[0m\n\u001b[0m\u001b[1;32m    934\u001b[0m     \u001b[0mjac\u001b[0m \u001b[0;34m=\u001b[0m \u001b[0mjac\u001b[0m\u001b[0;34m[\u001b[0m\u001b[0;36m0\u001b[0m\u001b[0;34m]\u001b[0m \u001b[0;32mif\u001b[0m \u001b[0misinstance\u001b[0m\u001b[0;34m(\u001b[0m\u001b[0margnums\u001b[0m\u001b[0;34m,\u001b[0m \u001b[0mint\u001b[0m\u001b[0;34m)\u001b[0m \u001b[0;32melse\u001b[0m \u001b[0mjac\u001b[0m\u001b[0;34m\u001b[0m\u001b[0;34m\u001b[0m\u001b[0m\n\u001b[1;32m    935\u001b[0m     \u001b[0mexample_args\u001b[0m \u001b[0;34m=\u001b[0m \u001b[0mdyn_args\u001b[0m\u001b[0;34m[\u001b[0m\u001b[0;36m0\u001b[0m\u001b[0;34m]\u001b[0m \u001b[0;32mif\u001b[0m \u001b[0misinstance\u001b[0m\u001b[0;34m(\u001b[0m\u001b[0margnums\u001b[0m\u001b[0;34m,\u001b[0m \u001b[0mint\u001b[0m\u001b[0;34m)\u001b[0m \u001b[0;32melse\u001b[0m \u001b[0mdyn_args\u001b[0m\u001b[0;34m\u001b[0m\u001b[0;34m\u001b[0m\u001b[0m\n",
      "    \u001b[0;31m[... skipping hidden 80 frame]\u001b[0m\n",
      "\u001b[0;32m~/opt/anaconda3/envs/MachineLearnGravPotential/lib/python3.8/site-packages/equinox/internal/_nontraceable.py\u001b[0m in \u001b[0;36m_nondifferentiable_backward_transpose\u001b[0;34m(cts_in, _, msg, symbolic)\u001b[0m\n\u001b[1;32m     74\u001b[0m     \u001b[0;32melse\u001b[0m\u001b[0;34m:\u001b[0m\u001b[0;34m\u001b[0m\u001b[0;34m\u001b[0m\u001b[0m\n\u001b[1;32m     75\u001b[0m         \u001b[0;32mif\u001b[0m \u001b[0msymbolic\u001b[0m\u001b[0;34m:\u001b[0m\u001b[0;34m\u001b[0m\u001b[0;34m\u001b[0m\u001b[0m\n\u001b[0;32m---> 76\u001b[0;31m             \u001b[0;32mraise\u001b[0m \u001b[0mRuntimeError\u001b[0m\u001b[0;34m(\u001b[0m\u001b[0mmsg\u001b[0m\u001b[0;34m)\u001b[0m\u001b[0;34m\u001b[0m\u001b[0;34m\u001b[0m\u001b[0m\n\u001b[0m\u001b[1;32m     77\u001b[0m         \u001b[0;32melse\u001b[0m\u001b[0;34m:\u001b[0m\u001b[0;34m\u001b[0m\u001b[0;34m\u001b[0m\u001b[0m\n\u001b[1;32m     78\u001b[0m             \u001b[0;31m# Unfortunately there are legitimate cases where we get all-zero\u001b[0m\u001b[0;34m\u001b[0m\u001b[0;34m\u001b[0m\u001b[0;34m\u001b[0m\u001b[0m\n",
      "\u001b[0;31mRuntimeError\u001b[0m: Cannot reverse-mode autodifferentiate when using `diffeqsolve(..., max_steps=None, adjoint=RecursiveCheckpointAdjoint(checkpoints=None))`. This is because JAX needs to know how much memory to allocate for saving the forward pass. You should either put a bound on the maximum number of steps, or explicitly specify how many checkpoints to use."
     ]
    }
   ],
   "source": [
    "start = time.time()\n",
    "second_deriv = jax.jacrev(first_deriv_func)(params_global_potential,ts_forward,w_back,M_sat)\n",
    "end = time.time()\n",
    "print(end-start)"
   ]
  },
  {
   "cell_type": "code",
   "execution_count": null,
   "id": "ae0ddb93-2b84-464c-b422-04886de9a2f6",
   "metadata": {},
   "outputs": [],
   "source": []
  },
  {
   "cell_type": "code",
   "execution_count": null,
   "id": "569888f6-a61d-4a27-9990-4d7c7fd124df",
   "metadata": {},
   "outputs": [],
   "source": []
  },
  {
   "cell_type": "code",
   "execution_count": null,
   "id": "109d3837-5400-4236-a978-28038ce461a6",
   "metadata": {},
   "outputs": [],
   "source": []
  },
  {
   "cell_type": "code",
   "execution_count": 14,
   "id": "8019823c-7a1c-440a-be10-98104753f78f",
   "metadata": {},
   "outputs": [
    {
     "name": "stdout",
     "output_type": "stream",
     "text": [
      "23.090246200561523\n"
     ]
    }
   ],
   "source": [
    "start = time.time()\n",
    "first_deriv = jax.jacfwd(compare_streams,argnums=0)(params_global_potential,ts_forward,w_back,M_sat)\n",
    "end = time.time()\n",
    "print(end-start)"
   ]
  },
  {
   "cell_type": "code",
   "execution_count": 50,
   "id": "07970677-75d1-46b5-9a2e-13756696fc15",
   "metadata": {},
   "outputs": [
    {
     "data": {
      "text/plain": [
       "{'a_disk': Array(-0., dtype=float64),\n",
       " 'b_disk': Array(-0., dtype=float64),\n",
       " 'bar_Omega': Array(-0., dtype=float64),\n",
       " 'bar_a': Array(-0., dtype=float64),\n",
       " 'bar_b': Array(-0., dtype=float64),\n",
       " 'bar_c': Array(-0., dtype=float64),\n",
       " 'bar_m': Array(-0., dtype=float64),\n",
       " 'm_NFW': Array(-0., dtype=float64),\n",
       " 'm_disk': Array(-0., dtype=float64),\n",
       " 'r_s_NFW': Array(-0., dtype=float64)}"
      ]
     },
     "execution_count": 50,
     "metadata": {},
     "output_type": "execute_result"
    }
   ],
   "source": [
    "first_deriv"
   ]
  },
  {
   "cell_type": "code",
   "execution_count": 63,
   "id": "d78dfee1-3abf-4b07-8f9b-705aaccfa1a7",
   "metadata": {},
   "outputs": [
    {
     "name": "stdout",
     "output_type": "stream",
     "text": [
      "1929.748643875122\n"
     ]
    }
   ],
   "source": [
    "start = time.time()\n",
    "second_deriv = jax.jacfwd(jax.jacfwd(compare_streams,argnums=0))(params_global_potential,ts_forward,w_back,M_sat)\n",
    "end = time.time()\n",
    "print(end-start)"
   ]
  },
  {
   "cell_type": "code",
   "execution_count": 66,
   "id": "6656c91c-ed5d-4d5e-a30c-868490021571",
   "metadata": {},
   "outputs": [],
   "source": [
    "#####np.save('second_deriv_dict',second_deriv)"
   ]
  },
  {
   "cell_type": "code",
   "execution_count": 64,
   "id": "74f4a153-52f4-42d3-9b49-84a8b3161380",
   "metadata": {},
   "outputs": [
    {
     "data": {
      "text/plain": [
       "{'a_disk': Array(-21073694.68893389, dtype=float64),\n",
       " 'b_disk': Array(-2827903.44343206, dtype=float64),\n",
       " 'bar_Omega': Array(-1.86418352e+08, dtype=float64),\n",
       " 'bar_a': Array(-476275.21654258, dtype=float64),\n",
       " 'bar_b': Array(-6428367.47136351, dtype=float64),\n",
       " 'bar_c': Array(-1350812.18178627, dtype=float64),\n",
       " 'bar_m': Array(0.00327751, dtype=float64),\n",
       " 'm_NFW': Array(0.00032497, dtype=float64),\n",
       " 'm_disk': Array(0.00226223, dtype=float64),\n",
       " 'r_s_NFW': Array(-31568017.74693523, dtype=float64)}"
      ]
     },
     "execution_count": 64,
     "metadata": {},
     "output_type": "execute_result"
    }
   ],
   "source": [
    "second_deriv['bar_b']"
   ]
  },
  {
   "cell_type": "code",
   "execution_count": null,
   "id": "70818eef-a35d-4da3-9e63-992040c8fda1",
   "metadata": {},
   "outputs": [],
   "source": []
  },
  {
   "cell_type": "code",
   "execution_count": null,
   "id": "c8ee7bd0-ea24-4d43-bd15-df1de4abee7c",
   "metadata": {},
   "outputs": [],
   "source": []
  },
  {
   "cell_type": "code",
   "execution_count": null,
   "id": "abe050da-3360-4afb-8e4e-a7cef0265990",
   "metadata": {},
   "outputs": [],
   "source": []
  },
  {
   "cell_type": "code",
   "execution_count": null,
   "id": "835b017e-eb9c-43f6-86d5-8fd1679acde2",
   "metadata": {},
   "outputs": [],
   "source": []
  },
  {
   "cell_type": "code",
   "execution_count": 67,
   "id": "380ceaa1-9474-4e38-a5a9-5e6f060e9a33",
   "metadata": {},
   "outputs": [
    {
     "data": {
      "text/plain": [
       "<matplotlib.collections.PathCollection at 0x7fa751d8a070>"
      ]
     },
     "execution_count": 67,
     "metadata": {},
     "output_type": "execute_result"
    },
    {
     "data": {
      "image/png": "[encoded data removed]",
      "text/plain": [
       "<Figure size 252x189 with 1 Axes>"
      ]
     },
     "metadata": {
      "needs_background": "light"
     },
     "output_type": "display_data"
    }
   ],
   "source": [
    "plt.scatter(lead_arm[:,0],lead_arm[:,1],s=0.01,rasterized=True)\n",
    "plt.scatter(trail_arm[:,0],trail_arm[:,1],s=0.01,rasterized=True)"
   ]
  },
  {
   "cell_type": "code",
   "execution_count": 74,
   "id": "3a652d95-5e6d-45c1-9c70-0bb968ba569c",
   "metadata": {},
   "outputs": [
    {
     "data": {
      "text/plain": [
       "<matplotlib.collections.PathCollection at 0x7fa756cfd910>"
      ]
     },
     "execution_count": 74,
     "metadata": {},
     "output_type": "execute_result"
    },
    {
     "data": {
      "image/png": "[encoded data removed]",
      "text/plain": [
       "<Figure size 252x189 with 1 Axes>"
      ]
     },
     "metadata": {
      "needs_background": "light"
     },
     "output_type": "display_data"
    }
   ],
   "source": [
    "plt.scatter(lead_arm[:,0],lead_arm[:,1],s=0.01,rasterized=True)\n",
    "plt.scatter(trail_arm[:,0],trail_arm[:,1],s=0.01,rasterized=True)"
   ]
  },
  {
   "cell_type": "code",
   "execution_count": null,
   "id": "0d7b1672-e59d-4847-9811-f0512cdb608e",
   "metadata": {},
   "outputs": [],
   "source": []
  },
  {
   "cell_type": "code",
   "execution_count": null,
   "id": "b7430132-0018-4fc0-8da2-d1c16307902d",
   "metadata": {},
   "outputs": [],
   "source": []
  },
  {
   "cell_type": "code",
   "execution_count": null,
   "id": "76a0755c-88fd-45ea-aec5-faae985d8a4e",
   "metadata": {},
   "outputs": [],
   "source": []
  },
  {
   "cell_type": "code",
   "execution_count": null,
   "id": "8260900d-2a4a-484d-9c9a-f5e0981551a9",
   "metadata": {},
   "outputs": [],
   "source": []
  },
  {
   "cell_type": "code",
   "execution_count": null,
   "id": "72a23f74-4290-4313-bf18-d2274794ffd8",
   "metadata": {},
   "outputs": [],
   "source": []
  },
  {
   "cell_type": "code",
   "execution_count": null,
   "id": "6adc6f54-636e-4e84-abbf-f2c321b712f4",
   "metadata": {},
   "outputs": [],
   "source": []
  },
  {
   "cell_type": "code",
   "execution_count": 4,
   "id": "cbed7e98-1821-4dc4-ab13-7e23a5139140",
   "metadata": {},
   "outputs": [],
   "source": [
    "t0 = 0.\n",
    "dt = 0.5\n",
    "n_steps = 8_000#*1000\n",
    "ts = jnp.arange(t0, t0 + dt * n_steps + dt/10., dt)\n",
    "out = pot.orbit_integrator_run(wf,t0,jnp.max(ts),ts)\n",
    "#output = JaxStreams.orbit_integrator_run(w0=wf,t0=t0,t1=jnp.max(ts),ts=ts,potential_obj=pot)"
   ]
  },
  {
   "cell_type": "code",
   "execution_count": 5,
   "id": "61297b9c-0847-4bc9-bda4-6dba76c62e63",
   "metadata": {},
   "outputs": [],
   "source": [
    "Msat = 1.0e4\n",
    "pos_close_arr, pos_far_arr, vel_close_arr, vel_far_arr = pot.gen_stream_ics(ts,wf,Msat)"
   ]
  },
  {
   "cell_type": "code",
   "execution_count": 8,
   "id": "17864712-9d7e-4e7e-9bcc-8b8c6d649656",
   "metadata": {},
   "outputs": [],
   "source": [
    "lead,trail = pot.gen_stream_vmapped(ts,wf,Msat)"
   ]
  },
  {
   "cell_type": "code",
   "execution_count": 7,
   "id": "da79f5ba-85d0-424e-bf89-082ee6d0ef97",
   "metadata": {},
   "outputs": [],
   "source": [
    "lead,trail = pot.gen_stream_final(ts,wf,Msat)"
   ]
  },
  {
   "cell_type": "code",
   "execution_count": 11,
   "id": "3121c4ec-5b9e-4ca9-a9c8-ec4e942bce3a",
   "metadata": {},
   "outputs": [
    {
     "data": {
      "text/plain": [
       "['__annotations__',\n",
       " '__call__',\n",
       " '__class__',\n",
       " '__delattr__',\n",
       " '__dir__',\n",
       " '__doc__',\n",
       " '__eq__',\n",
       " '__format__',\n",
       " '__func__',\n",
       " '__ge__',\n",
       " '__get__',\n",
       " '__getattribute__',\n",
       " '__gt__',\n",
       " '__hash__',\n",
       " '__init__',\n",
       " '__init_subclass__',\n",
       " '__le__',\n",
       " '__lt__',\n",
       " '__module__',\n",
       " '__name__',\n",
       " '__ne__',\n",
       " '__new__',\n",
       " '__qualname__',\n",
       " '__reduce__',\n",
       " '__reduce_ex__',\n",
       " '__repr__',\n",
       " '__self__',\n",
       " '__setattr__',\n",
       " '__sizeof__',\n",
       " '__str__',\n",
       " '__subclasshook__',\n",
       " '__wrapped__',\n",
       " '_fun',\n",
       " 'lower']"
      ]
     },
     "execution_count": 11,
     "metadata": {},
     "output_type": "execute_result"
    }
   ],
   "source": [
    "dir(pot.gen_stream_final)"
   ]
  },
  {
   "cell_type": "code",
   "execution_count": 8,
   "id": "eecbb328-5376-4720-b55d-344fe6745be8",
   "metadata": {},
   "outputs": [
    {
     "data": {
      "text/plain": [
       "(8000, 6)"
      ]
     },
     "execution_count": 8,
     "metadata": {},
     "output_type": "execute_result"
    }
   ],
   "source": [
    "lead.shape"
   ]
  },
  {
   "cell_type": "code",
   "execution_count": 9,
   "id": "47631647-47b8-4b80-8f08-aa8257d92f5b",
   "metadata": {},
   "outputs": [
    {
     "data": {
      "text/plain": [
       "<matplotlib.collections.PathCollection at 0x7fcc917722e0>"
      ]
     },
     "execution_count": 9,
     "metadata": {},
     "output_type": "execute_result"
    },
    {
     "data": {
      "image/png": "[encoded data removed]",
      "text/plain": [
       "<Figure size 252x189 with 1 Axes>"
      ]
     },
     "metadata": {
      "needs_background": "light"
     },
     "output_type": "display_data"
    }
   ],
   "source": [
    "plt.scatter(lead[:,0],lead[:,1])"
   ]
  },
  {
   "cell_type": "code",
   "execution_count": 38,
   "id": "a2d1e892-3e66-4c13-b7b1-49eb0045f612",
   "metadata": {},
   "outputs": [
    {
     "data": {
      "text/plain": [
       "(Array([ 7.86771862e+00,  2.32269577e-01,  1.64124381e+01, -4.32708085e-02,\n",
       "        -1.06060675e-01, -1.57716157e-02], dtype=float64),\n",
       " Array([ 7.95668113e+00,  4.40895726e-01,  1.64494958e+01, -4.03870510e-02,\n",
       "        -1.05849603e-01, -9.50204493e-03], dtype=float64))"
      ]
     },
     "execution_count": 38,
     "metadata": {},
     "output_type": "execute_result"
    }
   ],
   "source": [
    "t0 = 0.\n",
    "dt = 0.25\n",
    "n_steps = 16_000#*1000\n",
    "ts = jnp.arange(t0, t0 + dt * n_steps + dt/10., dt)\n",
    "ws_jax_backward = JaxStreams.leapfrog_run(wf, -ts, pot.gradient)\n",
    "\n",
    "ts = jnp.flip(-ts)\n",
    "ws_forward_ag = JaxStreams.leapfrog_run(ws_jax_backward[-1,:],ts,pot.gradient)\n",
    "\n",
    "w_init = ws_jax_backward[-1,:]\n",
    "wf, ws_forward_ag[-1,:]"
   ]
  },
  {
   "cell_type": "code",
   "execution_count": 39,
   "id": "9b3d7adb-034a-4dca-b544-f4f6de7e4911",
   "metadata": {},
   "outputs": [
    {
     "name": "stdout",
     "output_type": "stream",
     "text": [
      "39.72716283798218\n"
     ]
    }
   ],
   "source": [
    "## Now generate a mock stream along the above orbit\n",
    "M_sat = 2.5e4 #progenitor mass\n",
    "start = time.time()\n",
    "lead_arm, trail_arm = pot.gen_stream_final(ts, w_init, M_sat,)\n",
    "end = time.time()\n",
    "print(end-start)"
   ]
  },
  {
   "cell_type": "code",
   "execution_count": 40,
   "id": "6f2b2c3d-4dc3-4c02-9433-d4520579673c",
   "metadata": {},
   "outputs": [
    {
     "data": {
      "text/plain": [
       "<matplotlib.collections.PathCollection at 0x7f8ecc079ca0>"
      ]
     },
     "execution_count": 40,
     "metadata": {},
     "output_type": "execute_result"
    },
    {
     "data": {
      "image/png": "[encoded data removed]",
      "text/plain": [
       "<Figure size 252x189 with 1 Axes>"
      ]
     },
     "metadata": {
      "needs_background": "light"
     },
     "output_type": "display_data"
    }
   ],
   "source": [
    "plt.scatter(lead_arm[:,0],lead_arm[:,1],s=0.01,rasterized=True)\n",
    "plt.scatter(trail_arm[:,0],trail_arm[:,1],s=0.01,rasterized=True)"
   ]
  },
  {
   "cell_type": "code",
   "execution_count": 54,
   "id": "b1b90fb2-da0c-4d44-ab0e-453b11301d6a",
   "metadata": {},
   "outputs": [],
   "source": [
    "from diffrax import diffeqsolve, ODETerm, Dopri5,SaveAt,PIDController,DiscreteTerminatingEvent\n",
    "def f(t, y, args):\n",
    "    return -y\n",
    "\n",
    "term = ODETerm(f)\n",
    "solver = Dopri5()\n",
    "y0 = jnp.array([2., 3.])\n",
    "solution = diffeqsolve(term, solver, t0=0, t1=1, dt0=0.1, y0=y0)"
   ]
  },
  {
   "cell_type": "code",
   "execution_count": 45,
   "id": "05b7742f-fb43-4518-b07d-90db67006cf3",
   "metadata": {},
   "outputs": [],
   "source": [
    "solution = diffeqsolve(term, solver, t0=0, t1=1, dt0=0.1, y0=y0)"
   ]
  },
  {
   "cell_type": "code",
   "execution_count": 66,
   "id": "3bbad6f2-f1f5-4419-bae9-be31c7406fbe",
   "metadata": {},
   "outputs": [],
   "source": [
    "@jax.jit\n",
    "def velocity_acceleration(t,xv,args):\n",
    "    x, v = xv[:3], xv[3:]\n",
    "    acceleration = -pot.gradient(x,t)\n",
    "    return jnp.hstack([v,acceleration])\n",
    "\n",
    "    "
   ]
  },
  {
   "cell_type": "code",
   "execution_count": 87,
   "id": "1b61e11f-7d11-465a-ae50-a9c37eb5ea34",
   "metadata": {},
   "outputs": [
    {
     "data": {
      "text/plain": [
       "Array([0.00000e+00, 2.50000e-01, 5.00000e-01, ..., 3.99950e+03,\n",
       "       3.99975e+03, 4.00000e+03], dtype=float64)"
      ]
     },
     "execution_count": 87,
     "metadata": {},
     "output_type": "execute_result"
    }
   ],
   "source": [
    "ts = jnp.arange(t0, t0 + dt * n_steps + dt/10., dt)\n",
    "ts"
   ]
  },
  {
   "cell_type": "code",
   "execution_count": 96,
   "id": "98356498-3b9e-447a-b48e-52eff88d4c32",
   "metadata": {},
   "outputs": [],
   "source": [
    "term = ODETerm(velocity_acceleration)\n",
    "solver = Dopri5()\n",
    "saveat = SaveAt(t0=True, t1=True, ts=None, dense=False)\n",
    "rtol: float = 1e-7\n",
    "atol: float = 1e-7\n",
    "stepsize_controller = PIDController(rtol=rtol, atol=atol)\n",
    "max_steps: int = 16**3\n",
    "t0 = 0.0\n",
    "t1 = 4000.\n",
    "dense = False\n",
    "y0= w_init\n"
   ]
  },
  {
   "cell_type": "code",
   "execution_count": 97,
   "id": "44b8d825-d0c2-4cb5-a37e-d34ffa5ad40d",
   "metadata": {},
   "outputs": [],
   "source": [
    "solution = diffeqsolve(\n",
    "        terms=term,\n",
    "        solver=solver,\n",
    "        t0=t0,\n",
    "        t1=t1,\n",
    "        y0=y0,\n",
    "        dt0=None,\n",
    "        saveat=saveat,\n",
    "        stepsize_controller=stepsize_controller,\n",
    "        discrete_terminating_event=None,\n",
    "        max_steps=(max_steps if dense else None),\n",
    "    )"
   ]
  },
  {
   "cell_type": "code",
   "execution_count": 100,
   "id": "fe6ed2af-f457-4393-9f17-b6f1d13cc96f",
   "metadata": {},
   "outputs": [
    {
     "data": {
      "text/plain": [
       "(2, 6)"
      ]
     },
     "execution_count": 100,
     "metadata": {},
     "output_type": "execute_result"
    }
   ],
   "source": [
    "solution.ys.shape"
   ]
  },
  {
   "cell_type": "code",
   "execution_count": 78,
   "id": "89642834-47ee-496f-9283-ec7967c157e2",
   "metadata": {},
   "outputs": [
    {
     "data": {
      "text/plain": [
       "Array([ 7.86744457,  0.23100803, 16.41273869, -0.04367866, -0.10606968,\n",
       "       -0.01664439], dtype=float64, weak_type=True)"
      ]
     },
     "execution_count": 78,
     "metadata": {},
     "output_type": "execute_result"
    }
   ],
   "source": [
    "solution.ys[0]"
   ]
  },
  {
   "cell_type": "code",
   "execution_count": 71,
   "id": "470915fb-0bcf-465d-92d9-f38078790804",
   "metadata": {},
   "outputs": [
    {
     "name": "stdout",
     "output_type": "stream",
     "text": [
      "Help on Solution in module diffrax.solution object:\n",
      "\n",
      "class Solution(diffrax.path.AbstractPath)\n",
      " |  Solution(*args, **kwargs)\n",
      " |  \n",
      " |  The solution to a differential equation.\n",
      " |  \n",
      " |  **Attributes:**\n",
      " |  \n",
      " |  - `t0`: The start of the interval that the differential equation was solved over.\n",
      " |  - `t1`: The end of the interval that the differential equation was solved over.\n",
      " |  - `ts`: Some ordered collection of times. Might be `None` if no values were saved.\n",
      " |      (i.e. just `diffeqsolve(..., saveat=SaveAt(dense=True))` is used.)\n",
      " |  - `ys`: The value of the solution at each of the times in `ts`. Might `None` if no\n",
      " |      values were saved.\n",
      " |  - `stats`: Statistics for the solve (number of steps etc.).\n",
      " |  - `result`: Integer specifying the success or cause of failure of the solve. A\n",
      " |      value of `0` corresponds to a successful solve. Any other value is a failure.\n",
      " |      A human-readable message can be obtained by looking up messages via\n",
      " |      `diffrax.RESULTS[<integer>]`.\n",
      " |  - `solver_state`: If saved, the final internal state of the numerical solver.\n",
      " |  - `controller_state`: If saved, the final internal state for the step size\n",
      " |      controller.\n",
      " |  - `made_jump`: If saved, the final internal state for the jump tracker.\n",
      " |  \n",
      " |  !!! note\n",
      " |  \n",
      " |      If `diffeqsolve(..., saveat=SaveAt(steps=True))` is set, then the `ts` and `ys`\n",
      " |      in the solution object will be padded with `NaN`s, out to the value of\n",
      " |      `max_steps` passed to [`diffrax.diffeqsolve`][].\n",
      " |  \n",
      " |      This is because JAX demands that shapes be known statically ahead-of-time. As\n",
      " |      we do not know how many steps we will take until the solve is performed, we\n",
      " |      must allocate enough space for the maximum possible number of steps.\n",
      " |  \n",
      " |  Method resolution order:\n",
      " |      Solution\n",
      " |      diffrax.path.AbstractPath\n",
      " |      equinox._module.Module\n",
      " |      builtins.object\n",
      " |  \n",
      " |  Methods defined here:\n",
      " |  \n",
      " |  __delattr__(self, name)\n",
      " |  \n",
      " |  __init__(self, t0: Union[int, float, diffrax.custom_types.Array], t1: Union[int, float, diffrax.custom_types.Array], ts: Union[diffrax.custom_types.Array, NoneType], ys: Union[diffrax.custom_types.PyTree, NoneType], interpolation: Union[diffrax.global_interpolation.DenseInterpolation, NoneType], stats: Dict[str, Any], result: diffrax.solution.RESULTS, solver_state: Union[diffrax.custom_types.PyTree, NoneType], controller_state: Union[diffrax.custom_types.PyTree, NoneType], made_jump: Union[bool, diffrax.custom_types.Array, NoneType]) -> None\n",
      " |      Initialize self.  See help(type(self)) for accurate signature.\n",
      " |  \n",
      " |  __setattr__(self, name, value)\n",
      " |  \n",
      " |  derivative(self, t: Union[int, float, diffrax.custom_types.Array], left: bool = True) -> diffrax.custom_types.PyTree\n",
      " |      If dense output was saved, then calculate an **approximation** to the\n",
      " |      derivative of the solution at any point in the region of integration `self.t0`\n",
      " |      to `self.t1`.\n",
      " |      \n",
      " |      That is, letting $y$ denote the solution over the interval `[t0, t1]`, then\n",
      " |      this calculates an approximation to $\\frac{\\mathrm{d}y}{\\mathrm{d}t}$.\n",
      " |      \n",
      " |      (This is *not* backpropagating through the differential equation -- that\n",
      " |      typically corresponds to e.g. $\\frac{\\mathrm{d}y(t_1)}{\\mathrm{d}y(t_0)}$.)\n",
      " |      \n",
      " |      !!! example\n",
      " |      \n",
      " |          For an ODE satisfying\n",
      " |      \n",
      " |          $\\frac{\\mathrm{d}y}{\\mathrm{d}t} = f(t, y(t))$\n",
      " |      \n",
      " |          then this value is approximately equal to $f(t, y(t))$.\n",
      " |      \n",
      " |      !!! warning\n",
      " |      \n",
      " |          This value is generally not very accurate. Differential equation solvers\n",
      " |          are usually designed to produce splines whose value is close to the true\n",
      " |          solution; not to produce splines whose derivative is close to the\n",
      " |          derivative of the true solution.\n",
      " |      \n",
      " |          If you need accurate derivatives for the solution of an ODE, it is usually\n",
      " |          best to calculate `vector_field(t, sol.evaluate(t), args)`. That is, to\n",
      " |          pay the extra computational cost of another vector field evaluation, in\n",
      " |          order to get a more accurate value.\n",
      " |      \n",
      " |          Put precisely: this `derivative` method returns the *derivative of the\n",
      " |          numerical solution*, and *not* an approximation to the derivative of the\n",
      " |          true solution.\n",
      " |      \n",
      " |      **Arguments:**\n",
      " |      \n",
      " |      - `t`: The point to calculate the derivative of the solution at.\n",
      " |      - `left`: When evaluating at a jump in the solution, whether to return the\n",
      " |          left-limit or the right-limit at that point.\n",
      " |  \n",
      " |  evaluate(self, t0: Union[int, float, diffrax.custom_types.Array], t1: Union[int, float, diffrax.custom_types.Array, NoneType] = None, left: bool = True) -> diffrax.custom_types.PyTree\n",
      " |      If dense output was saved, then evaluate the solution at any point in the\n",
      " |      region of integration `self.t0` to `self.t1`.\n",
      " |      \n",
      " |      **Arguments:**\n",
      " |      \n",
      " |      - `t0`: The point to evaluate the solution at.\n",
      " |      - `t1`: If passed, then the increment from `t0` to `t1` is returned.\n",
      " |          (`=evaluate(t1) - evaluate(t0)`)\n",
      " |      - `left`: When evaluating at a jump in the solution, whether to return the\n",
      " |          left-limit or the right-limit at that point.\n",
      " |  \n",
      " |  ----------------------------------------------------------------------\n",
      " |  Data and other attributes defined here:\n",
      " |  \n",
      " |  __abstractmethods__ = frozenset()\n",
      " |  \n",
      " |  __annotations__ = {'controller_state': typing.Union[diffrax.custom_typ...\n",
      " |  \n",
      " |  __dataclass_fields__ = {'controller_state': Field(name='controller_sta...\n",
      " |  \n",
      " |  __dataclass_params__ = _DataclassParams(init=True,repr=False,eq=False,...\n",
      " |  \n",
      " |  ----------------------------------------------------------------------\n",
      " |  Methods inherited from equinox._module.Module:\n",
      " |  \n",
      " |  __eq__(self, other)\n",
      " |      Return self==value.\n",
      " |  \n",
      " |  __hash__(self)\n",
      " |      Return hash(self).\n",
      " |  \n",
      " |  __repr__(self)\n",
      " |      Return repr(self).\n",
      " |  \n",
      " |  ----------------------------------------------------------------------\n",
      " |  Data descriptors inherited from equinox._module.Module:\n",
      " |  \n",
      " |  __dict__\n",
      " |      dictionary for instance variables (if defined)\n",
      " |  \n",
      " |  __weakref__\n",
      " |      list of weak references to the object (if defined)\n",
      " |  \n",
      " |  ----------------------------------------------------------------------\n",
      " |  Data and other attributes inherited from equinox._module.Module:\n",
      " |  \n",
      " |  __dataclass_transform__ = {'eq_default': True, 'field_specifiers': (<f...\n",
      "\n"
     ]
    }
   ],
   "source": [
    "help(solution)"
   ]
  },
  {
   "cell_type": "code",
   "execution_count": null,
   "id": "8125dd2a-f3c9-49f2-8d99-c56348013e1b",
   "metadata": {},
   "outputs": [],
   "source": []
  }
 ],
 "metadata": {
  "kernelspec": {
   "display_name": "Python 3 (ipykernel)",
   "language": "python",
   "name": "python3"
  },
  "language_info": {
   "codemirror_mode": {
    "name": "ipython",
    "version": 3
   },
   "file_extension": ".py",
   "mimetype": "text/x-python",
   "name": "python",
   "nbconvert_exporter": "python",
   "pygments_lexer": "ipython3",
   "version": "3.8.12"
  }
 },
 "nbformat": 4,
 "nbformat_minor": 5
}
