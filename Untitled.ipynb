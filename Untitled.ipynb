{
 "cells": [
  {
   "cell_type": "code",
   "execution_count": 1,
   "id": "191dd893-4908-4890-80d0-19b206db2361",
   "metadata": {},
   "outputs": [],
   "source": [
    "import jax \n",
    "import sstrax \n",
    "import matplotlib.pyplot as plt"
   ]
  },
  {
   "cell_type": "code",
   "execution_count": 2,
   "id": "f94064a8-daea-4922-aa9b-b4d97b3ec712",
   "metadata": {},
   "outputs": [
    {
     "name": "stdout",
     "output_type": "stream",
     "text": [
      "Help on class Parameters in module sstrax.constants:\n",
      "\n",
      "class Parameters(collections.abc.Mapping)\n",
      " |  Parameters(xc: float = 12.4, yc: float = 1.5, zc: float = 7.1, vxc: float = 107.0, vyc: float = -243.0, vzc: float = -105.0, age: float = 1000.0, msat: float = 10000.0, xi0: float = 0.001, alpha: float = 14.9, rh: float = 0.001, mbar: float = 2.0, sigv: float = 0.5, lrelease: float = 1.9, lmatch: float = 1.0, stripnear: float = 0.5) -> None\n",
      " |  \n",
      " |  Dataclass for the full set of parameters defining the stream simulation model\n",
      " |  Args:\n",
      " |    xc, yc, zc: current cluster location in [kpc]\n",
      " |    vxc, vyc, vzc: current cluster velocity in [km/s]\n",
      " |    age: (disruption) age of the stream in [Myr]\n",
      " |    msat: initial mass of the cluster in [Msol]\n",
      " |    xi0: dimensionless mass loss prefactor\n",
      " |    alpha: tidal strippping mass loss power law\n",
      " |    mbar: average stellar mass in [Msol]\n",
      " |    sigv: internal velocity dispersion of cluster in [km/s]\n",
      " |    lrelease, lmatch: dimensionless tidal position and velocity matching\n",
      " |    stripnear: probability of stripping from the innermost Lagrange point\n",
      " |  Returns:\n",
      " |    Stream parameters data class\n",
      " |  Examples\n",
      " |  --------\n",
      " |  >>> Parameters(xc=12.4, yc=1.5)\n",
      " |  \n",
      " |  Method resolution order:\n",
      " |      Parameters\n",
      " |      collections.abc.Mapping\n",
      " |      collections.abc.Collection\n",
      " |      collections.abc.Sized\n",
      " |      collections.abc.Iterable\n",
      " |      collections.abc.Container\n",
      " |      builtins.object\n",
      " |  \n",
      " |  Methods defined here:\n",
      " |  \n",
      " |  __eq__(self, other)\n",
      " |  \n",
      " |  __getitem__ lambda self, x\n",
      " |      # Define methods for compatibility with `collections.abc.Mapping`.\n",
      " |  \n",
      " |  __getstate__ = _getstate(self)\n",
      " |  \n",
      " |  __init__(self, xc: float = 12.4, yc: float = 1.5, zc: float = 7.1, vxc: float = 107.0, vyc: float = -243.0, vzc: float = -105.0, age: float = 1000.0, msat: float = 10000.0, xi0: float = 0.001, alpha: float = 14.9, rh: float = 0.001, mbar: float = 2.0, sigv: float = 0.5, lrelease: float = 1.9, lmatch: float = 1.0, stripnear: float = 0.5) -> None\n",
      " |      # Patch object's __init__ such that the class is registered on creation if\n",
      " |      # it is not registered on deserialization.\n",
      " |  \n",
      " |  __iter__ lambda self\n",
      " |  \n",
      " |  __len__ lambda self\n",
      " |  \n",
      " |  __repr__(self)\n",
      " |  \n",
      " |  __setstate__ = _setstate(self, state)\n",
      " |      # Patch __setstate__ to register the object on deserialization.\n",
      " |  \n",
      " |  from_tuple = _from_tuple(args)\n",
      " |  \n",
      " |  replace = _replace(self, **kwargs)\n",
      " |  \n",
      " |  to_tuple = _to_tuple(self)\n",
      " |  \n",
      " |  ----------------------------------------------------------------------\n",
      " |  Class methods defined here:\n",
      " |  \n",
      " |  from_values(values, names=None) from abc.ABCMeta\n",
      " |  \n",
      " |  ----------------------------------------------------------------------\n",
      " |  Readonly properties defined here:\n",
      " |  \n",
      " |  cluster_final\n",
      " |  \n",
      " |  cluster_pos_final\n",
      " |  \n",
      " |  cluster_vel_final\n",
      " |  \n",
      " |  mass_args\n",
      " |  \n",
      " |  sigv_kpcMyr\n",
      " |  \n",
      " |  ----------------------------------------------------------------------\n",
      " |  Data descriptors defined here:\n",
      " |  \n",
      " |  __dict__\n",
      " |      dictionary for instance variables (if defined)\n",
      " |  \n",
      " |  __weakref__\n",
      " |      list of weak references to the object (if defined)\n",
      " |  \n",
      " |  ----------------------------------------------------------------------\n",
      " |  Data and other attributes defined here:\n",
      " |  \n",
      " |  __abstractmethods__ = frozenset()\n",
      " |  \n",
      " |  __annotations__ = {'age': <class 'float'>, 'alpha': <class 'float'>, '...\n",
      " |  \n",
      " |  __dataclass_fields__ = {'age': Field(name='age',type=<class 'float'>,d...\n",
      " |  \n",
      " |  __dataclass_params__ = _DataclassParams(init=True,repr=True,eq=True,or...\n",
      " |  \n",
      " |  __hash__ = None\n",
      " |  \n",
      " |  age = 1000.0\n",
      " |  \n",
      " |  alpha = 14.9\n",
      " |  \n",
      " |  lmatch = 1.0\n",
      " |  \n",
      " |  lrelease = 1.9\n",
      " |  \n",
      " |  mbar = 2.0\n",
      " |  \n",
      " |  msat = 10000.0\n",
      " |  \n",
      " |  rh = 0.001\n",
      " |  \n",
      " |  sigv = 0.5\n",
      " |  \n",
      " |  stripnear = 0.5\n",
      " |  \n",
      " |  vxc = 107.0\n",
      " |  \n",
      " |  vyc = -243.0\n",
      " |  \n",
      " |  vzc = -105.0\n",
      " |  \n",
      " |  xc = 12.4\n",
      " |  \n",
      " |  xi0 = 0.001\n",
      " |  \n",
      " |  yc = 1.5\n",
      " |  \n",
      " |  zc = 7.1\n",
      " |  \n",
      " |  ----------------------------------------------------------------------\n",
      " |  Methods inherited from collections.abc.Mapping:\n",
      " |  \n",
      " |  __contains__(self, key)\n",
      " |  \n",
      " |  get(self, key, default=None)\n",
      " |      D.get(k[,d]) -> D[k] if k in D, else d.  d defaults to None.\n",
      " |  \n",
      " |  items(self)\n",
      " |      D.items() -> a set-like object providing a view on D's items\n",
      " |  \n",
      " |  keys(self)\n",
      " |      D.keys() -> a set-like object providing a view on D's keys\n",
      " |  \n",
      " |  values(self)\n",
      " |      D.values() -> an object providing a view on D's values\n",
      " |  \n",
      " |  ----------------------------------------------------------------------\n",
      " |  Data and other attributes inherited from collections.abc.Mapping:\n",
      " |  \n",
      " |  __reversed__ = None\n",
      " |  \n",
      " |  ----------------------------------------------------------------------\n",
      " |  Class methods inherited from collections.abc.Collection:\n",
      " |  \n",
      " |  __subclasshook__(C) from abc.ABCMeta\n",
      " |      Abstract classes can override this to customize issubclass().\n",
      " |      \n",
      " |      This is invoked early on by abc.ABCMeta.__subclasscheck__().\n",
      " |      It should return True, False or NotImplemented.  If it returns\n",
      " |      NotImplemented, the normal algorithm is used.  Otherwise, it\n",
      " |      overrides the normal algorithm (and the outcome is cached).\n",
      "\n"
     ]
    }
   ],
   "source": [
    "import time\n",
    "help(sstrax.Parameters)"
   ]
  },
  {
   "cell_type": "code",
   "execution_count": 3,
   "id": "dd0e1b6a-0f02-4730-9f32-05603a236dca",
   "metadata": {},
   "outputs": [
    {
     "data": {
      "text/latex": [
       "$0.22499668 \\; \\mathrm{\\frac{kpc}{Myr}}$"
      ],
      "text/plain": [
       "<Quantity 0.22499668 kpc / Myr>"
      ]
     },
     "execution_count": 3,
     "metadata": {},
     "output_type": "execute_result"
    }
   ],
   "source": [
    "from astropy import units as u\n",
    "(220*u.km/u.s).to(u.kpc/u.Myr)"
   ]
  },
  {
   "cell_type": "code",
   "execution_count": 37,
   "id": "52ba5bc6-d8e7-4a25-93af-aa3104c92897",
   "metadata": {},
   "outputs": [],
   "source": [
    "params = sstrax.Parameters(xc=8,yc=4,zc=8,vxc=30,vyc=251.,vzc=40.,age=8000.0,msat=1e4)\n",
    "stream = sstrax.simulate_stream(jax.random.PRNGKey(0), params)"
   ]
  },
  {
   "cell_type": "code",
   "execution_count": 38,
   "id": "bd185f00-de8e-43c5-99a6-cea4b28347c5",
   "metadata": {},
   "outputs": [
    {
     "data": {
      "text/plain": [
       "<matplotlib.collections.PathCollection at 0x7ffa6d801280>"
      ]
     },
     "execution_count": 38,
     "metadata": {},
     "output_type": "execute_result"
    },
    {
     "data": {
      "image/png": "[encoded data removed]",
      "text/plain": [
       "<Figure size 432x288 with 1 Axes>"
      ]
     },
     "metadata": {
      "needs_background": "light"
     },
     "output_type": "display_data"
    }
   ],
   "source": [
    "plt.scatter(stream[:,3],stream[:,4],s=0.5)"
   ]
  },
  {
   "cell_type": "code",
   "execution_count": 34,
   "id": "84d5547f-e0f4-4795-8419-51c55ea12abe",
   "metadata": {},
   "outputs": [
    {
     "data": {
      "text/plain": [
       "(1059, 6)"
      ]
     },
     "execution_count": 34,
     "metadata": {},
     "output_type": "execute_result"
    }
   ],
   "source": [
    "stream.shape"
   ]
  },
  {
   "cell_type": "code",
   "execution_count": 41,
   "id": "6b94cf2b-a955-435a-9514-25ed557cb568",
   "metadata": {},
   "outputs": [
    {
     "ename": "NameError",
     "evalue": "name 'jnp' is not defined",
     "output_type": "error",
     "traceback": [
      "\u001b[0;31m---------------------------------------------------------------------------\u001b[0m",
      "\u001b[0;31mNameError\u001b[0m                                 Traceback (most recent call last)",
      "\u001b[0;32m/var/folders/rq/9c89gb15479bjnxrpnmdf_p40000gn/T/ipykernel_3672/4218221744.py\u001b[0m in \u001b[0;36m<module>\u001b[0;34m\u001b[0m\n\u001b[0;32m----> 1\u001b[0;31m \u001b[0mjnp\u001b[0m\u001b[0;34m.\u001b[0m\u001b[0msum\u001b[0m\u001b[0;34m(\u001b[0m\u001b[0mstream\u001b[0m\u001b[0;34m)\u001b[0m\u001b[0;34m\u001b[0m\u001b[0;34m\u001b[0m\u001b[0m\n\u001b[0m",
      "\u001b[0;31mNameError\u001b[0m: name 'jnp' is not defined"
     ]
    }
   ],
   "source": [
    "jnp.sum(stream)"
   ]
  },
  {
   "cell_type": "code",
   "execution_count": null,
   "id": "ad3ddd0f-1ee1-4d53-b46b-5ba3aeee5188",
   "metadata": {},
   "outputs": [],
   "source": []
  },
  {
   "cell_type": "code",
   "execution_count": 65,
   "id": "8e31dd54-7984-4b9c-bfdf-c43761d66119",
   "metadata": {},
   "outputs": [
    {
     "data": {
      "text/plain": [
       "['__abstractmethods__',\n",
       " '__annotations__',\n",
       " '__class__',\n",
       " '__contains__',\n",
       " '__dataclass_fields__',\n",
       " '__dataclass_params__',\n",
       " '__delattr__',\n",
       " '__dict__',\n",
       " '__dir__',\n",
       " '__doc__',\n",
       " '__eq__',\n",
       " '__format__',\n",
       " '__ge__',\n",
       " '__getattribute__',\n",
       " '__getitem__',\n",
       " '__getstate__',\n",
       " '__gt__',\n",
       " '__hash__',\n",
       " '__init__',\n",
       " '__init_subclass__',\n",
       " '__iter__',\n",
       " '__le__',\n",
       " '__len__',\n",
       " '__lt__',\n",
       " '__module__',\n",
       " '__ne__',\n",
       " '__new__',\n",
       " '__reduce__',\n",
       " '__reduce_ex__',\n",
       " '__repr__',\n",
       " '__reversed__',\n",
       " '__setattr__',\n",
       " '__setstate__',\n",
       " '__sizeof__',\n",
       " '__slots__',\n",
       " '__str__',\n",
       " '__subclasshook__',\n",
       " '__weakref__',\n",
       " '_abc_impl',\n",
       " 'age',\n",
       " 'alpha',\n",
       " 'cluster_final',\n",
       " 'cluster_pos_final',\n",
       " 'cluster_vel_final',\n",
       " 'from_tuple',\n",
       " 'from_values',\n",
       " 'get',\n",
       " 'items',\n",
       " 'keys',\n",
       " 'lmatch',\n",
       " 'lrelease',\n",
       " 'mass_args',\n",
       " 'mbar',\n",
       " 'msat',\n",
       " 'replace',\n",
       " 'rh',\n",
       " 'sigv',\n",
       " 'sigv_kpcMyr',\n",
       " 'stripnear',\n",
       " 'to_tuple',\n",
       " 'values',\n",
       " 'vxc',\n",
       " 'vyc',\n",
       " 'vzc',\n",
       " 'xc',\n",
       " 'xi0',\n",
       " 'yc',\n",
       " 'zc']"
      ]
     },
     "execution_count": 65,
     "metadata": {},
     "output_type": "execute_result"
    }
   ],
   "source": [
    "dir(sstrax.Parameters())"
   ]
  },
  {
   "cell_type": "code",
   "execution_count": 84,
   "id": "27bbb7fb-d0e9-417f-9cb8-b1ad459415b7",
   "metadata": {},
   "outputs": [
    {
     "ename": "TypeError",
     "evalue": "iteration over a 0-d array",
     "output_type": "error",
     "traceback": [
      "\u001b[0;31m---------------------------------------------------------------------------\u001b[0m",
      "\u001b[0;31mTypeError\u001b[0m                                 Traceback (most recent call last)",
      "\u001b[0;32m/var/folders/rq/9c89gb15479bjnxrpnmdf_p40000gn/T/ipykernel_3672/867813607.py\u001b[0m in \u001b[0;36m<module>\u001b[0;34m\u001b[0m\n\u001b[1;32m     64\u001b[0m \u001b[0;34m\u001b[0m\u001b[0m\n\u001b[1;32m     65\u001b[0m \u001b[0;31m# Call the function with step_array as an argument\u001b[0m\u001b[0;34m\u001b[0m\u001b[0;34m\u001b[0m\u001b[0;34m\u001b[0m\u001b[0m\n\u001b[0;32m---> 66\u001b[0;31m \u001b[0mpositions\u001b[0m\u001b[0;34m,\u001b[0m \u001b[0mx\u001b[0m\u001b[0;34m,\u001b[0m \u001b[0my\u001b[0m\u001b[0;34m,\u001b[0m \u001b[0mz\u001b[0m\u001b[0;34m,\u001b[0m \u001b[0mvx\u001b[0m\u001b[0;34m,\u001b[0m \u001b[0mvy\u001b[0m\u001b[0;34m,\u001b[0m \u001b[0mvz\u001b[0m \u001b[0;34m=\u001b[0m \u001b[0mleapfrog_integration\u001b[0m\u001b[0;34m(\u001b[0m\u001b[0mx0\u001b[0m\u001b[0;34m,\u001b[0m \u001b[0my0\u001b[0m\u001b[0;34m,\u001b[0m \u001b[0mz0\u001b[0m\u001b[0;34m,\u001b[0m \u001b[0mvx0\u001b[0m\u001b[0;34m,\u001b[0m \u001b[0mvy0\u001b[0m\u001b[0;34m,\u001b[0m \u001b[0mvz0\u001b[0m\u001b[0;34m,\u001b[0m \u001b[0mM\u001b[0m\u001b[0;34m,\u001b[0m \u001b[0mrs\u001b[0m\u001b[0;34m,\u001b[0m \u001b[0mdt\u001b[0m\u001b[0;34m,\u001b[0m \u001b[0msteps\u001b[0m\u001b[0;34m,\u001b[0m \u001b[0mstep_array\u001b[0m\u001b[0;34m)\u001b[0m\u001b[0;34m\u001b[0m\u001b[0;34m\u001b[0m\u001b[0m\n\u001b[0m\u001b[1;32m     67\u001b[0m \u001b[0;34m\u001b[0m\u001b[0m\n\u001b[1;32m     68\u001b[0m \u001b[0;34m\u001b[0m\u001b[0m\n",
      "    \u001b[0;31m[... skipping hidden 12 frame]\u001b[0m\n",
      "\u001b[0;32m/var/folders/rq/9c89gb15479bjnxrpnmdf_p40000gn/T/ipykernel_3672/867813607.py\u001b[0m in \u001b[0;36mleapfrog_integration\u001b[0;34m(x0, y0, z0, vx0, vy0, vz0, M, rs, dt, steps, step_array)\u001b[0m\n\u001b[1;32m     45\u001b[0m     \u001b[0minitial_state\u001b[0m \u001b[0;34m=\u001b[0m \u001b[0;34m(\u001b[0m\u001b[0mx0\u001b[0m\u001b[0;34m,\u001b[0m \u001b[0my0\u001b[0m\u001b[0;34m,\u001b[0m \u001b[0mz0\u001b[0m\u001b[0;34m,\u001b[0m \u001b[0mvx0\u001b[0m\u001b[0;34m,\u001b[0m \u001b[0mvy0\u001b[0m\u001b[0;34m,\u001b[0m \u001b[0mvz0\u001b[0m\u001b[0;34m,\u001b[0m \u001b[0mjnp\u001b[0m\u001b[0;34m.\u001b[0m\u001b[0marray\u001b[0m\u001b[0;34m(\u001b[0m\u001b[0;34m[\u001b[0m\u001b[0;34m[\u001b[0m\u001b[0mx0\u001b[0m\u001b[0;34m,\u001b[0m \u001b[0my0\u001b[0m\u001b[0;34m,\u001b[0m \u001b[0mz0\u001b[0m\u001b[0;34m]\u001b[0m\u001b[0;34m]\u001b[0m\u001b[0;34m)\u001b[0m\u001b[0;34m)\u001b[0m\u001b[0;34m\u001b[0m\u001b[0;34m\u001b[0m\u001b[0m\n\u001b[1;32m     46\u001b[0m \u001b[0;34m\u001b[0m\u001b[0m\n\u001b[0;32m---> 47\u001b[0;31m     \u001b[0mfinal_state\u001b[0m \u001b[0;34m=\u001b[0m \u001b[0mlax\u001b[0m\u001b[0;34m.\u001b[0m\u001b[0mscan\u001b[0m\u001b[0;34m(\u001b[0m\u001b[0mbody_fn\u001b[0m\u001b[0;34m,\u001b[0m \u001b[0minitial_state\u001b[0m\u001b[0;34m,\u001b[0m \u001b[0mstep_array\u001b[0m\u001b[0;34m)\u001b[0m\u001b[0;34m[\u001b[0m\u001b[0;36m1\u001b[0m\u001b[0;34m]\u001b[0m\u001b[0;34m\u001b[0m\u001b[0;34m\u001b[0m\u001b[0m\n\u001b[0m\u001b[1;32m     48\u001b[0m \u001b[0;34m\u001b[0m\u001b[0m\n\u001b[1;32m     49\u001b[0m     \u001b[0mx\u001b[0m\u001b[0;34m,\u001b[0m \u001b[0my\u001b[0m\u001b[0;34m,\u001b[0m \u001b[0mz\u001b[0m\u001b[0;34m,\u001b[0m \u001b[0mvx\u001b[0m\u001b[0;34m,\u001b[0m \u001b[0mvy\u001b[0m\u001b[0;34m,\u001b[0m \u001b[0mvz\u001b[0m\u001b[0;34m,\u001b[0m \u001b[0mpositions\u001b[0m \u001b[0;34m=\u001b[0m \u001b[0mfinal_state\u001b[0m\u001b[0;34m\u001b[0m\u001b[0;34m\u001b[0m\u001b[0m\n",
      "    \u001b[0;31m[... skipping hidden 9 frame]\u001b[0m\n",
      "\u001b[0;32m/var/folders/rq/9c89gb15479bjnxrpnmdf_p40000gn/T/ipykernel_3672/867813607.py\u001b[0m in \u001b[0;36mbody_fn\u001b[0;34m(i, state)\u001b[0m\n\u001b[1;32m     24\u001b[0m \u001b[0;32mdef\u001b[0m \u001b[0mleapfrog_integration\u001b[0m\u001b[0;34m(\u001b[0m\u001b[0mx0\u001b[0m\u001b[0;34m,\u001b[0m \u001b[0my0\u001b[0m\u001b[0;34m,\u001b[0m \u001b[0mz0\u001b[0m\u001b[0;34m,\u001b[0m \u001b[0mvx0\u001b[0m\u001b[0;34m,\u001b[0m \u001b[0mvy0\u001b[0m\u001b[0;34m,\u001b[0m \u001b[0mvz0\u001b[0m\u001b[0;34m,\u001b[0m \u001b[0mM\u001b[0m\u001b[0;34m,\u001b[0m \u001b[0mrs\u001b[0m\u001b[0;34m,\u001b[0m \u001b[0mdt\u001b[0m\u001b[0;34m,\u001b[0m \u001b[0msteps\u001b[0m\u001b[0;34m,\u001b[0m \u001b[0mstep_array\u001b[0m\u001b[0;34m)\u001b[0m\u001b[0;34m:\u001b[0m\u001b[0;34m\u001b[0m\u001b[0;34m\u001b[0m\u001b[0m\n\u001b[1;32m     25\u001b[0m     \u001b[0;32mdef\u001b[0m \u001b[0mbody_fn\u001b[0m\u001b[0;34m(\u001b[0m\u001b[0mi\u001b[0m\u001b[0;34m,\u001b[0m \u001b[0mstate\u001b[0m\u001b[0;34m)\u001b[0m\u001b[0;34m:\u001b[0m\u001b[0;34m\u001b[0m\u001b[0;34m\u001b[0m\u001b[0m\n\u001b[0;32m---> 26\u001b[0;31m         \u001b[0mx\u001b[0m\u001b[0;34m,\u001b[0m \u001b[0my\u001b[0m\u001b[0;34m,\u001b[0m \u001b[0mz\u001b[0m\u001b[0;34m,\u001b[0m \u001b[0mvx\u001b[0m\u001b[0;34m,\u001b[0m \u001b[0mvy\u001b[0m\u001b[0;34m,\u001b[0m \u001b[0mvz\u001b[0m\u001b[0;34m,\u001b[0m \u001b[0mpositions\u001b[0m \u001b[0;34m=\u001b[0m \u001b[0mstate\u001b[0m\u001b[0;34m\u001b[0m\u001b[0;34m\u001b[0m\u001b[0m\n\u001b[0m\u001b[1;32m     27\u001b[0m         \u001b[0mforce_x\u001b[0m\u001b[0;34m,\u001b[0m \u001b[0mforce_y\u001b[0m\u001b[0;34m,\u001b[0m \u001b[0mforce_z\u001b[0m \u001b[0;34m=\u001b[0m \u001b[0mcompute_force\u001b[0m\u001b[0;34m(\u001b[0m\u001b[0mx\u001b[0m\u001b[0;34m,\u001b[0m \u001b[0my\u001b[0m\u001b[0;34m,\u001b[0m \u001b[0mz\u001b[0m\u001b[0;34m,\u001b[0m \u001b[0mM\u001b[0m\u001b[0;34m,\u001b[0m \u001b[0mrs\u001b[0m\u001b[0;34m)\u001b[0m\u001b[0;34m\u001b[0m\u001b[0;34m\u001b[0m\u001b[0m\n\u001b[1;32m     28\u001b[0m \u001b[0;34m\u001b[0m\u001b[0m\n",
      "    \u001b[0;31m[... skipping hidden 1 frame]\u001b[0m\n",
      "\u001b[0;32m~/opt/anaconda3/envs/MachineLearnGravPotential/lib/python3.8/site-packages/jax/_src/lax/lax.py\u001b[0m in \u001b[0;36m_iter\u001b[0;34m(tracer)\u001b[0m\n\u001b[1;32m   1457\u001b[0m \u001b[0;32mdef\u001b[0m \u001b[0m_iter\u001b[0m\u001b[0;34m(\u001b[0m\u001b[0mtracer\u001b[0m\u001b[0;34m)\u001b[0m\u001b[0;34m:\u001b[0m\u001b[0;34m\u001b[0m\u001b[0;34m\u001b[0m\u001b[0m\n\u001b[1;32m   1458\u001b[0m   \u001b[0;32mif\u001b[0m \u001b[0mtracer\u001b[0m\u001b[0;34m.\u001b[0m\u001b[0mndim\u001b[0m \u001b[0;34m==\u001b[0m \u001b[0;36m0\u001b[0m\u001b[0;34m:\u001b[0m\u001b[0;34m\u001b[0m\u001b[0;34m\u001b[0m\u001b[0m\n\u001b[0;32m-> 1459\u001b[0;31m     \u001b[0;32mraise\u001b[0m \u001b[0mTypeError\u001b[0m\u001b[0;34m(\u001b[0m\u001b[0;34m\"iteration over a 0-d array\"\u001b[0m\u001b[0;34m)\u001b[0m  \u001b[0;31m# same as numpy error\u001b[0m\u001b[0;34m\u001b[0m\u001b[0;34m\u001b[0m\u001b[0m\n\u001b[0m\u001b[1;32m   1460\u001b[0m   \u001b[0;32melse\u001b[0m\u001b[0;34m:\u001b[0m\u001b[0;34m\u001b[0m\u001b[0;34m\u001b[0m\u001b[0m\n\u001b[1;32m   1461\u001b[0m     \u001b[0mn\u001b[0m \u001b[0;34m=\u001b[0m \u001b[0mint\u001b[0m\u001b[0;34m(\u001b[0m\u001b[0mtracer\u001b[0m\u001b[0;34m.\u001b[0m\u001b[0mshape\u001b[0m\u001b[0;34m[\u001b[0m\u001b[0;36m0\u001b[0m\u001b[0;34m]\u001b[0m\u001b[0;34m)\u001b[0m\u001b[0;34m\u001b[0m\u001b[0;34m\u001b[0m\u001b[0m\n",
      "\u001b[0;31mTypeError\u001b[0m: iteration over a 0-d array"
     ]
    }
   ],
   "source": [
    "import jax\n",
    "import jax.numpy as jnp\n",
    "from jax import jit, grad, lax\n",
    "\n",
    "\n",
    "# Define the potential function for a spherical NFW halo\n",
    "def nfw_potential(x, y, z, M, rs):\n",
    "    r = jnp.sqrt(x**2 + y**2 + z**2)\n",
    "    x = r / rs\n",
    "    return -M * jnp.log(1 + x) / x\n",
    "\n",
    "# Define the force calculation using automatic differentiation\n",
    "@jit\n",
    "def compute_force(x, y, z, M, rs):\n",
    "    potential_fn = lambda x, y, z: nfw_potential(x, y, z, M, rs)\n",
    "    force_fn = jit(grad(potential_fn))\n",
    "    force_x = -force_fn(x, y, z)\n",
    "    force_y = -force_fn(y, x, z)  # Swap y and x for jax.autograd compatibility\n",
    "    force_z = -force_fn(z, x, y)  # Swap z and x for jax.autograd compatibility\n",
    "    return force_x, force_y, force_z\n",
    "\n",
    "# Leapfrog integrator\n",
    "@jit\n",
    "def leapfrog_integration(x0, y0, z0, vx0, vy0, vz0, M, rs, dt, steps, step_array):\n",
    "    def body_fn(i, state):\n",
    "        x, y, z, vx, vy, vz, positions = state\n",
    "        force_x, force_y, force_z = compute_force(x, y, z, M, rs)\n",
    "\n",
    "        vx += force_x * dt / 2.0\n",
    "        vy += force_y * dt / 2.0\n",
    "        vz += force_z * dt / 2.0\n",
    "\n",
    "        x += vx * dt\n",
    "        y += vy * dt\n",
    "        z += vz * dt\n",
    "\n",
    "        vx += force_x * dt / 2.0\n",
    "        vy += force_y * dt / 2.0\n",
    "        vz += force_z * dt / 2.0\n",
    "\n",
    "        positions = jnp.vstack((positions, jnp.array((x, y, z))))\n",
    "\n",
    "        return (x, y, z, vx, vy, vz, positions)\n",
    "\n",
    "    initial_state = (x0, y0, z0, vx0, vy0, vz0, jnp.array([[x0, y0, z0]]))\n",
    "\n",
    "    final_state = lax.scan(body_fn, initial_state, step_array)[1]\n",
    "\n",
    "    x, y, z, vx, vy, vz, positions = final_state\n",
    "\n",
    "    return positions, x, y, z, vx, vy, vz\n",
    "\n",
    "# Initial conditions\n",
    "x0, y0, z0 = 1.0, 0.0, 0.0\n",
    "vx0, vy0, vz0 = 0.0, 1.0, 0.0\n",
    "M = 1e12  # Mass of the NFW halo\n",
    "rs = 10.0  # Scale radius of the NFW halo\n",
    "dt = 0.01  # Time step\n",
    "steps = 1000  # Number of integration steps\n",
    "\n",
    "\n",
    "# Generate the step array outside of the JIT-compiled function\n",
    "step_array = jnp.arange(steps)\n",
    "\n",
    "# Call the function with step_array as an argument\n",
    "positions, x, y, z, vx, vy, vz = leapfrog_integration(x0, y0, z0, vx0, vy0, vz0, M, rs, dt, steps, step_array)\n",
    "\n",
    "    \n",
    "\n",
    "\n",
    "# Perform the integration\n",
    "#aa = leapfrog_integration(x0, y0, z0, vx0, vy0, vz0, M, rs, dt, steps)\n",
    "\n",
    "# Access the final position and velocity\n",
    "#final_position = positions[-1]\n",
    "#final_velocity = velocities[-1]\n",
    "\n",
    "#print(\"Final Position:\", final_position)\n",
    "#print(\"Final Velocity:\", final_velocity)"
   ]
  },
  {
   "cell_type": "code",
   "execution_count": 85,
   "id": "9131d393-b257-40d1-b403-3b8e56bab247",
   "metadata": {},
   "outputs": [
    {
     "data": {
      "text/plain": [
       "Array([  0,   1,   2,   3,   4,   5,   6,   7,   8,   9,  10,  11,  12,\n",
       "        13,  14,  15,  16,  17,  18,  19,  20,  21,  22,  23,  24,  25,\n",
       "        26,  27,  28,  29,  30,  31,  32,  33,  34,  35,  36,  37,  38,\n",
       "        39,  40,  41,  42,  43,  44,  45,  46,  47,  48,  49,  50,  51,\n",
       "        52,  53,  54,  55,  56,  57,  58,  59,  60,  61,  62,  63,  64,\n",
       "        65,  66,  67,  68,  69,  70,  71,  72,  73,  74,  75,  76,  77,\n",
       "        78,  79,  80,  81,  82,  83,  84,  85,  86,  87,  88,  89,  90,\n",
       "        91,  92,  93,  94,  95,  96,  97,  98,  99, 100, 101, 102, 103,\n",
       "       104, 105, 106, 107, 108, 109, 110, 111, 112, 113, 114, 115, 116,\n",
       "       117, 118, 119, 120, 121, 122, 123, 124, 125, 126, 127, 128, 129,\n",
       "       130, 131, 132, 133, 134, 135, 136, 137, 138, 139, 140, 141, 142,\n",
       "       143, 144, 145, 146, 147, 148, 149, 150, 151, 152, 153, 154, 155,\n",
       "       156, 157, 158, 159, 160, 161, 162, 163, 164, 165, 166, 167, 168,\n",
       "       169, 170, 171, 172, 173, 174, 175, 176, 177, 178, 179, 180, 181,\n",
       "       182, 183, 184, 185, 186, 187, 188, 189, 190, 191, 192, 193, 194,\n",
       "       195, 196, 197, 198, 199, 200, 201, 202, 203, 204, 205, 206, 207,\n",
       "       208, 209, 210, 211, 212, 213, 214, 215, 216, 217, 218, 219, 220,\n",
       "       221, 222, 223, 224, 225, 226, 227, 228, 229, 230, 231, 232, 233,\n",
       "       234, 235, 236, 237, 238, 239, 240, 241, 242, 243, 244, 245, 246,\n",
       "       247, 248, 249, 250, 251, 252, 253, 254, 255, 256, 257, 258, 259,\n",
       "       260, 261, 262, 263, 264, 265, 266, 267, 268, 269, 270, 271, 272,\n",
       "       273, 274, 275, 276, 277, 278, 279, 280, 281, 282, 283, 284, 285,\n",
       "       286, 287, 288, 289, 290, 291, 292, 293, 294, 295, 296, 297, 298,\n",
       "       299, 300, 301, 302, 303, 304, 305, 306, 307, 308, 309, 310, 311,\n",
       "       312, 313, 314, 315, 316, 317, 318, 319, 320, 321, 322, 323, 324,\n",
       "       325, 326, 327, 328, 329, 330, 331, 332, 333, 334, 335, 336, 337,\n",
       "       338, 339, 340, 341, 342, 343, 344, 345, 346, 347, 348, 349, 350,\n",
       "       351, 352, 353, 354, 355, 356, 357, 358, 359, 360, 361, 362, 363,\n",
       "       364, 365, 366, 367, 368, 369, 370, 371, 372, 373, 374, 375, 376,\n",
       "       377, 378, 379, 380, 381, 382, 383, 384, 385, 386, 387, 388, 389,\n",
       "       390, 391, 392, 393, 394, 395, 396, 397, 398, 399, 400, 401, 402,\n",
       "       403, 404, 405, 406, 407, 408, 409, 410, 411, 412, 413, 414, 415,\n",
       "       416, 417, 418, 419, 420, 421, 422, 423, 424, 425, 426, 427, 428,\n",
       "       429, 430, 431, 432, 433, 434, 435, 436, 437, 438, 439, 440, 441,\n",
       "       442, 443, 444, 445, 446, 447, 448, 449, 450, 451, 452, 453, 454,\n",
       "       455, 456, 457, 458, 459, 460, 461, 462, 463, 464, 465, 466, 467,\n",
       "       468, 469, 470, 471, 472, 473, 474, 475, 476, 477, 478, 479, 480,\n",
       "       481, 482, 483, 484, 485, 486, 487, 488, 489, 490, 491, 492, 493,\n",
       "       494, 495, 496, 497, 498, 499, 500, 501, 502, 503, 504, 505, 506,\n",
       "       507, 508, 509, 510, 511, 512, 513, 514, 515, 516, 517, 518, 519,\n",
       "       520, 521, 522, 523, 524, 525, 526, 527, 528, 529, 530, 531, 532,\n",
       "       533, 534, 535, 536, 537, 538, 539, 540, 541, 542, 543, 544, 545,\n",
       "       546, 547, 548, 549, 550, 551, 552, 553, 554, 555, 556, 557, 558,\n",
       "       559, 560, 561, 562, 563, 564, 565, 566, 567, 568, 569, 570, 571,\n",
       "       572, 573, 574, 575, 576, 577, 578, 579, 580, 581, 582, 583, 584,\n",
       "       585, 586, 587, 588, 589, 590, 591, 592, 593, 594, 595, 596, 597,\n",
       "       598, 599, 600, 601, 602, 603, 604, 605, 606, 607, 608, 609, 610,\n",
       "       611, 612, 613, 614, 615, 616, 617, 618, 619, 620, 621, 622, 623,\n",
       "       624, 625, 626, 627, 628, 629, 630, 631, 632, 633, 634, 635, 636,\n",
       "       637, 638, 639, 640, 641, 642, 643, 644, 645, 646, 647, 648, 649,\n",
       "       650, 651, 652, 653, 654, 655, 656, 657, 658, 659, 660, 661, 662,\n",
       "       663, 664, 665, 666, 667, 668, 669, 670, 671, 672, 673, 674, 675,\n",
       "       676, 677, 678, 679, 680, 681, 682, 683, 684, 685, 686, 687, 688,\n",
       "       689, 690, 691, 692, 693, 694, 695, 696, 697, 698, 699, 700, 701,\n",
       "       702, 703, 704, 705, 706, 707, 708, 709, 710, 711, 712, 713, 714,\n",
       "       715, 716, 717, 718, 719, 720, 721, 722, 723, 724, 725, 726, 727,\n",
       "       728, 729, 730, 731, 732, 733, 734, 735, 736, 737, 738, 739, 740,\n",
       "       741, 742, 743, 744, 745, 746, 747, 748, 749, 750, 751, 752, 753,\n",
       "       754, 755, 756, 757, 758, 759, 760, 761, 762, 763, 764, 765, 766,\n",
       "       767, 768, 769, 770, 771, 772, 773, 774, 775, 776, 777, 778, 779,\n",
       "       780, 781, 782, 783, 784, 785, 786, 787, 788, 789, 790, 791, 792,\n",
       "       793, 794, 795, 796, 797, 798, 799, 800, 801, 802, 803, 804, 805,\n",
       "       806, 807, 808, 809, 810, 811, 812, 813, 814, 815, 816, 817, 818,\n",
       "       819, 820, 821, 822, 823, 824, 825, 826, 827, 828, 829, 830, 831,\n",
       "       832, 833, 834, 835, 836, 837, 838, 839, 840, 841, 842, 843, 844,\n",
       "       845, 846, 847, 848, 849, 850, 851, 852, 853, 854, 855, 856, 857,\n",
       "       858, 859, 860, 861, 862, 863, 864, 865, 866, 867, 868, 869, 870,\n",
       "       871, 872, 873, 874, 875, 876, 877, 878, 879, 880, 881, 882, 883,\n",
       "       884, 885, 886, 887, 888, 889, 890, 891, 892, 893, 894, 895, 896,\n",
       "       897, 898, 899, 900, 901, 902, 903, 904, 905, 906, 907, 908, 909,\n",
       "       910, 911, 912, 913, 914, 915, 916, 917, 918, 919, 920, 921, 922,\n",
       "       923, 924, 925, 926, 927, 928, 929, 930, 931, 932, 933, 934, 935,\n",
       "       936, 937, 938, 939, 940, 941, 942, 943, 944, 945, 946, 947, 948,\n",
       "       949, 950, 951, 952, 953, 954, 955, 956, 957, 958, 959, 960, 961,\n",
       "       962, 963, 964, 965, 966, 967, 968, 969, 970, 971, 972, 973, 974,\n",
       "       975, 976, 977, 978, 979, 980, 981, 982, 983, 984, 985, 986, 987,\n",
       "       988, 989, 990, 991, 992, 993, 994, 995, 996, 997, 998, 999],      dtype=int32)"
      ]
     },
     "execution_count": 85,
     "metadata": {},
     "output_type": "execute_result"
    }
   ],
   "source": [
    "step_array"
   ]
  },
  {
   "cell_type": "code",
   "execution_count": null,
   "id": "a019bb7f-e11b-4b65-a89e-ca61b3dd072d",
   "metadata": {},
   "outputs": [],
   "source": []
  },
  {
   "cell_type": "code",
   "execution_count": null,
   "id": "e7c17d56-9f83-44f4-9031-3ef3c9072539",
   "metadata": {},
   "outputs": [],
   "source": []
  },
  {
   "cell_type": "code",
   "execution_count": null,
   "id": "5b7620fb-2bdc-48fb-b9d6-1924974ab52c",
   "metadata": {},
   "outputs": [],
   "source": []
  },
  {
   "cell_type": "code",
   "execution_count": null,
   "id": "d0312378-0cca-4d30-be8e-582c45de7e33",
   "metadata": {},
   "outputs": [],
   "source": []
  },
  {
   "cell_type": "code",
   "execution_count": 6,
   "id": "32a818e0-06ee-4a46-b611-00d992429809",
   "metadata": {},
   "outputs": [
    {
     "data": {
      "text/plain": [
       "<matplotlib.collections.PathCollection at 0x7ff24459ff70>"
      ]
     },
     "execution_count": 6,
     "metadata": {},
     "output_type": "execute_result"
    },
    {
     "data": {
      "image/png": "[encoded data removed]",
      "text/plain": [
       "<Figure size 432x288 with 1 Axes>"
      ]
     },
     "metadata": {
      "needs_background": "light"
     },
     "output_type": "display_data"
    }
   ],
   "source": [
    "plt.scatter(stream[:,0],stream[:,1],s=.1)"
   ]
  },
  {
   "cell_type": "code",
   "execution_count": null,
   "id": "857594f4-7521-4fb6-a546-b4ba6e5cdc10",
   "metadata": {},
   "outputs": [],
   "source": []
  }
 ],
 "metadata": {
  "kernelspec": {
   "display_name": "Python 3 (ipykernel)",
   "language": "python",
   "name": "python3"
  },
  "language_info": {
   "codemirror_mode": {
    "name": "ipython",
    "version": 3
   },
   "file_extension": ".py",
   "mimetype": "text/x-python",
   "name": "python",
   "nbconvert_exporter": "python",
   "pygments_lexer": "ipython3",
   "version": "3.8.12"
  }
 },
 "nbformat": 4,
 "nbformat_minor": 5
}
