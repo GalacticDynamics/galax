{
 "cells": [
  {
   "cell_type": "code",
   "execution_count": 1,
   "id": "6e2f5ed4-ccaf-468d-b0b5-4e8844d1a984",
   "metadata": {},
   "outputs": [
    {
     "name": "stdout",
     "output_type": "stream",
     "text": [
      "\u001b[91mA new version of galpy (1.9.0) is available, please upgrade using pip/conda/... to get the latest features and bug fixes!\u001b[0m\n"
     ]
    }
   ],
   "source": [
    "from functools import partial\n",
    "\n",
    "from astropy.constants import G\n",
    "import astropy.coordinates as coord\n",
    "import astropy.units as u\n",
    "import matplotlib as mpl\n",
    "import matplotlib.pyplot as plt\n",
    "%matplotlib inline\n",
    "import numpy as np\n",
    "\n",
    "# gala\n",
    "import gala.coordinates as gc\n",
    "import gala.dynamics as gd\n",
    "import gala.potential as gp\n",
    "from gala.units import dimensionless, galactic, UnitSystem\n",
    "\n",
    "import jax\n",
    "import jax.numpy as jnp\n",
    "\n",
    "from jax.config import config\n",
    "config.update(\"jax_enable_x64\", True)\n",
    "\n",
    "import scienceplots\n",
    "import cmasher as cmr\n",
    "plt.style.use('science')\n",
    "import jax.random as random \n",
    "from matplotlib.patches import Ellipse\n",
    "import jax.scipy.stats as jaxstats\n",
    "usys = UnitSystem(u.kpc, u.Myr, u.Msun, u.radian)"
   ]
  },
  {
   "cell_type": "code",
   "execution_count": 2,
   "id": "fe543250-982d-431f-8408-228af384cfcb",
   "metadata": {},
   "outputs": [
    {
     "data": {
      "text/plain": [
       "4.498502151469553e-12"
      ]
     },
     "execution_count": 2,
     "metadata": {},
     "output_type": "execute_result"
    }
   ],
   "source": [
    "usys.get_constant('G')"
   ]
  },
  {
   "cell_type": "code",
   "execution_count": 3,
   "id": "1a544fc6-bb0e-4442-904c-999bc88eddf0",
   "metadata": {},
   "outputs": [],
   "source": [
    "import agama\n",
    "agama.setUnits(mass=1.0,length=1,time=1.)\n",
    "# stellar potential\n",
    "potstars = agama.Potential(type='Sersic', sersicIndex=4, axisRatioZ=0.6, scaleRadius=1, mass=1e10)\n",
    "# construct initial conditions for the orbit library:\n",
    "# use the anisotropic Jeans eqs to set the (approximate) shape of the velocity ellipsoid and the mean v_phi;\n",
    "beta  = 0.0   # velocity anisotropy in R/z plane: >0 - sigma_R>sigma_z, <0 - reverse.\n",
    "kappa = 0.8   # sets the amount of rotation v_phi vs. dispersion sigma_phi; 1 is rather fast rotation, 0 - no rot.\n",
    "initcond, mass = potstars.sample(10000, potential=potstars, beta=beta, kappa=kappa)\n"
   ]
  },
  {
   "cell_type": "code",
   "execution_count": 4,
   "id": "d5c2954f-5b5e-4590-b0cb-6cf440b15df5",
   "metadata": {},
   "outputs": [],
   "source": [
    "# stellar potential\n",
    "potstars = agama.Potential(type='Sersic', sersicIndex=4, axisRatioZ=0.2, scaleRadius=1, mass=1e10)\n",
    "# construct initial conditions for the orbit library:\n",
    "# use the anisotropic Jeans eqs to set the (approximate) shape of the velocity ellipsoid and the mean v_phi;\n",
    "beta  = 0.0   # velocity anisotropy in R/z plane: >0 - sigma_R>sigma_z, <0 - reverse.\n",
    "kappa = 0.8   # sets the amount of rotation v_phi vs. dispersion sigma_phi; 1 is rather fast rotation, 0 - no rot.\n",
    "initcond, mass = potstars.sample(10000, potential=potstars, beta=beta, kappa=kappa)\n"
   ]
  },
  {
   "cell_type": "code",
   "execution_count": 5,
   "id": "a1c3d806-20d6-43ae-933e-e7e9e40b2ca1",
   "metadata": {},
   "outputs": [
    {
     "data": {
      "text/plain": [
       "(-10.0, 10.0)"
      ]
     },
     "execution_count": 5,
     "metadata": {},
     "output_type": "execute_result"
    },
    {
     "data": {
      "image/png": "[encoded data removed]",
      "text/plain": [
       "<Figure size 252x189 with 1 Axes>"
      ]
     },
     "metadata": {
      "needs_background": "light"
     },
     "output_type": "display_data"
    }
   ],
   "source": [
    "plt.scatter(initcond[:,0],initcond[:,2],s=0.5)\n",
    "plt.xlim(-10,10)\n",
    "plt.ylim(-10,10)"
   ]
  },
  {
   "cell_type": "code",
   "execution_count": 6,
   "id": "42da137b-f549-4c2b-b0b7-e6df896a3b6c",
   "metadata": {},
   "outputs": [],
   "source": [
    "num_gaussians = 5  # Number of Gaussians in each dimension\n",
    "grid_range = 5.0   # Range for each dimension\n",
    "def create_grid(num_gaussians, grid_range):\n",
    "    # Create evenly spaced grid points in each dimension\n",
    "    grid_points = jnp.linspace(-grid_range, grid_range, num_gaussians)\n",
    "    grid = jnp.meshgrid(*[grid_points] * 6)\n",
    "    grid = jnp.stack(grid, axis=-1)\n",
    "    return grid\n",
    "\n",
    "def gaussian_pdf(x, mu, sigma):\n",
    "    # Compute the Gaussian probability density function\n",
    "    return jnp.exp(-0.5 * ((x - mu) / sigma) ** 2) / jnp.sqrt(2.0 * jnp.pi * sigma**2)\n",
    "\n",
    "def create_gaussian_grid(grid, grid_range):\n",
    "    # Calculate the standard deviation for the Gaussians\n",
    "    sigma = grid_range / (2.0 * num_gaussians)\n",
    "\n",
    "    # Evaluate the Gaussian at each grid point\n",
    "    gaussians = gaussian_pdf(grid, 0.0, sigma)\n",
    "\n",
    "    # Normalize to make them equally weighted\n",
    "    gaussians /= jnp.sum(gaussians)\n",
    "\n",
    "    return gaussians\n",
    "def visualize_grid(grid, values):\n",
    "    # Flatten the grid and values for plotting\n",
    "    flat_grid = grid.reshape(-1, 6)\n",
    "    flat_values = values.flatten()\n",
    "\n",
    "    # Create a scatter plot\n",
    "    fig = plt.figure(figsize=(8, 6))\n",
    "    ax = fig.add_subplot(111, projection='3d')\n",
    "    ax.scatter(flat_grid[:, 0], flat_grid[:, 1], flat_grid[:, 2], c=flat_values, cmap='viridis')\n",
    "    ax.set_xlabel('X')\n",
    "    ax.set_ylabel('Y')\n",
    "    ax.set_zlabel('Z')\n",
    "    plt.title('6D Gaussian Grid')\n",
    "    plt.show()\n",
    "\n",
    "# Create the grid and Gaussian values\n",
    "grid = create_grid(num_gaussians, grid_range)\n",
    "gaussians = create_gaussian_grid(grid, grid_range)\n",
    "\n"
   ]
  },
  {
   "cell_type": "code",
   "execution_count": 7,
   "id": "b804eb1d-0ba7-4a2e-bb43-f2c3637d55ab",
   "metadata": {},
   "outputs": [],
   "source": [
    "## lean f(x,t) and f(x,v,t)/f(x,t)"
   ]
  },
  {
   "cell_type": "markdown",
   "id": "0ca65638-38a1-4afd-b494-c6c96be06b36",
   "metadata": {},
   "source": [
    "$$f(x,v | t) = f_1(v | x, t) f_2(x | t)$$\n",
    "\n",
    "So for kde method we can learn $f_2(x,t)$ and learn $f(x,v,t)/f_2(x,t) = f_1(v|x,t)$\n",
    "\n",
    "That is, just learn $f_2(x,t)$ with $f(x,v,t)$. "
   ]
  },
  {
   "cell_type": "code",
   "execution_count": 8,
   "id": "e1ea9ba0-ceb6-4dd3-82e1-886e6b29881d",
   "metadata": {},
   "outputs": [
    {
     "ename": "ModuleNotFoundError",
     "evalue": "No module named 'flowMC'",
     "output_type": "error",
     "traceback": [
      "\u001b[0;31m---------------------------------------------------------------------------\u001b[0m",
      "\u001b[0;31mModuleNotFoundError\u001b[0m                       Traceback (most recent call last)",
      "\u001b[0;32m/var/folders/rq/9c89gb15479bjnxrpnmdf_p40000gn/T/ipykernel_31499/4189560395.py\u001b[0m in \u001b[0;36m<module>\u001b[0;34m\u001b[0m\n\u001b[0;32m----> 1\u001b[0;31m \u001b[0;32mfrom\u001b[0m \u001b[0mflowMC\u001b[0m\u001b[0;34m.\u001b[0m\u001b[0mnfmodel\u001b[0m\u001b[0;34m.\u001b[0m\u001b[0mrealNVP\u001b[0m \u001b[0;32mimport\u001b[0m \u001b[0mRealNVP\u001b[0m\u001b[0;34m\u001b[0m\u001b[0;34m\u001b[0m\u001b[0m\n\u001b[0m\u001b[1;32m      2\u001b[0m \u001b[0;32mfrom\u001b[0m \u001b[0mflowMC\u001b[0m\u001b[0;34m.\u001b[0m\u001b[0mnfmodel\u001b[0m\u001b[0;34m.\u001b[0m\u001b[0mrqSpline\u001b[0m \u001b[0;32mimport\u001b[0m \u001b[0mMaskedCouplingRQSpline\u001b[0m\u001b[0;34m\u001b[0m\u001b[0;34m\u001b[0m\u001b[0m\n\u001b[1;32m      3\u001b[0m \u001b[0;32mfrom\u001b[0m \u001b[0mflowMC\u001b[0m\u001b[0;34m.\u001b[0m\u001b[0mnfmodel\u001b[0m\u001b[0;34m.\u001b[0m\u001b[0mutils\u001b[0m \u001b[0;32mimport\u001b[0m \u001b[0mmake_training_loop\u001b[0m\u001b[0;34m\u001b[0m\u001b[0;34m\u001b[0m\u001b[0m\n",
      "\u001b[0;31mModuleNotFoundError\u001b[0m: No module named 'flowMC'"
     ]
    }
   ],
   "source": [
    "\n",
    "from flowMC.nfmodel.realNVP import RealNVP\n",
    "from flowMC.nfmodel.rqSpline import MaskedCouplingRQSpline\n",
    "from flowMC.nfmodel.utils import make_training_loop"
   ]
  },
  {
   "cell_type": "code",
   "execution_count": null,
   "id": "959869c6-243b-4d6b-ae24-f4cb2d8da6a2",
   "metadata": {},
   "outputs": [],
   "source": []
  },
  {
   "cell_type": "code",
   "execution_count": null,
   "id": "e2b4e353-f220-4509-bf02-b81879358813",
   "metadata": {},
   "outputs": [],
   "source": []
  },
  {
   "cell_type": "code",
   "execution_count": null,
   "id": "0998db7a-8677-4f28-9206-8e6cd7c0e10c",
   "metadata": {},
   "outputs": [],
   "source": []
  },
  {
   "cell_type": "code",
   "execution_count": 43,
   "id": "3a836de8-4cf8-4fe5-b5e4-c12b02a62710",
   "metadata": {},
   "outputs": [],
   "source": [
    "time_arr = np.zeros(len(initcond))\n",
    "ics = jnp.hstack([initcond, time_arr[:,None]])\n",
    "\n",
    "kde = jaxstats.gaussian_kde(ics.T,bw_method=0.1)"
   ]
  },
  {
   "cell_type": "code",
   "execution_count": 83,
   "id": "45b75197-edc3-4ad6-965f-0b7f3239120a",
   "metadata": {},
   "outputs": [
    {
     "data": {
      "text/plain": [
       "Array([[ 1.08795719e-01, -3.39449136e-05, -1.24706105e-03,\n",
       "        -3.88938839e-06,  6.87778248e-04, -2.07770638e-06,\n",
       "         0.00000000e+00],\n",
       "       [-3.39449136e-05,  1.08365069e-01, -8.90011412e-04,\n",
       "        -6.65240274e-04,  6.62761112e-06,  3.49740666e-06,\n",
       "         0.00000000e+00],\n",
       "       [-1.24706105e-03, -8.90011412e-04,  4.70807555e-03,\n",
       "        -1.89159793e-06, -2.39904157e-07, -1.15623389e-06,\n",
       "         0.00000000e+00],\n",
       "       [-3.88938839e-06, -6.65240274e-04, -1.89159793e-06,\n",
       "         8.12506251e-05,  1.74011915e-07, -1.40707402e-07,\n",
       "         0.00000000e+00],\n",
       "       [ 6.87778248e-04,  6.62761112e-06, -2.39904157e-07,\n",
       "         1.74011915e-07,  8.43770771e-05, -7.25596689e-09,\n",
       "         0.00000000e+00],\n",
       "       [-2.07770638e-06,  3.49740666e-06, -1.15623389e-06,\n",
       "        -1.40707402e-07, -7.25596689e-09,  2.25392343e-05,\n",
       "         0.00000000e+00],\n",
       "       [ 0.00000000e+00,  0.00000000e+00,  0.00000000e+00,\n",
       "         0.00000000e+00,  0.00000000e+00,  0.00000000e+00,\n",
       "         0.00000000e+00]], dtype=float64)"
      ]
     },
     "execution_count": 83,
     "metadata": {},
     "output_type": "execute_result"
    }
   ],
   "source": [
    "kde.covariance"
   ]
  },
  {
   "cell_type": "code",
   "execution_count": 56,
   "id": "a0d22114-5eea-4d3d-88ab-7309ad9e1687",
   "metadata": {},
   "outputs": [],
   "source": [
    "cc = jnp.eye(7)*.000000010000000"
   ]
  },
  {
   "cell_type": "code",
   "execution_count": 60,
   "id": "d9399e99-8063-43e0-84a8-ce123cc509b3",
   "metadata": {},
   "outputs": [
    {
     "data": {
      "text/plain": [
       "<bound method gaussian_kde.integrate_kde of gaussian_kde(neff=Array(10000., dtype=float64), dataset=Array([[ 0.49225886, -0.00733685, -0.21742962, ...,  1.79766804,\n",
       "        -0.02119263, -0.7557257 ],\n",
       "       [ 0.85610141, -0.22638977,  0.98555841, ...,  0.30446151,\n",
       "         0.32341598,  0.83642072],\n",
       "       [ 0.1825324 ,  0.01226333, -0.93267224, ...,  0.60627381,\n",
       "        -0.19870105, -0.18082222],\n",
       "       ...,\n",
       "       [ 0.14969925, -0.01343064, -0.06125901, ...,  0.14501373,\n",
       "         0.05227103, -0.08297316],\n",
       "       [ 0.00360584, -0.00973185, -0.02295155, ..., -0.02740964,\n",
       "        -0.06258291,  0.01623288],\n",
       "       [ 0.        ,  0.        ,  0.        , ...,  0.        ,\n",
       "         0.        ,  0.        ]], dtype=float64), weights=Array([0.0001, 0.0001, 0.0001, ..., 0.0001, 0.0001, 0.0001], dtype=float64), covariance=Array([[ 1.08795719e-01, -3.39449136e-05, -1.24706105e-03,\n",
       "        -3.88938839e-06,  6.87778248e-04, -2.07770638e-06,\n",
       "         0.00000000e+00],\n",
       "       [-3.39449136e-05,  1.08365069e-01, -8.90011412e-04,\n",
       "        -6.65240274e-04,  6.62761112e-06,  3.49740666e-06,\n",
       "         0.00000000e+00],\n",
       "       [-1.24706105e-03, -8.90011412e-04,  4.70807555e-03,\n",
       "        -1.89159793e-06, -2.39904157e-07, -1.15623389e-06,\n",
       "         0.00000000e+00],\n",
       "       [-3.88938839e-06, -6.65240274e-04, -1.89159793e-06,\n",
       "         8.12506251e-05,  1.74011915e-07, -1.40707402e-07,\n",
       "         0.00000000e+00],\n",
       "       [ 6.87778248e-04,  6.62761112e-06, -2.39904157e-07,\n",
       "         1.74011915e-07,  8.43770771e-05, -7.25596689e-09,\n",
       "         0.00000000e+00],\n",
       "       [-2.07770638e-06,  3.49740666e-06, -1.15623389e-06,\n",
       "        -1.40707402e-07, -7.25596689e-09,  2.25392343e-05,\n",
       "         0.00000000e+00],\n",
       "       [ 0.00000000e+00,  0.00000000e+00,  0.00000000e+00,\n",
       "         0.00000000e+00,  0.00000000e+00,  0.00000000e+00,\n",
       "         0.00000000e+00]], dtype=float64), inv_cov=Array([[nan, nan, nan, nan, nan, nan, nan],\n",
       "       [nan, nan, nan, nan, nan, nan, nan],\n",
       "       [nan, nan, nan, nan, nan, nan, nan],\n",
       "       [nan, nan, nan, nan, nan, nan, nan],\n",
       "       [nan, nan, nan, nan, nan, nan, nan],\n",
       "       [nan, nan, nan, nan, nan, nan, nan],\n",
       "       [nan, nan, nan, nan, nan, nan, inf]], dtype=float64))>"
      ]
     },
     "execution_count": 60,
     "metadata": {},
     "output_type": "execute_result"
    }
   ],
   "source": [
    "kde.integrate_kde"
   ]
  },
  {
   "cell_type": "code",
   "execution_count": null,
   "id": "b8af3109-dd28-44d3-84af-9d28a6b649d1",
   "metadata": {},
   "outputs": [],
   "source": []
  }
 ],
 "metadata": {
  "kernelspec": {
   "display_name": "Python 3 (ipykernel)",
   "language": "python",
   "name": "python3"
  },
  "language_info": {
   "codemirror_mode": {
    "name": "ipython",
    "version": 3
   },
   "file_extension": ".py",
   "mimetype": "text/x-python",
   "name": "python",
   "nbconvert_exporter": "python",
   "pygments_lexer": "ipython3",
   "version": "3.8.12"
  }
 },
 "nbformat": 4,
 "nbformat_minor": 5
}
