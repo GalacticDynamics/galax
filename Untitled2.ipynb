{
 "cells": [
  {
   "cell_type": "code",
   "execution_count": 16,
   "id": "4742b8b8-7144-42d8-90b1-db1043558a1f",
   "metadata": {},
   "outputs": [],
   "source": [
    "import astropy.units as u\n",
    ">>> import numpy as np\n",
    ">>> import gala.potential as gp\n",
    ">>> import gala.dynamics as gd\n",
    ">>> from gala.dynamics import mockstream as ms\n",
    ">>> from gala.units import galactic\n",
    "import matplotlib.pyplot as plt"
   ]
  },
  {
   "cell_type": "code",
   "execution_count": 24,
   "id": "c76c04cd-49e5-4cd0-9907-e59e2ac88d6d",
   "metadata": {},
   "outputs": [],
   "source": [
    "pot = gp.IsochronePotential(m=1.0e12*u.Msun,b=10*u.kpc,\n",
    "                                              units=galactic)\n",
    "H = gp.Hamiltonian(pot)\n",
    "prog_w0 = gd.PhaseSpacePosition(pos=[50, 0, 0.] * u.kpc,\n",
    "                                 vel=[0, 150, 0.] * u.km/u.s)\n",
    "\n",
    "df = ms.FardalStreamDF()\n",
    "prog_mass = 2.5E4 * u.Msun\n",
    "gen = ms.MockStreamGenerator(df, H)\n",
    "stream, prog = gen.run(prog_w0, prog_mass,\n",
    "                        dt=.5 * u.Myr, n_steps=2000)"
   ]
  },
  {
   "cell_type": "code",
   "execution_count": 29,
   "id": "1eaebf93-e881-466b-a0a9-10dc901fcf38",
   "metadata": {},
   "outputs": [
    {
     "data": {
      "text/plain": [
       "<matplotlib.collections.PathCollection at 0x7fcd5bcb2460>"
      ]
     },
     "execution_count": 29,
     "metadata": {},
     "output_type": "execute_result"
    },
    {
     "data": {
      "image/png": "[encoded data removed]",
      "text/plain": [
       "<Figure size 432x288 with 1 Axes>"
      ]
     },
     "metadata": {
      "needs_background": "light"
     },
     "output_type": "display_data"
    }
   ],
   "source": [
    "plt.scatter(stream.x,stream.y,s=0.0905)"
   ]
  },
  {
   "cell_type": "code",
   "execution_count": null,
   "id": "0d41b39b-241a-4c3e-98be-f6754ba1467a",
   "metadata": {},
   "outputs": [],
   "source": []
  }
 ],
 "metadata": {
  "kernelspec": {
   "display_name": "Python 3 (ipykernel)",
   "language": "python",
   "name": "python3"
  },
  "language_info": {
   "codemirror_mode": {
    "name": "ipython",
    "version": 3
   },
   "file_extension": ".py",
   "mimetype": "text/x-python",
   "name": "python",
   "nbconvert_exporter": "python",
   "pygments_lexer": "ipython3",
   "version": "3.8.12"
  }
 },
 "nbformat": 4,
 "nbformat_minor": 5
}
