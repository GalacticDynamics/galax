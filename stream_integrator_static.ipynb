{
 "cells": [
  {
   "cell_type": "code",
   "execution_count": 1,
   "id": "1852a7c2-779f-4ceb-98c6-8916dbdee6a6",
   "metadata": {},
   "outputs": [
    {
     "name": "stdout",
     "output_type": "stream",
     "text": [
      "\u001b[91mA new version of galpy (1.9.0) is available, please upgrade using pip/conda/... to get the latest features and bug fixes!\u001b[0m\n"
     ]
    }
   ],
   "source": [
    "from functools import partial\n",
    "\n",
    "from astropy.constants import G\n",
    "import astropy.coordinates as coord\n",
    "import astropy.units as u\n",
    "import matplotlib as mpl\n",
    "import matplotlib.pyplot as plt\n",
    "%matplotlib inline\n",
    "import numpy as np\n",
    "\n",
    "# gala\n",
    "import gala.coordinates as gc\n",
    "import gala.dynamics as gd\n",
    "import gala.potential as gp\n",
    "from gala.units import dimensionless, galactic, UnitSystem\n",
    "\n",
    "import jax\n",
    "import jax.numpy as jnp\n",
    "\n",
    "from jax.config import config\n",
    "config.update(\"jax_enable_x64\", True)\n",
    "\n",
    "import scienceplots\n",
    "import cmasher as cmr\n",
    "plt.style.use('science')\n",
    "import jax.random as random \n",
    "\n",
    "usys = UnitSystem(u.kpc, u.Myr, u.Msun, u.radian)"
   ]
  },
  {
   "cell_type": "code",
   "execution_count": 3,
   "id": "be2a7229-dedd-49d5-b868-83497bb67b39",
   "metadata": {},
   "outputs": [],
   "source": [
    "class Potential:\n",
    "    \n",
    "    def __init__(self, units, params):\n",
    "        if units is None:\n",
    "            units = dimensionless\n",
    "        self.units = UnitSystem(units)\n",
    "        \n",
    "        if self.units == dimensionless:\n",
    "            self._G = 1\n",
    "        else:\n",
    "            self._G = G.decompose(self.units).value\n",
    "        \n",
    "        for name, param in params.items():\n",
    "            if hasattr(param, 'unit'):\n",
    "                param = param.decompose(self.units).value\n",
    "            setattr(self, name, param)\n",
    "    \n",
    "    @partial(jax.jit, static_argnums=(0,))\n",
    "    def gradient(self, xyz):\n",
    "        grad_func = jax.grad(self.potential)\n",
    "        return grad_func(xyz)\n",
    "    \n",
    "    @partial(jax.jit, static_argnums=(0,))\n",
    "    def density(self, xyz):\n",
    "        lap = jnp.trace(jax.hessian(self.potential)(xyz))\n",
    "        return lap / (4 * jnp.pi * self._G)\n",
    "    \n",
    "    @partial(jax.jit, static_argnums=(0,))\n",
    "    def acceleration(self, xyz):\n",
    "        return -self.gradient(xyz)\n",
    "    \n",
    "   \n",
    "    @partial(jax.jit,static_argnums=(0,))\n",
    "    def jacobian_force_mw(self, xyz):\n",
    "        jacobian_force_mw = jax.jacfwd(self.gradient)\n",
    "        return jacobian_force_mw(xyz)\n",
    "    \n",
    "    @partial(jax.jit,static_argnums=(0,))\n",
    "    def d2phidr2_mw(self, x):\n",
    "        \"\"\"\n",
    "        Computes the second derivative of the Milky Way potential at a position x (in the simulation frame)\n",
    "        Args:\n",
    "          x: 3d position (x, y, z) in [kpc]\n",
    "        Returns:\n",
    "          Second derivative of force (per unit mass) in [1/Myr^2]\n",
    "        Examples\n",
    "        --------\n",
    "        >>> d2phidr2_mw(x=jnp.array([8.0, 0.0, 0.0]))\n",
    "        \"\"\"\n",
    "        rad = jnp.linalg.norm(x)\n",
    "        return jnp.matmul(jnp.transpose(x), jnp.matmul(self.jacobian_force_mw(x), x)) / rad**2\n",
    "\n",
    "\n",
    "    @partial(jax.jit,static_argnums=(0,))\n",
    "    def omega(self, x,v):\n",
    "        \"\"\"\n",
    "        Computes the magnitude of the angular momentum in the simulation frame\n",
    "        Args:\n",
    "          x: 3d position (x, y, z) in [kpc]\n",
    "          v: 3d velocity (v_x, v_y, v_z) in [kpc/Myr]\n",
    "        Returns:\n",
    "          Magnitude of angular momentum in [rad/Myr]\n",
    "        Examples\n",
    "        --------\n",
    "        >>> omega(x=jnp.array([8.0, 0.0, 0.0]), v=jnp.array([8.0, 0.0, 0.0]))\n",
    "        \"\"\"\n",
    "        rad = jnp.sqrt(x[0] ** 2 + x[1] ** 2 + x[2] ** 2)\n",
    "        omega_vec = jnp.cross(x, v) / rad**2\n",
    "        return jnp.linalg.norm(omega_vec)\n",
    "\n",
    "    @partial(jax.jit,static_argnums=(0,))\n",
    "    def tidalr_mw(self, x, v, Msat):\n",
    "        \"\"\"\n",
    "        Computes the tidal radius of a clsuter in the Milky Way potential\n",
    "        Args:\n",
    "          x: 3d position (x, y, z) in [kpc]\n",
    "          v: 3d velocity (v_x, v_y, v_z) in [kpc/Myr]\n",
    "          Msat: Cluster mass in [Msol]\n",
    "        Returns:\n",
    "          Tidal radius of the cluster in [kpc]\n",
    "        Examples\n",
    "        --------\n",
    "        >>> tidalr_mw(x=jnp.array([8.0, 0.0, 0.0]), v=jnp.array([8.0, 0.0, 0.0]), Msat=1e4)\n",
    "        \"\"\"\n",
    "        return (self._G * Msat / ( self.omega(x, v) ** 2 - self.d2phidr2_mw(x)) ) ** (1.0 / 3.0)\n",
    "    \n",
    "    @partial(jax.jit,static_argnums=(0,))\n",
    "    def lagrange_pts(self,x,v,Msat):\n",
    "        r_tidal = self.tidalr_mw(x,v,Msat)\n",
    "        r_hat = x/jnp.linalg.norm(x)\n",
    "        L_close = x - r_hat*r_tidal\n",
    "        L_far = x + r_hat*r_tidal\n",
    "        return L_close, L_far\n",
    "    \n",
    "    @partial(jax.jit,static_argnums=(0,))\n",
    "    def release_model(self, x, v, Msat, pos_disp, vel_disp,i):\n",
    "        \"\"\"\n",
    "        Simplification of particle spray: just release particles in gaussian blob at each lagrange point.\n",
    "        User sets the spatial and velocity dispersion for the \"leaking\" of particles\n",
    "        TODO: change random key handling... need to do all of the sampling up front...\n",
    "        \"\"\"\n",
    "        keya = jax.random.PRNGKey(i*3)\n",
    "        keyb = jax.random.PRNGKey(i*5)\n",
    "        \n",
    "        keyc = jax.random.PRNGKey(i*7)\n",
    "        keyd = jax.random.PRNGKey(i*11)\n",
    "        \n",
    "        L_close, L_far = self.lagrange_pts(x,v,Msat) # each is an xyz array\n",
    "        ###print(L_close, L_far)\n",
    "        pos_release_close = L_close + jax.random.normal(keya,shape=(3,))*pos_disp\n",
    "        pos_release_far = L_far + jax.random.normal(keyb,shape=(3,))*pos_disp\n",
    "        \n",
    "        #DeltaR_r = jnp.sqrt(jnp.sum((L_far - L_close)**2))/jnp.linalg.norm(x)\n",
    "        \n",
    "        vel_release_close = v + jax.random.normal(keyc,shape=(3,))*vel_disp\n",
    "        vel_release_far = v  + jax.random.normal(keyd,shape=(3,))*vel_disp\n",
    "        \n",
    "        return pos_release_close, pos_release_far, vel_release_close, vel_release_far\n",
    "    \n",
    "    @partial(jax.jit,static_argnums=(0,))\n",
    "    def gen_stream_ics(self, ts, prog_w0, Msat, pos_disp, vel_disp):\n",
    "        ws_jax = leapfrog_run(prog_w0, ts, self.gradient)\n",
    "        \n",
    "        def scan_fun(carry, t):\n",
    "            i, pos_close, pos_far, vel_close, vel_far = carry\n",
    "            pos_close_new, pos_far_new, vel_close_new, vel_far_new = self.release_model(ws_jax[i,:3], ws_jax[i,3:], M_sat, pos_disp, vel_disp,i)\n",
    "            return [i+1, pos_close_new, pos_far_new, vel_close_new, vel_far_new], [pos_close_new, pos_far_new, vel_close_new, vel_far_new]#[i+1, pos_close_new, pos_far_new, vel_close_new, vel_far_new]\n",
    "            \n",
    "            \n",
    "        #init_carry = [0, 0, 0, 0, 0]\n",
    "        init_carry = [0, jnp.array([0.0,0.0,0.]), jnp.array([0.0,0.0,0.]), jnp.array([0.0,0.0,0.]), jnp.array([0.0,0.0,0.])] \n",
    "        final_state, all_states = jax.lax.scan(scan_fun, init_carry, ts[1:])\n",
    "        pos_close_arr, pos_far_arr, vel_close_arr, vel_far_arr = all_states\n",
    "        return pos_close_arr, pos_far_arr, vel_close_arr, vel_far_arr\n",
    "    \n",
    "    @partial(jax.jit,static_argnums=(0,))\n",
    "    def gen_stream(self, ts, prog_w0, Msat, pos_disp, vel_disp):\n",
    "        pos_close_arr, pos_far_arr, vel_close_arr, vel_far_arr = self.gen_stream_ics(ts, prog_w0, Msat, pos_disp, vel_disp)\n",
    "        \n",
    "        def scan_fun(carry, particle_idx):\n",
    "            i, pos_close_curr, pos_far_curr, vel_close_curr, vel_far_curr = carry\n",
    "            curr_particle_w0_close = jnp.hstack([pos_close_curr,vel_close_curr])\n",
    "            curr_particle_w0_far = jnp.hstack([pos_far_curr,vel_far_curr])\n",
    "            #print(curr_particle_w0_close.shape)\n",
    "            #indices = jnp.arange(i,len(ts))\n",
    "            #t_particle = jnp.take(ts, indices)\n",
    "            #################t_particle = jax.lax.slice(ts,(i,),(len(ts),))\n",
    "            w_particle_close = leapfrog_run(curr_particle_w0_close, ts, self.gradient)\n",
    "            w_particle_far = leapfrog_run(curr_particle_w0_far, ts, self.gradient)\n",
    "            \n",
    "            ###ts_update = jax.lax.dynamic_slice(ts_curr,(i+1,),(len(ts_curr)-1,))\n",
    "            \n",
    "            return [i+1, pos_close_arr[i+1,:], pos_far_arr[i+1,:], vel_close_arr[i+1,:], vel_far_arr[i+1,:]], [w_particle_close, w_particle_far]\n",
    "        init_carry = [0, pos_close_arr[0,:], pos_far_arr[0,:], vel_close_arr[0,:], vel_far_arr[0,:]]\n",
    "        particle_ids = jnp.arange(len(pos_close_arr))\n",
    "        final_state, all_states = jax.lax.scan(scan_fun, init_carry, particle_ids)\n",
    "        lead_arm, trail_arm = all_states\n",
    "        return lead_arm, trail_arm\n",
    "            \n",
    "    @partial(jax.jit,static_argnums=(0,))\n",
    "    def gen_stream_final(self, ts, prog_w0, Msat, pos_disp, vel_disp):\n",
    "        pos_close_arr, pos_far_arr, vel_close_arr, vel_far_arr = self.gen_stream_ics(ts, prog_w0, Msat, pos_disp, vel_disp)\n",
    "        \n",
    "        def scan_fun(carry, particle_idx):\n",
    "            i, pos_close_curr, pos_far_curr, vel_close_curr, vel_far_curr = carry\n",
    "            curr_particle_w0_close = jnp.hstack([pos_close_curr,vel_close_curr])\n",
    "            curr_particle_w0_far = jnp.hstack([pos_far_curr,vel_far_curr])\n",
    "            #print(curr_particle_w0_close.shape)\n",
    "            #indices = jnp.arange(i,len(ts))\n",
    "            #t_particle = jnp.take(ts, indices)\n",
    "            \n",
    "            #######t_particle = jax.lax.slice(ts,(i,),(len(ts),))\n",
    "            t_particle = jax.lax.dynamic_slice(ts,(i+1,),(len(ts)-1,))\n",
    "            w_particle_close = leapfrog_run(curr_particle_w0_close, t_particle, self.gradient)\n",
    "            w_particle_far = leapfrog_run(curr_particle_w0_far, t_particle, self.gradient)\n",
    "            \n",
    "            w_particle_close = w_particle_close[-1,:]\n",
    "            w_particle_far = w_particle_far[-1,:]\n",
    "            \n",
    "            \n",
    "            \n",
    "            return [i+1, pos_close_arr[i+1,:], pos_far_arr[i+1,:], vel_close_arr[i+1,:], vel_far_arr[i+1,:]], [w_particle_close, w_particle_far]\n",
    "        init_carry = [0, pos_close_arr[0,:], pos_far_arr[0,:], vel_close_arr[0,:], vel_far_arr[0,:]]\n",
    "        particle_ids = jnp.arange(len(pos_close_arr))\n",
    "        final_state, all_states = jax.lax.scan(scan_fun, init_carry, particle_ids)\n",
    "        lead_arm, trail_arm = all_states\n",
    "        return lead_arm, trail_arm\n",
    "        \n",
    "    \n",
    "        \n",
    "class Kepler(Potential):\n",
    "    \n",
    "    def __init__(self, m, units=None):\n",
    "        super().__init__(units, {'m': m})\n",
    "    \n",
    "    @partial(jax.jit, static_argnums=(0,))\n",
    "    def potential(self, xyz):\n",
    "        r = jnp.linalg.norm(xyz, axis=0)\n",
    "        return - self._G * self.m / r\n",
    "    \n",
    "    \n",
    "class Hernquist(Potential):\n",
    "    \n",
    "    def __init__(self, m, a, units=None):\n",
    "        super().__init__(units, {'m': m, 'a': a})\n",
    "        \n",
    "    @partial(jax.jit, static_argnums=(0,))\n",
    "    def potential(self, xyz):\n",
    "        r = jnp.linalg.norm(xyz, axis=0)\n",
    "        return - self._G * self.m / (r + self.a)\n",
    "    \n",
    "    \n",
    "class Isochrone(Potential):\n",
    "    \n",
    "    def __init__(self, m, a, units=None):\n",
    "        super().__init__(units, {'m': m, 'a': a})\n",
    "    \n",
    "    @partial(jax.jit, static_argnums=(0,))\n",
    "    def potential(self, xyz):\n",
    "        r = jnp.linalg.norm(xyz, axis=0)\n",
    "        return - self._G * self.m / (self.a + jnp.sqrt(r**2 + self.a**2))\n",
    "    \n",
    "\n",
    "\n",
    "    \n",
    "class Isochrone_centered(Potential):\n",
    "    \n",
    "    def __init__(self, m, a, spline_eval_func, splines, t_min, t_max, units=None):\n",
    "        super().__init__(units, {'m': m, 'a': a, 'spline_eval_func': spline_eval_func, 'splines': splines, 't_min': t_min, 't_max': t_max})\n",
    "    \n",
    "    @partial(jax.jit, static_argnums=(0,))\n",
    "    def potential(self, xyz, t):\n",
    "        is_cond_met = (t > t_min) & (t < t_max) # True if yes, False if no\n",
    "        \n",
    "        def true_func():\n",
    "            xyz = xyz - spline_eval_func(t,splines)\n",
    "            r = jnp.linalg.norm(xyz, axis=0)\n",
    "            return - self._G * self.m / (self.a + jnp.sqrt(r**2 + self.a**2))\n",
    "        def false_func():\n",
    "            return 0.0\n",
    "            \n",
    "        return jax.lax.cond(is_cond_met, true_func, false_func)\n",
    "    \n",
    "        \n",
    "\n",
    "    \n",
    "    \n",
    "    \n",
    "def leapfrog_step(func, y0, t0, dt, a0):\n",
    "    ndim = y0.shape[0] // 2\n",
    "    tf = t0 + dt\n",
    "    \n",
    "    x0 = y0[:ndim]\n",
    "    v0 = y0[ndim:]\n",
    "    \n",
    "    v1_2 = v0 + a0 * dt / 2.\n",
    "    xf = x0 + v1_2 * dt\n",
    "    af = - func(xf, tf)\n",
    "    \n",
    "    vf = v1_2 + af * dt / 2\n",
    "    \n",
    "    return tf, jnp.concatenate((xf, vf)), af\n",
    "\n",
    "@partial(jax.jit, static_argnames=['potential_gradient', 'args'])\n",
    "def leapfrog_run(w0, ts, potential_gradient, args=()):\n",
    "    func_ = lambda y, t: potential_gradient(y, *args)\n",
    "    \n",
    "    def scan_fun(carry, t):\n",
    "        i, y0, t0, dt, a0 = carry\n",
    "        tf, yf, af = leapfrog_step(func_, y0, t0, dt, a0)\n",
    "        return [i + 1, yf, tf, dt, af], yf\n",
    "    \n",
    "    ndim = w0.shape[0] // 2\n",
    "    a0 = func_(w0[:ndim], ts[0])\n",
    "    init_carry = [0, w0, t0, dt, a0]\n",
    "    _, ws = jax.lax.scan(scan_fun, init_carry, ts[1:])\n",
    "    res_ws = jnp.concatenate((w0[None], ws))\n",
    "    \n",
    "    return res_ws\n",
    "\n",
    "def compute_orbit_and_gradients(params,w0,dt,n_steps,units):\n",
    "    pot = Hernquist(m=params['m'], a=params['a'],units=units,)  # Create the potential with the given parameters\n",
    "    \n",
    "    # Example Orbit:\n",
    "    #w0 = jnp.array([10, 0, 0, 0, .204, 0])\n",
    "    t0 = 0\n",
    "    #dt = 0.1\n",
    "    #n_steps = 10000\n",
    "    ts = jnp.arange(t0, t0 + dt * n_steps + dt/10., dt)\n",
    "    \n",
    "    ### Compute the orbit with the provided potential\n",
    "    ws_jax = leapfrog_run(w0, ts, pot.gradient)\n",
    "    \n",
    "    # Compute the gradient of the final position with respect to the potential parameters\n",
    "    def gradient_fn(params):\n",
    "        pot_with_params = Hernquist(m=params['m'], a=params['a'],units=units)\n",
    "        ws_with_params = leapfrog_run(w0, ts, pot_with_params.gradient)\n",
    "        final_position = ws_with_params[-1, :]  # Extract final position\n",
    "        return final_position\n",
    "    \n",
    "    # Compute the gradient using JAX's autodiff\n",
    "    gradient = jax.jacfwd(gradient_fn)(params)\n",
    "    \n",
    "    return ws_jax, gradient\n",
    "\n",
    "def get_stripping_time_arr(ts):\n",
    "    \"\"\"\n",
    "    assuming a particle is released for index in the ts array\n",
    "    TODO: Custom release\n",
    "    \"\"\"\n",
    "    t_release_arr = []\n",
    "    for i in range(len(ts)):\n",
    "        t_release_arr.append( ts[i:] )\n",
    "    return t_release_arr"
   ]
  },
  {
   "cell_type": "code",
   "execution_count": 14,
   "id": "822edcf2-0f72-4118-894a-2723167a9a0f",
   "metadata": {},
   "outputs": [],
   "source": [
    "params = {'m': 1.0e12, 'a': 10.}\n",
    "pot = Isochrone(m=params['m'], a=params['a'],units=usys,)  \n",
    "t0 = 0\n",
    "dt = 0.5\n",
    "n_steps = 4_000\n",
    "w0 = jnp.array([50., 0., 0, (30*u.km/u.s).to(u.kpc/u.Myr).value, (300*u.km/u.s).to(u.kpc/u.Myr).value, (30*u.km/u.s).to(u.kpc/u.Myr).value])\n",
    "\n",
    "ts = jnp.arange(t0, t0 + dt * n_steps + dt/10., dt)\n",
    "### Compute the orbit with the provided potential\n",
    "ws_jax = leapfrog_run(w0, ts, pot.gradient)\n",
    "\n",
    "M_sat = 1.0e4 # TODO: mass loss rate\n",
    "pos_disp = .00\n",
    "vel_disp = (5*u.km/u.s).to(u.kpc/u.Myr).value\n",
    "\n",
    "\n",
    "\n",
    "#lead_ics = jnp.zeros((len(ws_jax),6))\n",
    "#trail_ics = jnp.zeros((len(ws_jax),6))\n",
    "\n",
    "#for i in range(len(ws_jax)):\n",
    "#    pos_close, pos_far, vel_close, vel_far = pot.release_model(ws_jax[i,:3], ws_jax[i,3:], M_sat, pos_disp, vel_disp)\n",
    "    "
   ]
  },
  {
   "cell_type": "code",
   "execution_count": 15,
   "id": "91b79ed3-f678-43a8-9113-3f7d19a42991",
   "metadata": {},
   "outputs": [],
   "source": [
    "from jax_cosmo.scipy.interpolate import InterpolatedUnivariateSpline\n",
    "def get_spl_funcs(ts,ws):\n",
    "    return [InterpolatedUnivariateSpline(ts,ws_jax[:,i],k=3) for i in range(3)]\n",
    "\n",
    "def eval_spl_funcs(ts, spl_funcs):\n",
    "    return jnp.array([spl_funcs[i](ts) for i in range(3)])\n",
    "#spl_x = InterpolatedUnivariateSpline(ts,ws_jax[:,0],k=3)\n",
    "#spl_y = InterpolatedUnivariateSpline(ts,ws_jax[:,1],k=3)\n",
    "\n",
    "splines = get_spl_funcs(ts, ws_jax)\n",
    "spline_evals = eval_spl_funcs(ts[3], splines)"
   ]
  },
  {
   "cell_type": "code",
   "execution_count": 1,
   "id": "076a08a7-a9b0-4db0-874b-6ff22d9f726d",
   "metadata": {},
   "outputs": [
    {
     "ename": "NameError",
     "evalue": "name 'spline_evals' is not defined",
     "output_type": "error",
     "traceback": [
      "\u001b[0;31m---------------------------------------------------------------------------\u001b[0m",
      "\u001b[0;31mNameError\u001b[0m                                 Traceback (most recent call last)",
      "\u001b[0;32m/var/folders/rq/9c89gb15479bjnxrpnmdf_p40000gn/T/ipykernel_13797/4127923809.py\u001b[0m in \u001b[0;36m<module>\u001b[0;34m\u001b[0m\n\u001b[0;32m----> 1\u001b[0;31m \u001b[0mspline_evals\u001b[0m\u001b[0;34m\u001b[0m\u001b[0;34m\u001b[0m\u001b[0m\n\u001b[0m",
      "\u001b[0;31mNameError\u001b[0m: name 'spline_evals' is not defined"
     ]
    }
   ],
   "source": [
    "spline_evals"
   ]
  },
  {
   "cell_type": "code",
   "execution_count": 7,
   "id": "da7aebe5-7ec7-40f9-a125-254d2eab581f",
   "metadata": {},
   "outputs": [],
   "source": [
    "params = {'m': 1e8, 'a': 4.0, 'spline_eval_func': eval_spl_funcs, 'splines': splines, 't_min': 0., 't_max': 2000.}\n",
    "\n",
    "pot = Isochrone_centered(m=params['m'], a=params['a'],\n",
    "                         spline_eval_func=params['spline_eval_func'],\n",
    "                         splines=params['splines'],\n",
    "                         t_min=params['t_min'],\n",
    "                         t_max = params['t_max'],\n",
    "                         units=usys,)  \n",
    "\n"
   ]
  },
  {
   "cell_type": "code",
   "execution_count": 8,
   "id": "37cb9e7b-767e-4e73-9d29-d31313d5912f",
   "metadata": {},
   "outputs": [
    {
     "ename": "NameError",
     "evalue": "name 'spl_x' is not defined",
     "output_type": "error",
     "traceback": [
      "\u001b[0;31m---------------------------------------------------------------------------\u001b[0m",
      "\u001b[0;31mNameError\u001b[0m                                 Traceback (most recent call last)",
      "\u001b[0;32m/var/folders/rq/9c89gb15479bjnxrpnmdf_p40000gn/T/ipykernel_37030/2671119943.py\u001b[0m in \u001b[0;36m<module>\u001b[0;34m\u001b[0m\n\u001b[0;32m----> 1\u001b[0;31m \u001b[0mplt\u001b[0m\u001b[0;34m.\u001b[0m\u001b[0mplot\u001b[0m\u001b[0;34m(\u001b[0m\u001b[0mspl_x\u001b[0m\u001b[0;34m(\u001b[0m\u001b[0mts\u001b[0m\u001b[0;34m)\u001b[0m\u001b[0;34m,\u001b[0m\u001b[0mspl_y\u001b[0m\u001b[0;34m(\u001b[0m\u001b[0mts\u001b[0m\u001b[0;34m)\u001b[0m\u001b[0;34m)\u001b[0m\u001b[0;34m\u001b[0m\u001b[0;34m\u001b[0m\u001b[0m\n\u001b[0m\u001b[1;32m      2\u001b[0m \u001b[0mplt\u001b[0m\u001b[0;34m.\u001b[0m\u001b[0mplot\u001b[0m\u001b[0;34m(\u001b[0m\u001b[0mws_jax\u001b[0m\u001b[0;34m[\u001b[0m\u001b[0;34m:\u001b[0m\u001b[0;34m,\u001b[0m\u001b[0;36m0\u001b[0m\u001b[0;34m]\u001b[0m\u001b[0;34m,\u001b[0m\u001b[0mws_jax\u001b[0m\u001b[0;34m[\u001b[0m\u001b[0;34m:\u001b[0m\u001b[0;34m,\u001b[0m\u001b[0;36m1\u001b[0m\u001b[0;34m]\u001b[0m\u001b[0;34m)\u001b[0m\u001b[0;34m\u001b[0m\u001b[0;34m\u001b[0m\u001b[0m\n",
      "\u001b[0;31mNameError\u001b[0m: name 'spl_x' is not defined"
     ]
    }
   ],
   "source": [
    "plt.plot(spl_x(ts),spl_y(ts))\n",
    "plt.plot(ws_jax[:,0],ws_jax[:,1])"
   ]
  },
  {
   "cell_type": "code",
   "execution_count": 9,
   "id": "53c83e0e-5dc8-4cfc-aea7-b2179e0eb07f",
   "metadata": {},
   "outputs": [],
   "source": [
    "\n",
    "#params = {'m': 1e8, 'a': 4.0, 'xyz_center': xyz_center, 't_min': t_min, 't_max': t_max}"
   ]
  },
  {
   "cell_type": "code",
   "execution_count": 10,
   "id": "9bdf1e52-9a4a-4d76-98cf-1e882824eeb0",
   "metadata": {},
   "outputs": [],
   "source": [
    "gala_pot = gp.IsochronePotential(m=params['m'],b=params['a'],units=usys)\n",
    "H = gp.Hamiltonian(gala_pot)\n",
    "w0_gala  =gd.PhaseSpacePosition(pos=w0[:3],vel=w0[3:])\n",
    "t0 = 0#25_000*0.5\n",
    "dt = 0.5\n",
    "n_steps = 2*5_000\n",
    "tss = jnp.arange(t0, t0 + dt * n_steps + dt/10., dt)\n",
    "gala_orb = H.integrate_orbit(w0=w0_gala,t=np.array(tss))"
   ]
  },
  {
   "cell_type": "code",
   "execution_count": 11,
   "id": "b1e0935f-22ec-4678-b5dc-7335a5406f29",
   "metadata": {},
   "outputs": [
    {
     "data": {
      "text/plain": [
       "Array([0.0000e+00, 5.0000e-01, 1.0000e+00, ..., 1.9990e+03, 1.9995e+03,\n",
       "       2.0000e+03], dtype=float64)"
      ]
     },
     "execution_count": 11,
     "metadata": {},
     "output_type": "execute_result"
    }
   ],
   "source": [
    "ts"
   ]
  },
  {
   "cell_type": "code",
   "execution_count": 19,
   "id": "fa2aad7f-469e-47e8-abf4-a05dc401e101",
   "metadata": {},
   "outputs": [],
   "source": [
    "lead_arm, trail_arm = pot.gen_stream_final(ts, w0, M_sat, pos_disp, vel_disp)"
   ]
  },
  {
   "cell_type": "code",
   "execution_count": 13,
   "id": "bb9d756f-4a5a-4311-a247-1519dbfd68f8",
   "metadata": {},
   "outputs": [
    {
     "ename": "NameError",
     "evalue": "name 'lead_arm' is not defined",
     "output_type": "error",
     "traceback": [
      "\u001b[0;31m---------------------------------------------------------------------------\u001b[0m",
      "\u001b[0;31mNameError\u001b[0m                                 Traceback (most recent call last)",
      "\u001b[0;32m/var/folders/rq/9c89gb15479bjnxrpnmdf_p40000gn/T/ipykernel_37030/484101367.py\u001b[0m in \u001b[0;36m<module>\u001b[0;34m\u001b[0m\n\u001b[1;32m      1\u001b[0m \u001b[0mplt\u001b[0m\u001b[0;34m.\u001b[0m\u001b[0mplot\u001b[0m\u001b[0;34m(\u001b[0m\u001b[0mgala_orb\u001b[0m\u001b[0;34m.\u001b[0m\u001b[0mx\u001b[0m\u001b[0;34m,\u001b[0m\u001b[0mgala_orb\u001b[0m\u001b[0;34m.\u001b[0m\u001b[0my\u001b[0m\u001b[0;34m,\u001b[0m\u001b[0mcolor\u001b[0m\u001b[0;34m=\u001b[0m\u001b[0;34m'r'\u001b[0m\u001b[0;34m)\u001b[0m\u001b[0;34m\u001b[0m\u001b[0;34m\u001b[0m\u001b[0m\n\u001b[0;32m----> 2\u001b[0;31m \u001b[0mplt\u001b[0m\u001b[0;34m.\u001b[0m\u001b[0mscatter\u001b[0m\u001b[0;34m(\u001b[0m\u001b[0mlead_arm\u001b[0m\u001b[0;34m[\u001b[0m\u001b[0;34m:\u001b[0m\u001b[0;34m,\u001b[0m\u001b[0;36m0\u001b[0m\u001b[0;34m]\u001b[0m\u001b[0;34m,\u001b[0m\u001b[0mlead_arm\u001b[0m\u001b[0;34m[\u001b[0m\u001b[0;34m:\u001b[0m\u001b[0;34m,\u001b[0m\u001b[0;36m1\u001b[0m\u001b[0;34m]\u001b[0m\u001b[0;34m,\u001b[0m\u001b[0ms\u001b[0m\u001b[0;34m=\u001b[0m\u001b[0;36m.4\u001b[0m\u001b[0;34m,\u001b[0m\u001b[0mzorder\u001b[0m\u001b[0;34m=\u001b[0m\u001b[0;36m2\u001b[0m\u001b[0;34m)\u001b[0m\u001b[0;34m\u001b[0m\u001b[0;34m\u001b[0m\u001b[0m\n\u001b[0m\u001b[1;32m      3\u001b[0m \u001b[0;34m\u001b[0m\u001b[0m\n\u001b[1;32m      4\u001b[0m \u001b[0;31m#plt.xlim(-70,-40)\u001b[0m\u001b[0;34m\u001b[0m\u001b[0;34m\u001b[0m\u001b[0;34m\u001b[0m\u001b[0m\n\u001b[1;32m      5\u001b[0m \u001b[0;31m#plt.\u001b[0m\u001b[0;34m\u001b[0m\u001b[0;34m\u001b[0m\u001b[0;34m\u001b[0m\u001b[0m\n",
      "\u001b[0;31mNameError\u001b[0m: name 'lead_arm' is not defined"
     ]
    },
    {
     "data": {
      "image/png": "[encoded data removed]",
      "text/plain": [
       "<Figure size 252x189 with 1 Axes>"
      ]
     },
     "metadata": {
      "needs_background": "light"
     },
     "output_type": "display_data"
    }
   ],
   "source": [
    "plt.plot(gala_orb.x,gala_orb.y,color='r')\n",
    "plt.scatter(lead_arm[:,0],lead_arm[:,1],s=.4,zorder=2)\n",
    "\n",
    "#plt.xlim(-70,-40)\n",
    "#plt.\n",
    "#plt.scatter(trail_arm[:,0],trail_arm[:,1],s=0.05)"
   ]
  },
  {
   "cell_type": "code",
   "execution_count": 17,
   "id": "6ae4cb8f-82ee-4feb-9a4e-d167c915be9a",
   "metadata": {},
   "outputs": [],
   "source": [
    "def stream_gradients(params,ts,w0,Msat, pos_disp, vel_disp,units):\n",
    "    pot = Isochrone(m=params['m'], a=params['a'],units=units)\n",
    "    #lead_arm, trail_arm = pot.gen_stream_final(ts, w0, Msat, pos_disp, vel_disp)\n",
    "    \n",
    "    # Compute the gradient of the final position with respect to the potential parameters\n",
    "    def gradient_fn(params):\n",
    "        pot_with_params = Isochrone(m=params['m'], a=params['a'],units=units)\n",
    "        lead_arm, trail_arm = pot_with_params.gen_stream_final(ts, w0, Msat, pos_disp, vel_disp)\n",
    "        return jnp.sum(lead_arm**2) \n",
    "    # Compute the gradient using JAX's autodiff\n",
    "    gradient_eval = jax.jacfwd(gradient_fn)(params)\n",
    "    \n",
    "    return gradient_eval\n",
    "    \n",
    "    \n",
    "gradient_eval = stream_gradients(params,ts,w0,M_sat,pos_disp,vel_disp,usys)\n",
    "    \n"
   ]
  },
  {
   "cell_type": "code",
   "execution_count": 20,
   "id": "329b8c08-ecf5-4514-9669-e7628153dc7c",
   "metadata": {},
   "outputs": [
    {
     "data": {
      "text/plain": [
       "<matplotlib.collections.PathCollection at 0x7f91b15a0160>"
      ]
     },
     "execution_count": 20,
     "metadata": {},
     "output_type": "execute_result"
    },
    {
     "data": {
      "image/png": "[encoded data removed]",
      "text/plain": [
       "<Figure size 252x189 with 1 Axes>"
      ]
     },
     "metadata": {
      "needs_background": "light"
     },
     "output_type": "display_data"
    }
   ],
   "source": [
    "import jax.scipy.stats as statsjax\n",
    "kde = statsjax.gaussian_kde(lead_arm[:,:].T,bw_method=.04)\n",
    "key = jax.random.PRNGKey(3)\n",
    "samps = kde.resample(key,[len(lead_arm)]).T\n",
    "ll = kde.logpdf(lead_arm[:,:].T)\n",
    "plt.scatter(samps[:,0],samps[:,1],s=.4)"
   ]
  },
  {
   "cell_type": "code",
   "execution_count": 27,
   "id": "20bb92f2-0b88-4968-8c92-02f615ece584",
   "metadata": {},
   "outputs": [],
   "source": [
    "lead_arm_data, trail_arm_data = pot.gen_stream_final(ts, w0, M_sat, pos_disp, vel_disp)"
   ]
  },
  {
   "cell_type": "code",
   "execution_count": 29,
   "id": "383bb9f9-06b3-4855-9b50-8564c35f2ffb",
   "metadata": {},
   "outputs": [],
   "source": [
    "#@partial(jax.jit, static_argnums=(1,))\n",
    "def cost_func(stream_particles_data=None,stream_particles_model=None):\n",
    "    return -jnp.mean(jnp.square(stream_particles_data[:] - stream_particles_model[:]))\n",
    "from functools import partial\n",
    "test_func = partial(cost_func,stream_particles_data=lead_arm_data)\n",
    "#test_func(stream_particles_model=lead_arm_data)"
   ]
  },
  {
   "cell_type": "code",
   "execution_count": 36,
   "id": "d0cdad0d-aad3-4078-9db6-fd375faed875",
   "metadata": {},
   "outputs": [],
   "source": [
    "import jax.scipy.stats as statsjax\n",
    "\n",
    "def stream_gradients_kde(params,ts,w0,Msat, pos_disp, vel_disp, kde, units):\n",
    "    #pot = Isochrone(m=params['m'], a=params['a'],units=units)\n",
    "    #lead_arm, trail_arm = pot.gen_stream_final(ts, w0, Msat, pos_disp, vel_disp)\n",
    "    \n",
    "    # Compute the gradient of the final position with respect to the potential parameters\n",
    "    def gradient_fn(params):\n",
    "        pot_with_params = Isochrone(m=params['m'], a=params['a'],units=units)\n",
    "        lead_arm, trail_arm = pot_with_params.gen_stream_final(ts, w0, Msat, pos_disp, vel_disp)\n",
    "        #kde = statsjax.gaussian_kde(lead_arm.T,bw_method=.07)\n",
    "        log_like = test_func(stream_particles_model=lead_arm)#jnp.sum(kde.logpdf(lead_arm.T))\n",
    "        return log_like#jnp.sum(lead_arm**2) \n",
    "    # Compute the gradient using JAX's autodiff\n",
    "    gradient_eval = jax.jacfwd(gradient_fn)(params)\n",
    "    \n",
    "    ##grad_eval_func = lambda params: jax.jacfwd(gradient_fn)(params)\n",
    "    ##second_grad_eval = jax.jacfwd(grad_eval_func)(params)\n",
    "    \n",
    "    return gradient_eval, None#second_grad_eval\n",
    "    \n",
    "params_ = {'m': params['m'], 'a': params['a']}\n",
    "\n",
    "gradient_eval, second_gradient = stream_gradients_kde(params_,ts,w0,M_sat,pos_disp,vel_disp, kde, usys)\n",
    "    \n"
   ]
  },
  {
   "cell_type": "code",
   "execution_count": 37,
   "id": "1e3d5bb6-432f-44a9-966e-ef9f07d5ca74",
   "metadata": {},
   "outputs": [
    {
     "data": {
      "text/plain": [
       "{'a': Array(-5.49931482e-15, dtype=float64),\n",
       " 'm': Array(2.19205184e-25, dtype=float64)}"
      ]
     },
     "execution_count": 37,
     "metadata": {},
     "output_type": "execute_result"
    }
   ],
   "source": [
    "gradient_eval"
   ]
  },
  {
   "cell_type": "code",
   "execution_count": 24,
   "id": "7c6152f9-365c-4657-b276-4785165aa531",
   "metadata": {},
   "outputs": [
    {
     "data": {
      "text/plain": [
       "Array([[1.58206676e-06, 4.30600858e+04],\n",
       "       [4.30600858e+04, 1.21564519e+15]], dtype=float64)"
      ]
     },
     "execution_count": 24,
     "metadata": {},
     "output_type": "execute_result"
    }
   ],
   "source": [
    "I = -jnp.array([ [second_gradient['a']['a'],second_gradient['a']['m'] ],\n",
    "            [second_gradient['a']['m'], second_gradient['m']['m'] ] ])\n",
    "jnp.linalg.inv(I)\n"
   ]
  },
  {
   "cell_type": "code",
   "execution_count": 19,
   "id": "5047a88d-9197-4635-96f9-7af7d20ff046",
   "metadata": {},
   "outputs": [
    {
     "data": {
      "text/plain": [
       "8.539590623023813"
      ]
     },
     "execution_count": 19,
     "metadata": {},
     "output_type": "execute_result"
    }
   ],
   "source": [
    "np.log10(jnp.sqrt(1.2e17))"
   ]
  },
  {
   "cell_type": "code",
   "execution_count": 1198,
   "id": "cd4cc6ed-fb0d-4ba0-9506-0a2d46ec63bc",
   "metadata": {},
   "outputs": [
    {
     "data": {
      "text/plain": [
       "10.0"
      ]
     },
     "execution_count": 1198,
     "metadata": {},
     "output_type": "execute_result"
    }
   ],
   "source": [
    "np.sqrt(1e-4)*1000"
   ]
  },
  {
   "cell_type": "code",
   "execution_count": 960,
   "id": "93da2b70-850c-4b96-8309-be8a08ce1175",
   "metadata": {},
   "outputs": [
    {
     "data": {
      "text/plain": [
       "1.0000283885785286"
      ]
     },
     "execution_count": 960,
     "metadata": {},
     "output_type": "execute_result"
    }
   ],
   "source": [
    "10**np.sqrt(1.52e-10)"
   ]
  },
  {
   "cell_type": "code",
   "execution_count": 945,
   "id": "56b4c7ed-b310-432d-9313-4815875f29db",
   "metadata": {},
   "outputs": [
    {
     "data": {
      "text/plain": [
       "Array([[6.97522627e-09, 2.31555412e+02],\n",
       "       [2.31555412e+02, 8.13557014e+12]], dtype=float64)"
      ]
     },
     "execution_count": 945,
     "metadata": {},
     "output_type": "execute_result"
    }
   ],
   "source": [
    "I = -jnp.array([ [second_gradient['a']['a'],second_gradient['a']['m'] ],\n",
    "            [second_gradient['a']['m'], second_gradient['m']['m'] ] ])\n",
    "jnp.linalg.inv(I)"
   ]
  },
  {
   "cell_type": "code",
   "execution_count": 938,
   "id": "d8458f4f-bdb0-4e60-aff4-733233fd3d37",
   "metadata": {},
   "outputs": [
    {
     "data": {
      "text/plain": [
       "(Array(0.07399038, dtype=float64), Array(0.07399038, dtype=float64))"
      ]
     },
     "execution_count": 938,
     "metadata": {},
     "output_type": "execute_result"
    }
   ],
   "source": [
    "second_gradient['a']['m'], second_gradient['m']['a']"
   ]
  },
  {
   "cell_type": "code",
   "execution_count": 1238,
   "id": "907cfc74-e382-4827-90bb-2ba422d11697",
   "metadata": {},
   "outputs": [
    {
     "data": {
      "text/plain": [
       "1000000000000.0"
      ]
     },
     "execution_count": 1238,
     "metadata": {},
     "output_type": "execute_result"
    }
   ],
   "source": [
    "params['m']"
   ]
  },
  {
   "cell_type": "code",
   "execution_count": 1241,
   "id": "843fe77b-34a6-402b-8a49-82ef147150b5",
   "metadata": {},
   "outputs": [],
   "source": [
    "pot = Isochrone(m=params['m'], a=params['a'],units=usys,)  # Create the potential with the given parameters\n",
    "    \n",
    "# Example Orbit:\n",
    "t0 = 0\n",
    "ts = jnp.arange(t0, t0 + dt * n_steps + dt/10., dt)\n",
    "    \n",
    "### Compute the orbit with the provided potential\n",
    "w_orb = leapfrog_run(w0, ts, pot.gradient)"
   ]
  },
  {
   "cell_type": "code",
   "execution_count": 1262,
   "id": "a588cf14-eefc-4e52-8057-8f25aaaeb2dd",
   "metadata": {},
   "outputs": [
    {
     "data": {
      "text/plain": [
       "Array(-0., dtype=float64)"
      ]
     },
     "execution_count": 1262,
     "metadata": {},
     "output_type": "execute_result"
    }
   ],
   "source": [
    "@jax.jit\n",
    "def gauss_pt(x_eval, x_mean):\n",
    "    return -0.5*jnp.sum(jnp.square(x_eval - x_mean))\n",
    "gauss_pt(w_orb[-1,:],w_orb[-1,:])"
   ]
  },
  {
   "cell_type": "code",
   "execution_count": 1254,
   "id": "1dc6c939-3eb6-4f8d-8e97-ec13c5b958dc",
   "metadata": {},
   "outputs": [
    {
     "data": {
      "text/plain": [
       "<matplotlib.collections.PathCollection at 0x7faa24c76d60>"
      ]
     },
     "execution_count": 1254,
     "metadata": {},
     "output_type": "execute_result"
    },
    {
     "data": {
      "image/png": "[encoded data removed]",
      "text/plain": [
       "<Figure size 252x189 with 1 Axes>"
      ]
     },
     "metadata": {
      "needs_background": "light"
     },
     "output_type": "display_data"
    }
   ],
   "source": [
    "import jax.scipy.stats as statsjax\n",
    "#kde = statsjax.gaussian_kde(w_orb[-1,:],bw_method=.04)\n",
    "#key = jax.random.PRNGKey(3)\n",
    "#samps = kde.resample(key,[20]).T\n",
    "#ll = kde.logpdf(lead_arm[:,:].T)\n",
    "#plt.scatter(samps[:,0],samps[:,1],s=10)"
   ]
  },
  {
   "cell_type": "code",
   "execution_count": 1272,
   "id": "d3ae8521-c99b-40ae-926d-51d9fb519eb0",
   "metadata": {},
   "outputs": [],
   "source": [
    "def compute_orbit_and_gradients(params,w0,dt,n_steps,units):\n",
    "    pot = Isochrone(m=params['m'], a=params['a'],units=units,)  # Create the potential with the given parameters\n",
    "    \n",
    "    # Example Orbit:\n",
    "    #w0 = jnp.array([10, 0, 0, 0, .204, 0])\n",
    "    t0 = 0\n",
    "    #dt = 0.1\n",
    "    #n_steps = 10000\n",
    "    ts = jnp.arange(t0, t0 + dt * n_steps + dt/10., dt)\n",
    "    \n",
    "    ### Compute the orbit with the provided potential\n",
    "    ####################ws_jax = leapfrog_run(w0, ts, pot.gradient)\n",
    "    \n",
    "    # Compute the gradient of the final position with respect to the potential parameters\n",
    "    def gradient_fn(params):\n",
    "        pot_with_params = Isochrone(m=params['m'], a=params['a'],units=units)\n",
    "        ws_with_params = leapfrog_run(w0, ts, pot_with_params.gradient)\n",
    "        final_position = ws_with_params[-1, :]  # Extract final position\n",
    "        return gauss_pt(final_position,w_orb[-1,:])\n",
    "        #return final_position\n",
    "    \n",
    "    # Compute the gradient using JAX's autodiff\n",
    "    gradient = jax.jacfwd(gradient_fn)(params)\n",
    "    \n",
    "    return gradient"
   ]
  },
  {
   "cell_type": "code",
   "execution_count": 1273,
   "id": "e83d25a4-7f91-4d90-8353-8526e7b40449",
   "metadata": {},
   "outputs": [],
   "source": [
    "gg = compute_orbit_and_gradients(params,w0,dt,n_steps,usys)"
   ]
  },
  {
   "cell_type": "code",
   "execution_count": 1274,
   "id": "f90f5030-0249-4385-a1f8-ef04fb55de62",
   "metadata": {},
   "outputs": [
    {
     "data": {
      "text/plain": [
       "{'a': Array(-0., dtype=float64), 'm': Array(-0., dtype=float64)}"
      ]
     },
     "execution_count": 1274,
     "metadata": {},
     "output_type": "execute_result"
    }
   ],
   "source": [
    "gg"
   ]
  },
  {
   "cell_type": "code",
   "execution_count": 399,
   "id": "04c08e2d-23df-4f74-93a2-81b71b2fb113",
   "metadata": {},
   "outputs": [],
   "source": [
    "params = {'m': 5e11, 'a': 10.}\n",
    "pot = Hernquist(m=params['m'], a=params['a'],units=usys,)  \n",
    "t0 = 0\n",
    "dt = 0.5\n",
    "n_steps = 10_000\n",
    "ts = jnp.arange(t0, t0 + dt * n_steps + dt/10., dt)\n",
    "### Compute the orbit with the provided potential\n",
    "##ws_jax = leapfrog_run(w0, ts, pot.gradient)\n",
    "\n",
    "M_sat = 1.0e4 # TODO: mass loss rate\n",
    "pos_disp = .001\n",
    "vel_disp = (20*u.km/u.s).to(u.kpc/u.Myr).value#.05\n",
    "\n",
    "pos_close_arr, pos_far_arr, vel_close_arr, vel_far_arr = pot.gen_stream_ics(ts, w0, Msat, pos_disp, vel_disp)"
   ]
  },
  {
   "cell_type": "code",
   "execution_count": 333,
   "id": "b69344f7-9f7f-473b-a917-1fbd614d941d",
   "metadata": {},
   "outputs": [],
   "source": [
    "#release_time_arr = get_stripping_time_arr(ts)"
   ]
  },
  {
   "cell_type": "code",
   "execution_count": 308,
   "id": "808ed1f4-eb0a-44e3-8e4d-b7be12395a98",
   "metadata": {},
   "outputs": [
    {
     "data": {
      "text/plain": [
       "Array([0.000e+00, 1.000e+00, 2.000e+00, ..., 9.998e+03, 9.999e+03,\n",
       "       1.000e+04], dtype=float64)"
      ]
     },
     "execution_count": 308,
     "metadata": {},
     "output_type": "execute_result"
    }
   ],
   "source": [
    "ts = jnp.arange(t0, t0 + dt * n_steps + dt/10., dt)\n",
    "ts"
   ]
  },
  {
   "cell_type": "code",
   "execution_count": 309,
   "id": "64ed11fc-7055-46b1-8e93-f9537ff4ca6a",
   "metadata": {},
   "outputs": [
    {
     "ename": "KeyboardInterrupt",
     "evalue": "",
     "output_type": "error",
     "traceback": [
      "\u001b[0;31m---------------------------------------------------------------------------\u001b[0m",
      "\u001b[0;31mKeyboardInterrupt\u001b[0m                         Traceback (most recent call last)",
      "\u001b[0;32m/var/folders/rq/9c89gb15479bjnxrpnmdf_p40000gn/T/ipykernel_21408/1523047885.py\u001b[0m in \u001b[0;36m<module>\u001b[0;34m\u001b[0m\n\u001b[1;32m      5\u001b[0m \u001b[0;31m# Example usage:\u001b[0m\u001b[0;34m\u001b[0m\u001b[0;34m\u001b[0m\u001b[0;34m\u001b[0m\u001b[0m\n\u001b[1;32m      6\u001b[0m \u001b[0;31m#ts = jnp.array([1, 2, 3, 4, 5])\u001b[0m\u001b[0;34m\u001b[0m\u001b[0;34m\u001b[0m\u001b[0;34m\u001b[0m\u001b[0m\n\u001b[0;32m----> 7\u001b[0;31m \u001b[0mresult\u001b[0m \u001b[0;34m=\u001b[0m \u001b[0mget_stripping_time_arr\u001b[0m\u001b[0;34m(\u001b[0m\u001b[0mts\u001b[0m\u001b[0;34m)\u001b[0m\u001b[0;34m\u001b[0m\u001b[0;34m\u001b[0m\u001b[0m\n\u001b[0m\u001b[1;32m      8\u001b[0m \u001b[0mprint\u001b[0m\u001b[0;34m(\u001b[0m\u001b[0mresult\u001b[0m\u001b[0;34m)\u001b[0m\u001b[0;34m\u001b[0m\u001b[0;34m\u001b[0m\u001b[0m\n",
      "\u001b[0;32m/var/folders/rq/9c89gb15479bjnxrpnmdf_p40000gn/T/ipykernel_21408/1523047885.py\u001b[0m in \u001b[0;36mget_stripping_time_arr\u001b[0;34m(ts)\u001b[0m\n\u001b[1;32m      1\u001b[0m \u001b[0;32mdef\u001b[0m \u001b[0mget_stripping_time_arr\u001b[0m\u001b[0;34m(\u001b[0m\u001b[0mts\u001b[0m\u001b[0;34m)\u001b[0m\u001b[0;34m:\u001b[0m\u001b[0;34m\u001b[0m\u001b[0;34m\u001b[0m\u001b[0m\n\u001b[0;32m----> 2\u001b[0;31m     \u001b[0mt_release_arr\u001b[0m \u001b[0;34m=\u001b[0m \u001b[0;34m[\u001b[0m\u001b[0mts\u001b[0m\u001b[0;34m[\u001b[0m\u001b[0mi\u001b[0m\u001b[0;34m:\u001b[0m\u001b[0;34m]\u001b[0m \u001b[0;32mfor\u001b[0m \u001b[0mi\u001b[0m \u001b[0;32min\u001b[0m \u001b[0mrange\u001b[0m\u001b[0;34m(\u001b[0m\u001b[0mlen\u001b[0m\u001b[0;34m(\u001b[0m\u001b[0mts\u001b[0m\u001b[0;34m)\u001b[0m\u001b[0;34m)\u001b[0m\u001b[0;34m]\u001b[0m\u001b[0;34m\u001b[0m\u001b[0;34m\u001b[0m\u001b[0m\n\u001b[0m\u001b[1;32m      3\u001b[0m     \u001b[0;32mreturn\u001b[0m \u001b[0mt_release_arr\u001b[0m\u001b[0;34m\u001b[0m\u001b[0;34m\u001b[0m\u001b[0m\n\u001b[1;32m      4\u001b[0m \u001b[0;34m\u001b[0m\u001b[0m\n\u001b[1;32m      5\u001b[0m \u001b[0;31m# Example usage:\u001b[0m\u001b[0;34m\u001b[0m\u001b[0;34m\u001b[0m\u001b[0;34m\u001b[0m\u001b[0m\n",
      "\u001b[0;32m/var/folders/rq/9c89gb15479bjnxrpnmdf_p40000gn/T/ipykernel_21408/1523047885.py\u001b[0m in \u001b[0;36m<listcomp>\u001b[0;34m(.0)\u001b[0m\n\u001b[1;32m      1\u001b[0m \u001b[0;32mdef\u001b[0m \u001b[0mget_stripping_time_arr\u001b[0m\u001b[0;34m(\u001b[0m\u001b[0mts\u001b[0m\u001b[0;34m)\u001b[0m\u001b[0;34m:\u001b[0m\u001b[0;34m\u001b[0m\u001b[0;34m\u001b[0m\u001b[0m\n\u001b[0;32m----> 2\u001b[0;31m     \u001b[0mt_release_arr\u001b[0m \u001b[0;34m=\u001b[0m \u001b[0;34m[\u001b[0m\u001b[0mts\u001b[0m\u001b[0;34m[\u001b[0m\u001b[0mi\u001b[0m\u001b[0;34m:\u001b[0m\u001b[0;34m]\u001b[0m \u001b[0;32mfor\u001b[0m \u001b[0mi\u001b[0m \u001b[0;32min\u001b[0m \u001b[0mrange\u001b[0m\u001b[0;34m(\u001b[0m\u001b[0mlen\u001b[0m\u001b[0;34m(\u001b[0m\u001b[0mts\u001b[0m\u001b[0;34m)\u001b[0m\u001b[0;34m)\u001b[0m\u001b[0;34m]\u001b[0m\u001b[0;34m\u001b[0m\u001b[0;34m\u001b[0m\u001b[0m\n\u001b[0m\u001b[1;32m      3\u001b[0m     \u001b[0;32mreturn\u001b[0m \u001b[0mt_release_arr\u001b[0m\u001b[0;34m\u001b[0m\u001b[0;34m\u001b[0m\u001b[0m\n\u001b[1;32m      4\u001b[0m \u001b[0;34m\u001b[0m\u001b[0m\n\u001b[1;32m      5\u001b[0m \u001b[0;31m# Example usage:\u001b[0m\u001b[0;34m\u001b[0m\u001b[0;34m\u001b[0m\u001b[0;34m\u001b[0m\u001b[0m\n",
      "\u001b[0;32m~/opt/anaconda3/envs/MachineLearnGravPotential/lib/python3.8/site-packages/jax/_src/array.py\u001b[0m in \u001b[0;36m__getitem__\u001b[0;34m(self, idx)\u001b[0m\n\u001b[1;32m    341\u001b[0m       \u001b[0;32mreturn\u001b[0m \u001b[0mlax_numpy\u001b[0m\u001b[0;34m.\u001b[0m\u001b[0m_rewriting_take\u001b[0m\u001b[0;34m(\u001b[0m\u001b[0mself\u001b[0m\u001b[0;34m,\u001b[0m \u001b[0midx\u001b[0m\u001b[0;34m)\u001b[0m\u001b[0;34m\u001b[0m\u001b[0;34m\u001b[0m\u001b[0m\n\u001b[1;32m    342\u001b[0m     \u001b[0;32melse\u001b[0m\u001b[0;34m:\u001b[0m\u001b[0;34m\u001b[0m\u001b[0;34m\u001b[0m\u001b[0m\n\u001b[0;32m--> 343\u001b[0;31m       \u001b[0;32mreturn\u001b[0m \u001b[0mlax_numpy\u001b[0m\u001b[0;34m.\u001b[0m\u001b[0m_rewriting_take\u001b[0m\u001b[0;34m(\u001b[0m\u001b[0mself\u001b[0m\u001b[0;34m,\u001b[0m \u001b[0midx\u001b[0m\u001b[0;34m)\u001b[0m\u001b[0;34m\u001b[0m\u001b[0;34m\u001b[0m\u001b[0m\n\u001b[0m\u001b[1;32m    344\u001b[0m \u001b[0;34m\u001b[0m\u001b[0m\n\u001b[1;32m    345\u001b[0m   \u001b[0;32mdef\u001b[0m \u001b[0m__iter__\u001b[0m\u001b[0;34m(\u001b[0m\u001b[0mself\u001b[0m\u001b[0;34m)\u001b[0m\u001b[0;34m:\u001b[0m\u001b[0;34m\u001b[0m\u001b[0;34m\u001b[0m\u001b[0m\n",
      "\u001b[0;32m~/opt/anaconda3/envs/MachineLearnGravPotential/lib/python3.8/site-packages/jax/_src/numpy/lax_numpy.py\u001b[0m in \u001b[0;36m_rewriting_take\u001b[0;34m(arr, idx, indices_are_sorted, unique_indices, mode, fill_value)\u001b[0m\n\u001b[1;32m   3890\u001b[0m         \u001b[0;31m# Use dynamic rather than static slice here to avoid slow repeated execution:\u001b[0m\u001b[0;34m\u001b[0m\u001b[0;34m\u001b[0m\u001b[0;34m\u001b[0m\u001b[0m\n\u001b[1;32m   3891\u001b[0m         \u001b[0;31m# See https://github.com/google/jax/issues/12198\u001b[0m\u001b[0;34m\u001b[0m\u001b[0;34m\u001b[0m\u001b[0;34m\u001b[0m\u001b[0m\n\u001b[0;32m-> 3892\u001b[0;31m         \u001b[0;32mreturn\u001b[0m \u001b[0mlax\u001b[0m\u001b[0;34m.\u001b[0m\u001b[0mdynamic_slice_in_dim\u001b[0m\u001b[0;34m(\u001b[0m\u001b[0marr\u001b[0m\u001b[0;34m,\u001b[0m \u001b[0mstart\u001b[0m\u001b[0;34m,\u001b[0m \u001b[0m_max\u001b[0m\u001b[0;34m(\u001b[0m\u001b[0;36m0\u001b[0m\u001b[0;34m,\u001b[0m \u001b[0mstop\u001b[0m \u001b[0;34m-\u001b[0m \u001b[0mstart\u001b[0m\u001b[0;34m)\u001b[0m\u001b[0;34m,\u001b[0m \u001b[0;36m0\u001b[0m\u001b[0;34m)\u001b[0m\u001b[0;34m\u001b[0m\u001b[0;34m\u001b[0m\u001b[0m\n\u001b[0m\u001b[1;32m   3893\u001b[0m       \u001b[0;32melse\u001b[0m\u001b[0;34m:\u001b[0m\u001b[0;34m\u001b[0m\u001b[0;34m\u001b[0m\u001b[0m\n\u001b[1;32m   3894\u001b[0m         \u001b[0;32mreturn\u001b[0m \u001b[0mlax\u001b[0m\u001b[0;34m.\u001b[0m\u001b[0mslice_in_dim\u001b[0m\u001b[0;34m(\u001b[0m\u001b[0marr\u001b[0m\u001b[0;34m,\u001b[0m \u001b[0mstart\u001b[0m\u001b[0;34m,\u001b[0m \u001b[0mstop\u001b[0m\u001b[0;34m,\u001b[0m \u001b[0mstep\u001b[0m\u001b[0;34m)\u001b[0m\u001b[0;34m\u001b[0m\u001b[0;34m\u001b[0m\u001b[0m\n",
      "\u001b[0;32m~/opt/anaconda3/envs/MachineLearnGravPotential/lib/python3.8/site-packages/jax/_src/lax/slicing.py\u001b[0m in \u001b[0;36mdynamic_slice_in_dim\u001b[0;34m(operand, start_index, slice_size, axis)\u001b[0m\n\u001b[1;32m    696\u001b[0m   \u001b[0mstart_indices\u001b[0m\u001b[0;34m[\u001b[0m\u001b[0maxis\u001b[0m\u001b[0;34m]\u001b[0m \u001b[0;34m=\u001b[0m \u001b[0mstart_index\u001b[0m\u001b[0;34m\u001b[0m\u001b[0;34m\u001b[0m\u001b[0m\n\u001b[1;32m    697\u001b[0m   \u001b[0mslice_sizes\u001b[0m\u001b[0;34m[\u001b[0m\u001b[0maxis\u001b[0m\u001b[0;34m]\u001b[0m \u001b[0;34m=\u001b[0m \u001b[0mcore\u001b[0m\u001b[0;34m.\u001b[0m\u001b[0m_canonicalize_dimension\u001b[0m\u001b[0;34m(\u001b[0m\u001b[0mslice_size\u001b[0m\u001b[0;34m)\u001b[0m\u001b[0;34m\u001b[0m\u001b[0;34m\u001b[0m\u001b[0m\n\u001b[0;32m--> 698\u001b[0;31m   \u001b[0;32mreturn\u001b[0m \u001b[0mdynamic_slice\u001b[0m\u001b[0;34m(\u001b[0m\u001b[0moperand\u001b[0m\u001b[0;34m,\u001b[0m \u001b[0mstart_indices\u001b[0m\u001b[0;34m,\u001b[0m \u001b[0mslice_sizes\u001b[0m\u001b[0;34m)\u001b[0m\u001b[0;34m\u001b[0m\u001b[0;34m\u001b[0m\u001b[0m\n\u001b[0m\u001b[1;32m    699\u001b[0m \u001b[0;34m\u001b[0m\u001b[0m\n\u001b[1;32m    700\u001b[0m \u001b[0;34m\u001b[0m\u001b[0m\n",
      "\u001b[0;32m~/opt/anaconda3/envs/MachineLearnGravPotential/lib/python3.8/site-packages/jax/_src/lax/slicing.py\u001b[0m in \u001b[0;36mdynamic_slice\u001b[0;34m(operand, start_indices, slice_sizes)\u001b[0m\n\u001b[1;32m    108\u001b[0m     \u001b[0mdynamic_sizes\u001b[0m \u001b[0;34m=\u001b[0m \u001b[0;34m[\u001b[0m\u001b[0;34m]\u001b[0m\u001b[0;34m\u001b[0m\u001b[0;34m\u001b[0m\u001b[0m\n\u001b[1;32m    109\u001b[0m     \u001b[0mstatic_sizes\u001b[0m \u001b[0;34m=\u001b[0m \u001b[0mcore\u001b[0m\u001b[0;34m.\u001b[0m\u001b[0mcanonicalize_shape\u001b[0m\u001b[0;34m(\u001b[0m\u001b[0mslice_sizes\u001b[0m\u001b[0;34m)\u001b[0m  \u001b[0;31m# type: ignore\u001b[0m\u001b[0;34m\u001b[0m\u001b[0;34m\u001b[0m\u001b[0m\n\u001b[0;32m--> 110\u001b[0;31m   return dynamic_slice_p.bind(operand, *start_indices, *dynamic_sizes,\n\u001b[0m\u001b[1;32m    111\u001b[0m                               slice_sizes=tuple(static_sizes))\n\u001b[1;32m    112\u001b[0m \u001b[0;34m\u001b[0m\u001b[0m\n",
      "\u001b[0;32m~/opt/anaconda3/envs/MachineLearnGravPotential/lib/python3.8/site-packages/jax/_src/core.py\u001b[0m in \u001b[0;36mbind\u001b[0;34m(self, *args, **params)\u001b[0m\n\u001b[1;32m    358\u001b[0m     assert (not config.jax_enable_checks or\n\u001b[1;32m    359\u001b[0m             all(isinstance(arg, Tracer) or valid_jaxtype(arg) for arg in args)), args\n\u001b[0;32m--> 360\u001b[0;31m     \u001b[0;32mreturn\u001b[0m \u001b[0mself\u001b[0m\u001b[0;34m.\u001b[0m\u001b[0mbind_with_trace\u001b[0m\u001b[0;34m(\u001b[0m\u001b[0mfind_top_trace\u001b[0m\u001b[0;34m(\u001b[0m\u001b[0margs\u001b[0m\u001b[0;34m)\u001b[0m\u001b[0;34m,\u001b[0m \u001b[0margs\u001b[0m\u001b[0;34m,\u001b[0m \u001b[0mparams\u001b[0m\u001b[0;34m)\u001b[0m\u001b[0;34m\u001b[0m\u001b[0;34m\u001b[0m\u001b[0m\n\u001b[0m\u001b[1;32m    361\u001b[0m \u001b[0;34m\u001b[0m\u001b[0m\n\u001b[1;32m    362\u001b[0m   \u001b[0;32mdef\u001b[0m \u001b[0mbind_with_trace\u001b[0m\u001b[0;34m(\u001b[0m\u001b[0mself\u001b[0m\u001b[0;34m,\u001b[0m \u001b[0mtrace\u001b[0m\u001b[0;34m,\u001b[0m \u001b[0margs\u001b[0m\u001b[0;34m,\u001b[0m \u001b[0mparams\u001b[0m\u001b[0;34m)\u001b[0m\u001b[0;34m:\u001b[0m\u001b[0;34m\u001b[0m\u001b[0;34m\u001b[0m\u001b[0m\n",
      "\u001b[0;32m~/opt/anaconda3/envs/MachineLearnGravPotential/lib/python3.8/site-packages/jax/_src/core.py\u001b[0m in \u001b[0;36mbind_with_trace\u001b[0;34m(self, trace, args, params)\u001b[0m\n\u001b[1;32m    361\u001b[0m \u001b[0;34m\u001b[0m\u001b[0m\n\u001b[1;32m    362\u001b[0m   \u001b[0;32mdef\u001b[0m \u001b[0mbind_with_trace\u001b[0m\u001b[0;34m(\u001b[0m\u001b[0mself\u001b[0m\u001b[0;34m,\u001b[0m \u001b[0mtrace\u001b[0m\u001b[0;34m,\u001b[0m \u001b[0margs\u001b[0m\u001b[0;34m,\u001b[0m \u001b[0mparams\u001b[0m\u001b[0;34m)\u001b[0m\u001b[0;34m:\u001b[0m\u001b[0;34m\u001b[0m\u001b[0;34m\u001b[0m\u001b[0m\n\u001b[0;32m--> 363\u001b[0;31m     \u001b[0mout\u001b[0m \u001b[0;34m=\u001b[0m \u001b[0mtrace\u001b[0m\u001b[0;34m.\u001b[0m\u001b[0mprocess_primitive\u001b[0m\u001b[0;34m(\u001b[0m\u001b[0mself\u001b[0m\u001b[0;34m,\u001b[0m \u001b[0mmap\u001b[0m\u001b[0;34m(\u001b[0m\u001b[0mtrace\u001b[0m\u001b[0;34m.\u001b[0m\u001b[0mfull_raise\u001b[0m\u001b[0;34m,\u001b[0m \u001b[0margs\u001b[0m\u001b[0;34m)\u001b[0m\u001b[0;34m,\u001b[0m \u001b[0mparams\u001b[0m\u001b[0;34m)\u001b[0m\u001b[0;34m\u001b[0m\u001b[0;34m\u001b[0m\u001b[0m\n\u001b[0m\u001b[1;32m    364\u001b[0m     \u001b[0;32mreturn\u001b[0m \u001b[0mmap\u001b[0m\u001b[0;34m(\u001b[0m\u001b[0mfull_lower\u001b[0m\u001b[0;34m,\u001b[0m \u001b[0mout\u001b[0m\u001b[0;34m)\u001b[0m \u001b[0;32mif\u001b[0m \u001b[0mself\u001b[0m\u001b[0;34m.\u001b[0m\u001b[0mmultiple_results\u001b[0m \u001b[0;32melse\u001b[0m \u001b[0mfull_lower\u001b[0m\u001b[0;34m(\u001b[0m\u001b[0mout\u001b[0m\u001b[0;34m)\u001b[0m\u001b[0;34m\u001b[0m\u001b[0;34m\u001b[0m\u001b[0m\n\u001b[1;32m    365\u001b[0m \u001b[0;34m\u001b[0m\u001b[0m\n",
      "\u001b[0;32m~/opt/anaconda3/envs/MachineLearnGravPotential/lib/python3.8/site-packages/jax/_src/core.py\u001b[0m in \u001b[0;36mprocess_primitive\u001b[0;34m(self, primitive, tracers, params)\u001b[0m\n\u001b[1;32m    815\u001b[0m \u001b[0;34m\u001b[0m\u001b[0m\n\u001b[1;32m    816\u001b[0m   \u001b[0;32mdef\u001b[0m \u001b[0mprocess_primitive\u001b[0m\u001b[0;34m(\u001b[0m\u001b[0mself\u001b[0m\u001b[0;34m,\u001b[0m \u001b[0mprimitive\u001b[0m\u001b[0;34m,\u001b[0m \u001b[0mtracers\u001b[0m\u001b[0;34m,\u001b[0m \u001b[0mparams\u001b[0m\u001b[0;34m)\u001b[0m\u001b[0;34m:\u001b[0m\u001b[0;34m\u001b[0m\u001b[0;34m\u001b[0m\u001b[0m\n\u001b[0;32m--> 817\u001b[0;31m     \u001b[0;32mreturn\u001b[0m \u001b[0mprimitive\u001b[0m\u001b[0;34m.\u001b[0m\u001b[0mimpl\u001b[0m\u001b[0;34m(\u001b[0m\u001b[0;34m*\u001b[0m\u001b[0mtracers\u001b[0m\u001b[0;34m,\u001b[0m \u001b[0;34m**\u001b[0m\u001b[0mparams\u001b[0m\u001b[0;34m)\u001b[0m\u001b[0;34m\u001b[0m\u001b[0;34m\u001b[0m\u001b[0m\n\u001b[0m\u001b[1;32m    818\u001b[0m \u001b[0;34m\u001b[0m\u001b[0m\n\u001b[1;32m    819\u001b[0m   \u001b[0;32mdef\u001b[0m \u001b[0mprocess_call\u001b[0m\u001b[0;34m(\u001b[0m\u001b[0mself\u001b[0m\u001b[0;34m,\u001b[0m \u001b[0mprimitive\u001b[0m\u001b[0;34m,\u001b[0m \u001b[0mf\u001b[0m\u001b[0;34m,\u001b[0m \u001b[0mtracers\u001b[0m\u001b[0;34m,\u001b[0m \u001b[0mparams\u001b[0m\u001b[0;34m)\u001b[0m\u001b[0;34m:\u001b[0m\u001b[0;34m\u001b[0m\u001b[0;34m\u001b[0m\u001b[0m\n",
      "\u001b[0;32m~/opt/anaconda3/envs/MachineLearnGravPotential/lib/python3.8/site-packages/jax/_src/dispatch.py\u001b[0m in \u001b[0;36mapply_primitive\u001b[0;34m(prim, *args, **params)\u001b[0m\n\u001b[1;32m    115\u001b[0m \u001b[0;34m\u001b[0m\u001b[0m\n\u001b[1;32m    116\u001b[0m   \u001b[0;32mtry\u001b[0m\u001b[0;34m:\u001b[0m\u001b[0;34m\u001b[0m\u001b[0;34m\u001b[0m\u001b[0m\n\u001b[0;32m--> 117\u001b[0;31m     compiled_fun = xla_primitive_callable(prim, *unsafe_map(arg_spec, args),\n\u001b[0m\u001b[1;32m    118\u001b[0m                                           **params)\n\u001b[1;32m    119\u001b[0m   \u001b[0;32mexcept\u001b[0m \u001b[0mpxla\u001b[0m\u001b[0;34m.\u001b[0m\u001b[0mDeviceAssignmentMismatchError\u001b[0m \u001b[0;32mas\u001b[0m \u001b[0me\u001b[0m\u001b[0;34m:\u001b[0m\u001b[0;34m\u001b[0m\u001b[0;34m\u001b[0m\u001b[0m\n",
      "\u001b[0;32m~/opt/anaconda3/envs/MachineLearnGravPotential/lib/python3.8/site-packages/jax/_src/util.py\u001b[0m in \u001b[0;36mwrapper\u001b[0;34m(*args, **kwargs)\u001b[0m\n\u001b[1;32m    251\u001b[0m         \u001b[0;32mreturn\u001b[0m \u001b[0mf\u001b[0m\u001b[0;34m(\u001b[0m\u001b[0;34m*\u001b[0m\u001b[0margs\u001b[0m\u001b[0;34m,\u001b[0m \u001b[0;34m**\u001b[0m\u001b[0mkwargs\u001b[0m\u001b[0;34m)\u001b[0m\u001b[0;34m\u001b[0m\u001b[0;34m\u001b[0m\u001b[0m\n\u001b[1;32m    252\u001b[0m       \u001b[0;32melse\u001b[0m\u001b[0;34m:\u001b[0m\u001b[0;34m\u001b[0m\u001b[0;34m\u001b[0m\u001b[0m\n\u001b[0;32m--> 253\u001b[0;31m         \u001b[0;32mreturn\u001b[0m \u001b[0mcached\u001b[0m\u001b[0;34m(\u001b[0m\u001b[0mconfig\u001b[0m\u001b[0;34m.\u001b[0m\u001b[0m_trace_context\u001b[0m\u001b[0;34m(\u001b[0m\u001b[0;34m)\u001b[0m\u001b[0;34m,\u001b[0m \u001b[0;34m*\u001b[0m\u001b[0margs\u001b[0m\u001b[0;34m,\u001b[0m \u001b[0;34m**\u001b[0m\u001b[0mkwargs\u001b[0m\u001b[0;34m)\u001b[0m\u001b[0;34m\u001b[0m\u001b[0;34m\u001b[0m\u001b[0m\n\u001b[0m\u001b[1;32m    254\u001b[0m \u001b[0;34m\u001b[0m\u001b[0m\n\u001b[1;32m    255\u001b[0m     \u001b[0mwrapper\u001b[0m\u001b[0;34m.\u001b[0m\u001b[0mcache_clear\u001b[0m \u001b[0;34m=\u001b[0m \u001b[0mcached\u001b[0m\u001b[0;34m.\u001b[0m\u001b[0mcache_clear\u001b[0m\u001b[0;34m\u001b[0m\u001b[0;34m\u001b[0m\u001b[0m\n",
      "\u001b[0;32m~/opt/anaconda3/envs/MachineLearnGravPotential/lib/python3.8/site-packages/jax/_src/util.py\u001b[0m in \u001b[0;36mcached\u001b[0;34m(_, *args, **kwargs)\u001b[0m\n\u001b[1;32m    244\u001b[0m     \u001b[0;34m@\u001b[0m\u001b[0mfunctools\u001b[0m\u001b[0;34m.\u001b[0m\u001b[0mlru_cache\u001b[0m\u001b[0;34m(\u001b[0m\u001b[0mmax_size\u001b[0m\u001b[0;34m)\u001b[0m\u001b[0;34m\u001b[0m\u001b[0;34m\u001b[0m\u001b[0m\n\u001b[1;32m    245\u001b[0m     \u001b[0;32mdef\u001b[0m \u001b[0mcached\u001b[0m\u001b[0;34m(\u001b[0m\u001b[0m_\u001b[0m\u001b[0;34m,\u001b[0m \u001b[0;34m*\u001b[0m\u001b[0margs\u001b[0m\u001b[0;34m,\u001b[0m \u001b[0;34m**\u001b[0m\u001b[0mkwargs\u001b[0m\u001b[0;34m)\u001b[0m\u001b[0;34m:\u001b[0m\u001b[0;34m\u001b[0m\u001b[0;34m\u001b[0m\u001b[0m\n\u001b[0;32m--> 246\u001b[0;31m       \u001b[0;32mreturn\u001b[0m \u001b[0mf\u001b[0m\u001b[0;34m(\u001b[0m\u001b[0;34m*\u001b[0m\u001b[0margs\u001b[0m\u001b[0;34m,\u001b[0m \u001b[0;34m**\u001b[0m\u001b[0mkwargs\u001b[0m\u001b[0;34m)\u001b[0m\u001b[0;34m\u001b[0m\u001b[0;34m\u001b[0m\u001b[0m\n\u001b[0m\u001b[1;32m    247\u001b[0m \u001b[0;34m\u001b[0m\u001b[0m\n\u001b[1;32m    248\u001b[0m     \u001b[0;34m@\u001b[0m\u001b[0mfunctools\u001b[0m\u001b[0;34m.\u001b[0m\u001b[0mwraps\u001b[0m\u001b[0;34m(\u001b[0m\u001b[0mf\u001b[0m\u001b[0;34m)\u001b[0m\u001b[0;34m\u001b[0m\u001b[0;34m\u001b[0m\u001b[0m\n",
      "\u001b[0;32m~/opt/anaconda3/envs/MachineLearnGravPotential/lib/python3.8/site-packages/jax/_src/dispatch.py\u001b[0m in \u001b[0;36mxla_primitive_callable\u001b[0;34m(prim, *arg_specs, **params)\u001b[0m\n\u001b[1;32m    206\u001b[0m     \u001b[0;32melse\u001b[0m\u001b[0;34m:\u001b[0m\u001b[0;34m\u001b[0m\u001b[0;34m\u001b[0m\u001b[0m\n\u001b[1;32m    207\u001b[0m       \u001b[0;32mreturn\u001b[0m \u001b[0mout\u001b[0m\u001b[0;34m,\u001b[0m\u001b[0;34m\u001b[0m\u001b[0;34m\u001b[0m\u001b[0m\n\u001b[0;32m--> 208\u001b[0;31m   compiled = _xla_callable_uncached(lu.wrap_init(prim_fun), prim.name,\n\u001b[0m\u001b[1;32m    209\u001b[0m                                     donated_invars, False, *arg_specs)\n\u001b[1;32m    210\u001b[0m   \u001b[0;32mif\u001b[0m \u001b[0;32mnot\u001b[0m \u001b[0mprim\u001b[0m\u001b[0;34m.\u001b[0m\u001b[0mmultiple_results\u001b[0m\u001b[0;34m:\u001b[0m\u001b[0;34m\u001b[0m\u001b[0;34m\u001b[0m\u001b[0m\n",
      "\u001b[0;32m~/opt/anaconda3/envs/MachineLearnGravPotential/lib/python3.8/site-packages/jax/_src/dispatch.py\u001b[0m in \u001b[0;36m_xla_callable_uncached\u001b[0;34m(fun, name, donated_invars, keep_unused, *arg_specs)\u001b[0m\n\u001b[1;32m    252\u001b[0m                                  *arg_specs, lowering_platform=None)\n\u001b[1;32m    253\u001b[0m   \u001b[0mallow_prop\u001b[0m \u001b[0;34m=\u001b[0m \u001b[0;34m[\u001b[0m\u001b[0;32mTrue\u001b[0m\u001b[0;34m]\u001b[0m \u001b[0;34m*\u001b[0m \u001b[0mlen\u001b[0m\u001b[0;34m(\u001b[0m\u001b[0mcomputation\u001b[0m\u001b[0;34m.\u001b[0m\u001b[0mcompile_args\u001b[0m\u001b[0;34m[\u001b[0m\u001b[0;34m'global_out_avals'\u001b[0m\u001b[0;34m]\u001b[0m\u001b[0;34m)\u001b[0m\u001b[0;34m\u001b[0m\u001b[0;34m\u001b[0m\u001b[0m\n\u001b[0;32m--> 254\u001b[0;31m   \u001b[0;32mreturn\u001b[0m \u001b[0mcomputation\u001b[0m\u001b[0;34m.\u001b[0m\u001b[0mcompile\u001b[0m\u001b[0;34m(\u001b[0m\u001b[0m_allow_propagation_to_outputs\u001b[0m\u001b[0;34m=\u001b[0m\u001b[0mallow_prop\u001b[0m\u001b[0;34m)\u001b[0m\u001b[0;34m.\u001b[0m\u001b[0munsafe_call\u001b[0m\u001b[0;34m\u001b[0m\u001b[0;34m\u001b[0m\u001b[0m\n\u001b[0m\u001b[1;32m    255\u001b[0m \u001b[0;34m\u001b[0m\u001b[0m\n\u001b[1;32m    256\u001b[0m \u001b[0;34m\u001b[0m\u001b[0m\n",
      "\u001b[0;32m~/opt/anaconda3/envs/MachineLearnGravPotential/lib/python3.8/site-packages/jax/_src/interpreters/pxla.py\u001b[0m in \u001b[0;36mcompile\u001b[0;34m(self, _allow_propagation_to_outputs, _allow_compile_replicated)\u001b[0m\n\u001b[1;32m   2814\u001b[0m             **self.compile_args)\n\u001b[1;32m   2815\u001b[0m       \u001b[0;32melse\u001b[0m\u001b[0;34m:\u001b[0m\u001b[0;34m\u001b[0m\u001b[0;34m\u001b[0m\u001b[0m\n\u001b[0;32m-> 2816\u001b[0;31m         self._executable = UnloadedMeshExecutable.from_hlo(\n\u001b[0m\u001b[1;32m   2817\u001b[0m             \u001b[0mself\u001b[0m\u001b[0;34m.\u001b[0m\u001b[0m_name\u001b[0m\u001b[0;34m,\u001b[0m\u001b[0;34m\u001b[0m\u001b[0;34m\u001b[0m\u001b[0m\n\u001b[1;32m   2818\u001b[0m             \u001b[0mself\u001b[0m\u001b[0;34m.\u001b[0m\u001b[0m_hlo\u001b[0m\u001b[0;34m,\u001b[0m\u001b[0;34m\u001b[0m\u001b[0;34m\u001b[0m\u001b[0m\n",
      "\u001b[0;32m~/opt/anaconda3/envs/MachineLearnGravPotential/lib/python3.8/site-packages/jax/_src/interpreters/pxla.py\u001b[0m in \u001b[0;36mfrom_hlo\u001b[0;34m(name, computation, mesh, global_in_avals, global_out_avals, in_shardings, out_shardings, spmd_lowering, tuple_args, auto_spmd_lowering, _allow_propagation_to_outputs, _allow_compile_replicated, unordered_effects, ordered_effects, host_callbacks, keepalive, kept_var_idx, backend, device_assignment, committed, pmap_nreps)\u001b[0m\n\u001b[1;32m   3026\u001b[0m                                      \u001b[0;34m\"in {elapsed_time} sec\"\u001b[0m\u001b[0;34m,\u001b[0m\u001b[0;34m\u001b[0m\u001b[0;34m\u001b[0m\u001b[0m\n\u001b[1;32m   3027\u001b[0m                                      event=dispatch.BACKEND_COMPILE_EVENT):\n\u001b[0;32m-> 3028\u001b[0;31m         xla_executable = dispatch.compile_or_get_cached(\n\u001b[0m\u001b[1;32m   3029\u001b[0m             backend, computation, compile_options, host_callbacks)\n\u001b[1;32m   3030\u001b[0m \u001b[0;34m\u001b[0m\u001b[0m\n",
      "\u001b[0;32m~/opt/anaconda3/envs/MachineLearnGravPotential/lib/python3.8/site-packages/jax/_src/dispatch.py\u001b[0m in \u001b[0;36mcompile_or_get_cached\u001b[0;34m(backend, computation, compile_options, host_callbacks)\u001b[0m\n\u001b[1;32m    524\u001b[0m       \u001b[0;32mreturn\u001b[0m \u001b[0mcompiled\u001b[0m\u001b[0;34m\u001b[0m\u001b[0;34m\u001b[0m\u001b[0m\n\u001b[1;32m    525\u001b[0m \u001b[0;34m\u001b[0m\u001b[0m\n\u001b[0;32m--> 526\u001b[0;31m   return backend_compile(backend, serialized_computation, compile_options,\n\u001b[0m\u001b[1;32m    527\u001b[0m                          host_callbacks)\n\u001b[1;32m    528\u001b[0m \u001b[0;34m\u001b[0m\u001b[0m\n",
      "\u001b[0;32m~/opt/anaconda3/envs/MachineLearnGravPotential/lib/python3.8/site-packages/jax/_src/profiler.py\u001b[0m in \u001b[0;36mwrapper\u001b[0;34m(*args, **kwargs)\u001b[0m\n\u001b[1;32m    312\u001b[0m   \u001b[0;32mdef\u001b[0m \u001b[0mwrapper\u001b[0m\u001b[0;34m(\u001b[0m\u001b[0;34m*\u001b[0m\u001b[0margs\u001b[0m\u001b[0;34m,\u001b[0m \u001b[0;34m**\u001b[0m\u001b[0mkwargs\u001b[0m\u001b[0;34m)\u001b[0m\u001b[0;34m:\u001b[0m\u001b[0;34m\u001b[0m\u001b[0;34m\u001b[0m\u001b[0m\n\u001b[1;32m    313\u001b[0m     \u001b[0;32mwith\u001b[0m \u001b[0mTraceAnnotation\u001b[0m\u001b[0;34m(\u001b[0m\u001b[0mname\u001b[0m\u001b[0;34m,\u001b[0m \u001b[0;34m**\u001b[0m\u001b[0mdecorator_kwargs\u001b[0m\u001b[0;34m)\u001b[0m\u001b[0;34m:\u001b[0m\u001b[0;34m\u001b[0m\u001b[0;34m\u001b[0m\u001b[0m\n\u001b[0;32m--> 314\u001b[0;31m       \u001b[0;32mreturn\u001b[0m \u001b[0mfunc\u001b[0m\u001b[0;34m(\u001b[0m\u001b[0;34m*\u001b[0m\u001b[0margs\u001b[0m\u001b[0;34m,\u001b[0m \u001b[0;34m**\u001b[0m\u001b[0mkwargs\u001b[0m\u001b[0;34m)\u001b[0m\u001b[0;34m\u001b[0m\u001b[0;34m\u001b[0m\u001b[0m\n\u001b[0m\u001b[1;32m    315\u001b[0m     \u001b[0;32mreturn\u001b[0m \u001b[0mwrapper\u001b[0m\u001b[0;34m\u001b[0m\u001b[0;34m\u001b[0m\u001b[0m\n\u001b[1;32m    316\u001b[0m   \u001b[0;32mreturn\u001b[0m \u001b[0mwrapper\u001b[0m\u001b[0;34m\u001b[0m\u001b[0;34m\u001b[0m\u001b[0m\n",
      "\u001b[0;32m~/opt/anaconda3/envs/MachineLearnGravPotential/lib/python3.8/site-packages/jax/_src/dispatch.py\u001b[0m in \u001b[0;36mbackend_compile\u001b[0;34m(backend, built_c, options, host_callbacks)\u001b[0m\n\u001b[1;32m    469\u001b[0m   \u001b[0;31m# TODO(sharadmv): remove this fallback when all backends allow `compile`\u001b[0m\u001b[0;34m\u001b[0m\u001b[0;34m\u001b[0m\u001b[0;34m\u001b[0m\u001b[0m\n\u001b[1;32m    470\u001b[0m   \u001b[0;31m# to take in `host_callbacks`\u001b[0m\u001b[0;34m\u001b[0m\u001b[0;34m\u001b[0m\u001b[0;34m\u001b[0m\u001b[0m\n\u001b[0;32m--> 471\u001b[0;31m   \u001b[0;32mreturn\u001b[0m \u001b[0mbackend\u001b[0m\u001b[0;34m.\u001b[0m\u001b[0mcompile\u001b[0m\u001b[0;34m(\u001b[0m\u001b[0mbuilt_c\u001b[0m\u001b[0;34m,\u001b[0m \u001b[0mcompile_options\u001b[0m\u001b[0;34m=\u001b[0m\u001b[0moptions\u001b[0m\u001b[0;34m)\u001b[0m\u001b[0;34m\u001b[0m\u001b[0;34m\u001b[0m\u001b[0m\n\u001b[0m\u001b[1;32m    472\u001b[0m \u001b[0;34m\u001b[0m\u001b[0m\n\u001b[1;32m    473\u001b[0m \u001b[0m_ir_dump_counter\u001b[0m \u001b[0;34m=\u001b[0m \u001b[0mitertools\u001b[0m\u001b[0;34m.\u001b[0m\u001b[0mcount\u001b[0m\u001b[0;34m(\u001b[0m\u001b[0;34m)\u001b[0m\u001b[0;34m\u001b[0m\u001b[0;34m\u001b[0m\u001b[0m\n",
      "\u001b[0;31mKeyboardInterrupt\u001b[0m: "
     ]
    }
   ],
   "source": [
    "def get_stripping_time_arr(ts):\n",
    "    t_release_arr = [ts[i:] for i in range(len(ts))]\n",
    "    return t_release_arr\n",
    "\n",
    "# Example usage:\n",
    "#ts = jnp.array([1, 2, 3, 4, 5])\n",
    "result = get_stripping_time_arr(ts)\n",
    "print(result)"
   ]
  },
  {
   "cell_type": "code",
   "execution_count": 319,
   "id": "94c3c17b-1eca-4441-a5a9-c2f247f09a9a",
   "metadata": {},
   "outputs": [
    {
     "data": {
      "text/plain": [
       "Array([2, 3, 4, 5], dtype=int64)"
      ]
     },
     "execution_count": 319,
     "metadata": {},
     "output_type": "execute_result"
    }
   ],
   "source": [
    "jax.lax.slice(tt,(1,),(len(tt),))"
   ]
  },
  {
   "cell_type": "code",
   "execution_count": 312,
   "id": "d056dfcc-6321-4f84-b8ef-7b3e6d8561de",
   "metadata": {},
   "outputs": [
    {
     "ename": "TypeError",
     "evalue": "iteration over a 0-d array",
     "output_type": "error",
     "traceback": [
      "\u001b[0;31m---------------------------------------------------------------------------\u001b[0m",
      "\u001b[0;31mTypeError\u001b[0m                                 Traceback (most recent call last)",
      "\u001b[0;32m/var/folders/rq/9c89gb15479bjnxrpnmdf_p40000gn/T/ipykernel_21408/1263285150.py\u001b[0m in \u001b[0;36m<module>\u001b[0;34m\u001b[0m\n\u001b[1;32m     15\u001b[0m \u001b[0;31m# Example usage:\u001b[0m\u001b[0;34m\u001b[0m\u001b[0;34m\u001b[0m\u001b[0;34m\u001b[0m\u001b[0m\n\u001b[1;32m     16\u001b[0m \u001b[0mtt\u001b[0m \u001b[0;34m=\u001b[0m \u001b[0mjnp\u001b[0m\u001b[0;34m.\u001b[0m\u001b[0marray\u001b[0m\u001b[0;34m(\u001b[0m\u001b[0;34m[\u001b[0m\u001b[0;36m1\u001b[0m\u001b[0;34m,\u001b[0m \u001b[0;36m2\u001b[0m\u001b[0;34m,\u001b[0m \u001b[0;36m3\u001b[0m\u001b[0;34m,\u001b[0m \u001b[0;36m4\u001b[0m\u001b[0;34m,\u001b[0m \u001b[0;36m5\u001b[0m\u001b[0;34m]\u001b[0m\u001b[0;34m)\u001b[0m\u001b[0;34m\u001b[0m\u001b[0;34m\u001b[0m\u001b[0m\n\u001b[0;32m---> 17\u001b[0;31m \u001b[0mresult\u001b[0m \u001b[0;34m=\u001b[0m \u001b[0mget_stripping_time_arr\u001b[0m\u001b[0;34m(\u001b[0m\u001b[0mtt\u001b[0m\u001b[0;34m)\u001b[0m\u001b[0;34m\u001b[0m\u001b[0;34m\u001b[0m\u001b[0m\n\u001b[0m\u001b[1;32m     18\u001b[0m \u001b[0mprint\u001b[0m\u001b[0;34m(\u001b[0m\u001b[0mresult\u001b[0m\u001b[0;34m)\u001b[0m\u001b[0;34m\u001b[0m\u001b[0;34m\u001b[0m\u001b[0m\n",
      "\u001b[0;32m/var/folders/rq/9c89gb15479bjnxrpnmdf_p40000gn/T/ipykernel_21408/1263285150.py\u001b[0m in \u001b[0;36mget_stripping_time_arr\u001b[0;34m(ts)\u001b[0m\n\u001b[1;32m     10\u001b[0m \u001b[0;34m\u001b[0m\u001b[0m\n\u001b[1;32m     11\u001b[0m     \u001b[0;31m# Use vmap to apply the slicing function to each row\u001b[0m\u001b[0;34m\u001b[0m\u001b[0;34m\u001b[0m\u001b[0;34m\u001b[0m\u001b[0m\n\u001b[0;32m---> 12\u001b[0;31m     \u001b[0mt_release_arr\u001b[0m \u001b[0;34m=\u001b[0m \u001b[0mvmap\u001b[0m\u001b[0;34m(\u001b[0m\u001b[0mslice_row\u001b[0m\u001b[0;34m)\u001b[0m\u001b[0;34m(\u001b[0m\u001b[0mjnp\u001b[0m\u001b[0;34m.\u001b[0m\u001b[0marange\u001b[0m\u001b[0;34m(\u001b[0m\u001b[0mlen\u001b[0m\u001b[0;34m(\u001b[0m\u001b[0mts\u001b[0m\u001b[0;34m)\u001b[0m\u001b[0;34m)\u001b[0m\u001b[0;34m,\u001b[0m \u001b[0mbatched_ts\u001b[0m\u001b[0;34m)\u001b[0m\u001b[0;34m\u001b[0m\u001b[0;34m\u001b[0m\u001b[0m\n\u001b[0m\u001b[1;32m     13\u001b[0m \u001b[0;34m\u001b[0m\u001b[0m\n\u001b[1;32m     14\u001b[0m     \u001b[0;32mreturn\u001b[0m \u001b[0mt_release_arr\u001b[0m\u001b[0;34m\u001b[0m\u001b[0;34m\u001b[0m\u001b[0m\n",
      "    \u001b[0;31m[... skipping hidden 3 frame]\u001b[0m\n",
      "\u001b[0;32m/var/folders/rq/9c89gb15479bjnxrpnmdf_p40000gn/T/ipykernel_21408/1263285150.py\u001b[0m in \u001b[0;36mslice_row\u001b[0;34m(i, arr)\u001b[0m\n\u001b[1;32m      7\u001b[0m     \u001b[0;31m# Create a function to slice each row\u001b[0m\u001b[0;34m\u001b[0m\u001b[0;34m\u001b[0m\u001b[0;34m\u001b[0m\u001b[0m\n\u001b[1;32m      8\u001b[0m     \u001b[0;32mdef\u001b[0m \u001b[0mslice_row\u001b[0m\u001b[0;34m(\u001b[0m\u001b[0mi\u001b[0m\u001b[0;34m,\u001b[0m \u001b[0marr\u001b[0m\u001b[0;34m)\u001b[0m\u001b[0;34m:\u001b[0m\u001b[0;34m\u001b[0m\u001b[0;34m\u001b[0m\u001b[0m\n\u001b[0;32m----> 9\u001b[0;31m         \u001b[0;32mreturn\u001b[0m \u001b[0mjax\u001b[0m\u001b[0;34m.\u001b[0m\u001b[0mlax\u001b[0m\u001b[0;34m.\u001b[0m\u001b[0mslice\u001b[0m\u001b[0;34m(\u001b[0m\u001b[0marr\u001b[0m\u001b[0;34m,\u001b[0m\u001b[0mi\u001b[0m\u001b[0;34m,\u001b[0m\u001b[0;34m-\u001b[0m\u001b[0;36m1\u001b[0m\u001b[0;34m)\u001b[0m\u001b[0;34m\u001b[0m\u001b[0;34m\u001b[0m\u001b[0m\n\u001b[0m\u001b[1;32m     10\u001b[0m \u001b[0;34m\u001b[0m\u001b[0m\n\u001b[1;32m     11\u001b[0m     \u001b[0;31m# Use vmap to apply the slicing function to each row\u001b[0m\u001b[0;34m\u001b[0m\u001b[0;34m\u001b[0m\u001b[0;34m\u001b[0m\u001b[0m\n",
      "    \u001b[0;31m[... skipping hidden 2 frame]\u001b[0m\n",
      "\u001b[0;32m~/opt/anaconda3/envs/MachineLearnGravPotential/lib/python3.8/site-packages/jax/_src/lax/lax.py\u001b[0m in \u001b[0;36m_iter\u001b[0;34m(tracer)\u001b[0m\n\u001b[1;32m   1457\u001b[0m \u001b[0;32mdef\u001b[0m \u001b[0m_iter\u001b[0m\u001b[0;34m(\u001b[0m\u001b[0mtracer\u001b[0m\u001b[0;34m)\u001b[0m\u001b[0;34m:\u001b[0m\u001b[0;34m\u001b[0m\u001b[0;34m\u001b[0m\u001b[0m\n\u001b[1;32m   1458\u001b[0m   \u001b[0;32mif\u001b[0m \u001b[0mtracer\u001b[0m\u001b[0;34m.\u001b[0m\u001b[0mndim\u001b[0m \u001b[0;34m==\u001b[0m \u001b[0;36m0\u001b[0m\u001b[0;34m:\u001b[0m\u001b[0;34m\u001b[0m\u001b[0;34m\u001b[0m\u001b[0m\n\u001b[0;32m-> 1459\u001b[0;31m     \u001b[0;32mraise\u001b[0m \u001b[0mTypeError\u001b[0m\u001b[0;34m(\u001b[0m\u001b[0;34m\"iteration over a 0-d array\"\u001b[0m\u001b[0;34m)\u001b[0m  \u001b[0;31m# same as numpy error\u001b[0m\u001b[0;34m\u001b[0m\u001b[0;34m\u001b[0m\u001b[0m\n\u001b[0m\u001b[1;32m   1460\u001b[0m   \u001b[0;32melse\u001b[0m\u001b[0;34m:\u001b[0m\u001b[0;34m\u001b[0m\u001b[0;34m\u001b[0m\u001b[0m\n\u001b[1;32m   1461\u001b[0m     \u001b[0mn\u001b[0m \u001b[0;34m=\u001b[0m \u001b[0mint\u001b[0m\u001b[0;34m(\u001b[0m\u001b[0mtracer\u001b[0m\u001b[0;34m.\u001b[0m\u001b[0mshape\u001b[0m\u001b[0;34m[\u001b[0m\u001b[0;36m0\u001b[0m\u001b[0;34m]\u001b[0m\u001b[0;34m)\u001b[0m\u001b[0;34m\u001b[0m\u001b[0;34m\u001b[0m\u001b[0m\n",
      "\u001b[0;31mTypeError\u001b[0m: iteration over a 0-d array"
     ]
    }
   ],
   "source": [
    "from jax import vmap\n",
    "\n",
    "def get_stripping_time_arr(ts):\n",
    "    # Create a batched version of ts\n",
    "    batched_ts = jnp.stack([ts] * len(ts))\n",
    "    \n",
    "    # Create a function to slice each row\n",
    "    def slice_row(i, arr):\n",
    "        return jax.lax.slice(arr,i,-1)\n",
    "\n",
    "    # Use vmap to apply the slicing function to each row\n",
    "    t_release_arr = vmap(slice_row)(jnp.arange(len(ts)), batched_ts)\n",
    "    \n",
    "    return t_release_arr\n",
    "# Example usage:\n",
    "tt = jnp.array([1, 2, 3, 4, 5])\n",
    "result = get_stripping_time_arr(tt)\n",
    "print(result)"
   ]
  },
  {
   "cell_type": "code",
   "execution_count": 376,
   "id": "cfb93bbb-5716-48f3-8015-e4558841b5b7",
   "metadata": {},
   "outputs": [],
   "source": [
    "lead_arm, trail_arm = pot.gen_stream(ts, w0, Msat, pos_disp, vel_disp)"
   ]
  },
  {
   "cell_type": "code",
   "execution_count": null,
   "id": "12cfd522-44f0-4615-ae5a-7e1014abcaf9",
   "metadata": {},
   "outputs": [],
   "source": [
    "plt.scatter(lead_arm[:,-1,0],lead_arm[:,-1,1],s=0.5,rasterized=True)"
   ]
  },
  {
   "cell_type": "code",
   "execution_count": 404,
   "id": "4a3d40bb-5b76-49b2-81fb-35cf387792a6",
   "metadata": {},
   "outputs": [
    {
     "data": {
      "text/latex": [
       "$0.020454243 \\; \\mathrm{\\frac{kpc}{Myr}}$"
      ],
      "text/plain": [
       "<Quantity 0.02045424 kpc / Myr>"
      ]
     },
     "execution_count": 404,
     "metadata": {},
     "output_type": "execute_result"
    }
   ],
   "source": [
    "(50*u.km/u.s).to(u.kpc/u.Myr).value"
   ]
  },
  {
   "cell_type": "code",
   "execution_count": 405,
   "id": "d15ca259-fd43-42fc-9fac-e66b69658915",
   "metadata": {},
   "outputs": [],
   "source": [
    "lead_arm, trail_arm = pot.gen_stream_final(ts, w0, Msat, pos_disp, (50*u.km/u.s).to(u.kpc/u.Myr).value)"
   ]
  },
  {
   "cell_type": "code",
   "execution_count": 406,
   "id": "b3ed7351-88a1-4317-baca-10ed57d6c0ae",
   "metadata": {},
   "outputs": [
    {
     "data": {
      "text/plain": [
       "<matplotlib.collections.PathCollection at 0x7fa8ef2874f0>"
      ]
     },
     "execution_count": 406,
     "metadata": {},
     "output_type": "execute_result"
    },
    {
     "data": {
      "image/png": "[encoded data removed]",
      "text/plain": [
       "<Figure size 252x189 with 1 Axes>"
      ]
     },
     "metadata": {
      "needs_background": "light"
     },
     "output_type": "display_data"
    }
   ],
   "source": [
    "plt.scatter(lead_arm[:,0],lead_arm[:,1],s=0.5,rasterized=True)"
   ]
  },
  {
   "cell_type": "code",
   "execution_count": 378,
   "id": "ec0a9dcf-2da0-459f-988d-d3fe404cde57",
   "metadata": {},
   "outputs": [
    {
     "data": {
      "text/plain": [
       "<matplotlib.collections.PathCollection at 0x7fa8e95bf4c0>"
      ]
     },
     "execution_count": 378,
     "metadata": {},
     "output_type": "execute_result"
    },
    {
     "data": {
      "image/png": "[encoded data removed]",
      "text/plain": [
       "<Figure size 252x189 with 1 Axes>"
      ]
     },
     "metadata": {
      "needs_background": "light"
     },
     "output_type": "display_data"
    }
   ],
   "source": [
    "plt.scatter(lead_arm[:,-1,0],lead_arm[:,-1,1],s=0.5,rasterized=True)"
   ]
  },
  {
   "cell_type": "code",
   "execution_count": 198,
   "id": "322419da-c292-42d5-b79d-67eb5f16e71b",
   "metadata": {},
   "outputs": [
    {
     "name": "stdout",
     "output_type": "stream",
     "text": [
      "15\n",
      "[ 1  3  6 10 15]\n"
     ]
    }
   ],
   "source": [
    "# Define a step function that adds an input to the carry state\n",
    "def step(carry, x):\n",
    "    return carry + x, carry + x\n",
    "\n",
    "# Sequence of input values\n",
    "inputs = jnp.array([1, 2, 3, 4, 5])\n",
    "\n",
    "# Initial carry state\n",
    "init_carry = jnp.array(0)\n",
    "\n",
    "# Use jax.lax.scan to iterate over the inputs\n",
    "final_carry, results = jax.lax.scan(step, init_carry, inputs)\n",
    "\n",
    "print(final_carry)  # Output: 15 (sum of all input values)\n",
    "print(results)      # Output: [1, 3, 6, 10, 15] (cumulative sums)"
   ]
  },
  {
   "cell_type": "code",
   "execution_count": null,
   "id": "560e8dc1-b95e-4487-9729-2e4b075feb0f",
   "metadata": {},
   "outputs": [],
   "source": []
  },
  {
   "cell_type": "code",
   "execution_count": 115,
   "id": "5c1f226a-8f37-45f4-863b-b084cdcb0aec",
   "metadata": {},
   "outputs": [
    {
     "data": {
      "text/plain": [
       "Array([ 0.23298915, -1.04627168,  1.35807149], dtype=float64)"
      ]
     },
     "execution_count": 115,
     "metadata": {},
     "output_type": "execute_result"
    }
   ],
   "source": [
    "key = jax.random.PRNGKey(30302)\n",
    "jax.random.normal(key,shape=(3,))"
   ]
  },
  {
   "cell_type": "code",
   "execution_count": 172,
   "id": "d6656cfa-bcf4-4538-a491-505795114d4e",
   "metadata": {},
   "outputs": [
    {
     "data": {
      "text/plain": [
       "(Array([24.72606542,  9.89042617,  9.89042617], dtype=float64),\n",
       " Array([25.27393458, 10.10957383, 10.10957383], dtype=float64))"
      ]
     },
     "execution_count": 172,
     "metadata": {},
     "output_type": "execute_result"
    }
   ],
   "source": [
    "params = {'m': 1e10, 'a': 10.}\n",
    "pot = Hernquist(m=params['m'], a=params['a'],units=usys,)  \n",
    "\n",
    "x = jnp.array([25,10,10.])\n",
    "v = jnp.array([.1,.05,.04])\n",
    "Msat = 1.0e4\n",
    "pos_disp = .01\n",
    "vel_disp = .005\n",
    "#pot.tidalr_mw(x,v,Msat)\n",
    "pot.lagrange_pts(x, v, Msat,)\n",
    "#pot.tidalr_mw(x,v,Msat)\n",
    "#pot.d2phidr2_mw(x)\n",
    "#pot.omega(x, v)\n",
    "#pot.omega(x, v) ** 2 - pot.d2phidr2_mw(x)"
   ]
  },
  {
   "cell_type": "code",
   "execution_count": 165,
   "id": "5d6dd512-ebd7-4d65-8a02-d8746dff8fc1",
   "metadata": {},
   "outputs": [
    {
     "data": {
      "text/plain": [
       "Array(nan, dtype=float64)"
      ]
     },
     "execution_count": 165,
     "metadata": {},
     "output_type": "execute_result"
    }
   ],
   "source": [
    "(pot._G * Msat / (pot.omega(x, v) ** 2 - pot.d2phidr2_mw(x))) ** (1.0 / 3.0)"
   ]
  },
  {
   "cell_type": "code",
   "execution_count": 167,
   "id": "d23be7dc-b15a-4ee6-8a50-832849250008",
   "metadata": {},
   "outputs": [
    {
     "data": {
      "text/plain": [
       "Array(-0.03117464, dtype=float64)"
      ]
     },
     "execution_count": 167,
     "metadata": {},
     "output_type": "execute_result"
    }
   ],
   "source": [
    "pot._G * Msat / (pot.omega(x, v) ** 2 - pot.d2phidr2_mw(x))"
   ]
  },
  {
   "cell_type": "code",
   "execution_count": 168,
   "id": "9271c65f-d971-4380-9c50-a3e48f443c9e",
   "metadata": {},
   "outputs": [
    {
     "data": {
      "text/plain": [
       "(0.6299605249474367+1.0911236359717214j)"
      ]
     },
     "execution_count": 168,
     "metadata": {},
     "output_type": "execute_result"
    }
   ],
   "source": [
    "(-2)**(1/3)"
   ]
  },
  {
   "cell_type": "code",
   "execution_count": 60,
   "id": "a358f1da-0083-4bcd-ab17-b18684bd39c7",
   "metadata": {},
   "outputs": [],
   "source": [
    "a_arr = jnp.linspace(10,11,30)\n",
    "w0 = jnp.array([25., 0., 0, 0.01, .104, -0.004])\n",
    "dt = 0.1\n",
    "t0 = 0.\n",
    "n_steps = 30_000\n",
    "Delta_a = jnp.diff(a_arr)[0]\n",
    "predicted_wf = jnp.zeros((len(a_arr),6))\n",
    "true_wf = jnp.zeros((len(a_arr)-1,6))\n",
    "for i in range(len(a_arr)):\n",
    "    params = {'m': 5e11, 'a': a_arr[i]}\n",
    "    result_ws, param_gradients = compute_orbit_and_gradients(params,w0,dt,n_steps,usys)\n",
    "    pred = result_ws[-1] + param_gradients['a']*Delta_a \n",
    "    predicted_wf = predicted_wf.at[i,:].set( pred )\n",
    "    if i > 0:\n",
    "        true_wf = true_wf.at[i-1,:].set(result_ws[-1])\n",
    "    \n",
    "    \n",
    "\n",
    "    \n",
    "\n",
    "    \n",
    "    "
   ]
  },
  {
   "cell_type": "code",
   "execution_count": 61,
   "id": "527867ec-3518-47ca-bd86-e724ff732ba3",
   "metadata": {},
   "outputs": [
    {
     "data": {
      "image/png": "[encoded data removed]",
      "text/plain": [
       "<Figure size 792x504 with 7 Axes>"
      ]
     },
     "metadata": {
      "needs_background": "light"
     },
     "output_type": "display_data"
    }
   ],
   "source": [
    "fig, ax = plt.subplots(2,3)\n",
    "ax_flat = ax.flatten()\n",
    "fig.set_size_inches(11,7)\n",
    "for dim in range(6):\n",
    "    xx = np.linspace(true_wf[:,dim].min(),true_wf[:,dim].max(),50)\n",
    "    ax_flat[dim].plot(xx,xx,color='k',ls='--',zorder=0)\n",
    "\n",
    "    ax_flat[dim].scatter(true_wf[:,dim], predicted_wf[:-1,dim],c=a_arr[1:],s=20,cmap=cmr.guppy)\n",
    "    ax_flat[dim].set_aspect('equal')\n",
    "fig.subplots_adjust(hspace=0.1,wspace=.35)\n",
    "ax_flat[0].set_xlabel(r'True $x$ [kpc]',fontsize=15)\n",
    "ax_flat[0].set_ylabel(r'Predicted $x$',fontsize=15)\n",
    "\n",
    "ax_flat[1].set_xlabel(r'True $y$ [kpc]',fontsize=15)\n",
    "ax_flat[1].set_ylabel(r'Predicted $y$',fontsize=15)\n",
    "\n",
    "ax_flat[2].set_xlabel(r'True $z$ [kpc]',fontsize=15)\n",
    "ax_flat[2].set_ylabel(r'Predicted $z$',fontsize=15)\n",
    "\n",
    "ax_flat[3].set_xlabel(r'True $v_x$ [kpc/Myr]',fontsize=15)\n",
    "ax_flat[3].set_ylabel(r'Predicted $v_x$',fontsize=15)\n",
    "\n",
    "ax_flat[4].set_xlabel(r'True $v_y$ [kpc/Myr]',fontsize=15)\n",
    "ax_flat[4].set_ylabel(r'Predicted $v_y$',fontsize=15)\n",
    "\n",
    "ax_flat[5].set_xlabel(r'True $v_z$ [kpc/Myr]',fontsize=15)\n",
    "ax_flat[5].set_ylabel(r'Predicted $v_z$',fontsize=15)\n",
    "\n",
    "# Add a colorbar on the right of the subplots\n",
    "cax = fig.add_axes([0.91, 0.14, 0.02, 0.73])  # Adjust the position and size of the colorbar\n",
    "cbar = plt.colorbar(ax_flat[dim].scatter(true_wf[:,dim], predicted_wf[:-1,dim],c=a_arr[1:],s=20,cmap=cmr.guppy), cax=cax, orientation='vertical')\n",
    "cbar.set_label('$\\Phi$ Scale Radius [kpc]',fontsize=20)  # Set the label for the colorbar\n",
    "##plt.savefig('TaylorExpansion_PotentialFinalSnap.pdf',bbox_inches='tight')\n",
    "\n"
   ]
  },
  {
   "cell_type": "code",
   "execution_count": 42,
   "id": "a0034bd4-1132-4f61-b79e-21958cd81027",
   "metadata": {},
   "outputs": [],
   "source": [
    "w0 = jnp.array([20, 0, 0, -.01, .104, -.03])\n",
    "t0 = 0\n",
    "dt = 0.1\n",
    "n_steps = 20000\n",
    "ts = np.arange(t0, t0 + dt * n_steps + dt/10., dt)\n",
    "params = {'m': 5e11, 'a': 10.}\n",
    "pot = Hernquist(m=params['m'], a=params['a'],units=usys,)\n",
    "\n",
    "    \n",
    "\n",
    "pos_disp = 0.01 #kpc   \n",
    "vel_dis = (20*u.km/u.s).to(u.kpc/u.Myr).value\n",
    "    \n",
    "\n",
    "key = random.PRNGKey(0)  # Initialize a random key\n",
    "num_orbits = 5000\n",
    "ndim = 3\n",
    "\n",
    "pos_samps = np.random.normal(loc=0,scale=pos_disp,size=(num_orbits,3))\n",
    "vel_samps = np.random.normal(loc=0,scale=vel_dis,size=(num_orbits,3))\n",
    "\n",
    "\n",
    "pos0 = pos_samps + w0[:3]\n",
    "vel0 = vel_samps + w0[3:]\n",
    "w0 = jnp.hstack([pos0,vel0])\n",
    "\n",
    "orbs = []\n",
    "final_snap = jnp.zeros((num_orbits,6))\n",
    "for i in range(len(w0)):\n",
    "    wcurr = w0[i]\n",
    "    ws_jax = leapfrog_run(wcurr, ts, pot.gradient)\n",
    "    orbs.append(ws_jax)\n",
    "    \n",
    "    final_snap = final_snap.at[i].set(ws_jax[-1,:])\n",
    "    \n",
    "    \n"
   ]
  },
  {
   "cell_type": "code",
   "execution_count": 43,
   "id": "fff9873f-7408-464a-be32-3da8d8b8541b",
   "metadata": {},
   "outputs": [
    {
     "data": {
      "text/plain": [
       "<matplotlib.collections.PathCollection at 0x7fb2096bd8e0>"
      ]
     },
     "execution_count": 43,
     "metadata": {},
     "output_type": "execute_result"
    },
    {
     "data": {
      "image/png": "[encoded data removed]",
      "text/plain": [
       "<Figure size 252x189 with 1 Axes>"
      ]
     },
     "metadata": {
      "needs_background": "light"
     },
     "output_type": "display_data"
    }
   ],
   "source": [
    "plt.scatter(final_snap[:,0],final_snap[:,1],rasterized=True,s=0.5)"
   ]
  },
  {
   "cell_type": "code",
   "execution_count": 51,
   "id": "d77abde0-50ce-4f6b-8b93-8a5f988bd431",
   "metadata": {},
   "outputs": [],
   "source": [
    "gala_pot = gp.HernquistPotential(m=params['m'],c=params['a'],units=usys)\n",
    "H = gp.Hamiltonian(gala_pot)\n",
    "w_test = gd.PhaseSpacePosition(pos=w0[0][:3]*u.kpc,vel=w0[0][3:]*u.kpc/u.Myr)\n",
    "orb_gala = H.integrate_orbit(w_test,dt=dt*u.Myr,n_steps=20000)"
   ]
  },
  {
   "cell_type": "code",
   "execution_count": 56,
   "id": "1cff0a97-f1c2-4fd2-b0d0-0fcefb3de8a0",
   "metadata": {},
   "outputs": [
    {
     "data": {
      "text/plain": [
       "[<matplotlib.lines.Line2D at 0x7fb326dcb310>]"
      ]
     },
     "execution_count": 56,
     "metadata": {},
     "output_type": "execute_result"
    },
    {
     "data": {
      "image/png": "[encoded data removed]",
      "text/plain": [
       "<Figure size 252x189 with 1 Axes>"
      ]
     },
     "metadata": {
      "needs_background": "light"
     },
     "output_type": "display_data"
    }
   ],
   "source": [
    "plt.plot(orb_gala.pos.x,orb_gala.pos.z)\n",
    "plt.plot(orbs[0][:,0],orbs[0][:,2],color='r',ls='--')"
   ]
  },
  {
   "cell_type": "code",
   "execution_count": 54,
   "id": "a056b072-a286-4563-aa07-1814cc728556",
   "metadata": {},
   "outputs": [
    {
     "data": {
      "text/plain": [
       "(20001, 6)"
      ]
     },
     "execution_count": 54,
     "metadata": {},
     "output_type": "execute_result"
    }
   ],
   "source": []
  },
  {
   "cell_type": "code",
   "execution_count": null,
   "id": "e4726938-c3eb-4ee9-bd97-0038e8cb7d87",
   "metadata": {},
   "outputs": [],
   "source": []
  }
 ],
 "metadata": {
  "kernelspec": {
   "display_name": "Python 3 (ipykernel)",
   "language": "python",
   "name": "python3"
  },
  "language_info": {
   "codemirror_mode": {
    "name": "ipython",
    "version": 3
   },
   "file_extension": ".py",
   "mimetype": "text/x-python",
   "name": "python",
   "nbconvert_exporter": "python",
   "pygments_lexer": "ipython3",
   "version": "3.8.12"
  }
 },
 "nbformat": 4,
 "nbformat_minor": 5
}
